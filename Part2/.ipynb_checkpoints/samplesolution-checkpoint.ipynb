{
 "cells": [
  {
   "cell_type": "markdown",
   "metadata": {},
   "source": [
    "## Exercises\n",
    "\n",
    "This task focuses on building and evaluating prediction models for a particular problem and dataset.\n",
    "The problem and data come from a credit scoring company concerned with reducing credit repayment risk. The company wants to use the data collected about their customers to build a data analytics solution for credit risk prediction.\n",
    "The main task is to use the information about the applicant in their credit report to predict whether they will repay their credit within 2 years. The target variable to predict is a binary variable called RiskPerformance. The value “Bad” indicates that a consumer was 90 days past due or worse at least once over a period of 24 months from when the credit account was opened. The value “Good” indicates that they have made their payments without ever being more than 90 days overdue. The dataset we work with is a sample of the data used in this data challenge: https://community.fico.com/s/explainable-machine-learning-challenge?tabset-3158a=2\n",
    "\n",
    "Our goal in this exercise is to work with the data to build and evaluate prediction models that capture the relationship between the descriptive features and the target feature 'RiskPerformance'. We use the same dataset allocated to you in Task1 (you can use your cleaned/prepared CSV from Task1 or, start from the raw dataset, clean it according to concepts covered in the lectures/labs, then use it for training prediction models).\n",
    " \n",
    "There are 5 parts for this homework. Each part has an indicative maximum percentage given in brackets, e.g., part (1) has a maximum of 25% shown as [25].\n",
    "\n",
    "\n",
    "(1). [25] **Data Understanding and Prep:** Exploring relationships between feature pairs and selecting/transforming promising features based on a training set.\n",
    "\n",
    "    - (1.1) Randomly shuffle the rows of your dataset and split the dataset into two datasets: 70% training and 30% test. Keep the test set aside. \n",
    "    - (1.2) On the training set:\n",
    "        - Plot the correlations between all the continuous features. Discuss what you see in these plots.\n",
    "        - For each continuous feature, plot its interaction with the target feature (a plot for each pair of continuous feature and target feature). Discuss what you observe from these plots, e.g., which continuous features seem to be better at predicting the target feature? Choose a subset of continuous features you find promising (if any). Justify your choices.\n",
    "        - For each categorical feature, plot its pairwise interaction with the target feature. Discuss what knowledge you gain from these plots, e.g., which categorical features seem to be better at predicting the target feature? Choose a subset of categorical features you find promising (if any). Justify your choices.\n",
    "      \n",
    "    \n",
    "(2). [15] **Predictive Modeling:** Linear Regression.  \n",
    "\n",
    "    - (2.1) On the training set, train a linear regression model to predict the target feature, using only the descriptive features selected in exercise (1) above. \n",
    "    - (2.2) Print the coefficients learned by the model and discuss their role in the model (e.g., interpret the model).    \n",
    "    - (2.3) Print the predicted target feature value for the first 100 training examples. Threshold the predicted target feature value given by the linear regression model at 0.5, to get the predicted class for each example. Print the predicted class for the first 100 examples. Print the classification evaluation measures computed on the training set (e.g., Accuracy, Confusion matrix, Precision, Recall, F1) and discuss your findings so far.\n",
    "    - (2.4) Evaluate the model using classification evaluation measures on the hold-out (30% examples) test set. Compare these results with the evaluation results obtained when using the training (70%) dataset for evaluation. Also compare these results with a cross-validated model (i.e., a new model trained and evaluated using cross-validation on the full dataset).\n",
    "    \n",
    "(3). [15] **Predictive Modeling:** Logistic Regression.  \n",
    "\n",
    "    - (3.1) On the training set, train a logistic regression model to predict the target feature, using the descriptive features selected in exercise (1) above.   \n",
    "    - (3.2) Print the coefficients learned by the model and discuss their role in the model (e.g., interpret the model).    \n",
    "    - (3.3) Print the predicted target feature value for the first 100 training examples. Print the predicted class for the first 100 examples. Print the classification evaluation measures computed on the training set (e.g., Accuracy, Confusion matrix, Precision, Recall, F1) and discuss your findings so far.\n",
    "    - (3.4) Evaluate the model using classification evaluation measures on the hold-out (30% examples) test set. Compare these results with the evaluation results obtained when using the training (70%) dataset for evaluation. Also compare these results with a cross-validated model (i.e., a new model trained and evaluated using cross-validation on the full dataset).\n",
    "    \n",
    "(4). [20] **Predictive Modeling:** Random Forest.  \n",
    "\n",
    "    - (4.1) On the training set, train a random forest model to predict the target feature, using the descriptive features selected in exercise (1) above.   \n",
    "    - (4.2) Can you interpret the random forest model? Discuss any knowledge you can gain for the working of this model.   \n",
    "    - (4.3) Print the predicted target feature value for the first 100 training examples. Print the predicted class for the first 100 examples. Print the classification evaluation measures computed on the training set (e.g., Accuracy, Confusion matrix, Precision, Recall, F1) and discuss your findings so far.\n",
    "    - (4.4) Evaluate the model using classification evaluation measures on the hold-out (30% examples) test set. Compare these results with the evaluation results obtained when using the training (70%) dataset for evaluation. Also compare these results with a cross-validated model (i.e., a new model trained and evaluated using cross-validation on the full dataset) and with the out-of-sample error.\n",
    "    \n",
    "(4). [25] **Improving Predictive Models.**\n",
    "\n",
    "    - (5.1) Which model of the ones trained above performs better at predicting the target feature? Is it more accurate than a simple model that always predicts the majority class (i.e., if RiskPerformance=0 is the majority class in your dataset, the simple model always predicts 0 for the target feature)? Justify your answers.\n",
    "    - (5.2) Summarise your understanding of the problem and of your predictive modeling results so far. Can you think of any new ideas to improve the best model so far (e.g., by using furher data prep such as: feature selection, feature re-scaling, creating new features, combining models, or using other knowledge)? Please show how your ideas actually work in practice, by training and evaluating your proposed models. Summarise your findings so far."
   ]
  },
  {
   "cell_type": "markdown",
   "metadata": {},
   "source": [
    "\n",
    "-----------------------------------------------------------------------------------------\n",
    "\n",
    "**Note: This notebook will take 3-4 minutes to run through from start to finish. The majority of this execution time is spent in section 5 where the random forest model is optimised**\n",
    "\n",
    "## Introduction\n",
    "- This notebook will apply the cleaned dataset from Task1 and use it to create 3 different models to predict whether an applicant for credit will repay their credit within 2 years.\n",
    "    - The value “Bad” or \"0\" indicates that a consumer was 90 days past due or worse at least once over a period of 24 months from when the credit account was opened. \n",
    "    - The value “Good” or \"1\" indicates that they have made their payments without ever being more than 90 days overdue.\n",
    "- Each model will be a supervised learning model and the output will be a binary classification. \n",
    "- For each applicant a number of features will be given (independent variables) and the target, risk performance (dependent variable), will be predicted.\n",
    "\n",
    "This homework will be broken down into 4 main parts:\n",
    "1. We will review the dataset from homework one and decide on which features to use to build our model\n",
    "2. We will create a Linear Regression model and analyse\n",
    "3. We will create a Logistical Regression model and analyse\n",
    "4. We will create a Random Forest model and analyse\n",
    "5. We will then try to optimized each model  "
   ]
  },
  {
   "cell_type": "code",
   "execution_count": 1,
   "metadata": {},
   "outputs": [],
   "source": [
    "import pandas as pd\n",
    "import numpy as np\n",
    "import seaborn as sns\n",
    "import matplotlib.pyplot as plt\n",
    "import matplotlib.patches as mpatches\n",
    "\n",
    "from patsy import dmatrices\n",
    "\n",
    "from sklearn.linear_model import LinearRegression\n",
    "from sklearn.linear_model import LogisticRegression\n",
    "from sklearn.tree import DecisionTreeClassifier\n",
    "from sklearn.ensemble import RandomForestClassifier\n",
    "from sklearn.model_selection import train_test_split\n",
    "from sklearn import metrics\n",
    "from sklearn.model_selection import cross_validate\n",
    "from sklearn.model_selection import cross_val_score\n",
    "from sklearn.tree import export_graphviz\n",
    "\n",
    "import graphviz\n",
    "from graphviz import Source\n",
    "\n",
    "# ignore warnings\n",
    "import warnings\n",
    "warnings.filterwarnings('ignore')"
   ]
  },
  {
   "cell_type": "markdown",
   "metadata": {},
   "source": [
    "# (1) Data understanding and prep:\n",
    "\n",
    "The original dataset from FICO has been cleaned (Task1) and is now imported as a starting point for this work. \n",
    "1. The accompanying data quality report from Task1 can be found attached as PDF as a background to this cleaned dataset;\n",
    "2. A summary of this plan can be seen in the table below;\n",
    "3. In addition a number of extra features were added (to to better capture the problem domain) that were not in the original dataset.\n",
    "    - DelqEver : Measures if an entry during their history has ever been delinquent\n",
    "    - DelqLast12M : Measures if an entry during the last 12 months has ever been delinquent\n",
    "    - PercentSatisfactoryTrades: Measure the Percentage of satisfactory trades\n",
    "    - NumTradesWBalance: Number of trades with a balance\n"
   ]
  },
  {
   "cell_type": "markdown",
   "metadata": {},
   "source": [
    "### Summary of data quality plan:\n",
    "\n",
    "| Variable Names                     | Data Quality Issue            | Handling Strategy              |\n",
    "|------------------------------------|-------------------------------|--------------------------------|\n",
    "| ExternalRiskEstimate               | Outliers                      | Do Nothing                     |\n",
    "| MSinceOldestTradeOpen              | Negative Value -8 (29 rows)   | Replace with median            |\n",
    "| MSinceMostRecentTradeOpen          | Outliers                      | Do Nothing                     |\n",
    "| AverageMInFile                     | Outliers                      | Do Nothing                     |\n",
    "| NumSatisfactoryTrades              | Outliers                      | Do Nothing                     |\n",
    "| NumTrades60Ever2DerogPubRec        | Outliers                      | Do Nothing                     |\n",
    "| NumTrades90Ever2DerogPubRec        | Outliers                      | Do Nothing                     |\n",
    "| PercentTradesNeverDelq             | Outliers                      | Do Nothing                     |\n",
    "| MSinceMostRecentDelq               | Negative Value -8 (13 rows)   | Replace with median            |\n",
    "| MSinceMostRecentDelq               | Negative Value -7 ( 438 rows) | Replace with 125               |\n",
    "| MSinceMostRecentDelq               | Outliers                      | Do Nothing                     |\n",
    "| MaxDelq2PublicRecLast12M           | Scale                         | Replace with MaxDelqEver scale |\n",
    "| MaxDelq2PublicRecLast12M           | Scale                         | Combine index 7 & 8            |\n",
    "| MaxDelqEver                        | Scale                         | Combine index 7 & 8            |\n",
    "| NumTotalTrades                     | Outliers                      | Do Nothing                     |\n",
    "| NumTradesOpeninLast12M             | Outliers                      | Do Nothing                     |\n",
    "| PercentInstallTrades               | Outliers                      | Do Nothing                     |\n",
    "| MSinceMostRecentInqexcl7days       | Negative Value -8 (46 rows)   | Replace with median            |\n",
    "| MSinceMostRecentInqexcl7days       | Negative Value -7 (171 rows)  | Replace with 36                |\n",
    "| MSinceMostRecentInqexcl7days       | Outliers                      | Do Nothing                     |\n",
    "| NumInqLast6M                       | Outliers                      | Do Nothing                     |\n",
    "| NumInqLast6Mexcl7days              | Outliers                      | Do Nothing                     |\n",
    "| NetFractionRevolvingBurden         | Negative Value -8 (12 rows)   | Replace with median            |\n",
    "| NetFractionRevolvingBurden         | Outliers                      | Do Nothing                     |\n",
    "| NetFractionInstallBurden           | Negative Value -8 (319 rows)  | Replace with Null              |\n",
    "| NetFractionInstallBurden           | Outliers                      | Do Nothing                     |\n",
    "| NumRevolvingTradesWBalance         | Negative Value -8 (10 rows)   | Replace with median            |\n",
    "| NumRevolvingTradesWBalance         | Outliers                      | Do Nothing                     |\n",
    "| NumInstallTradesWBalance           | Negative Value -8 (79 rows)   | Replace with median            |\n",
    "| NumInstallTradesWBalance           | Outliers                      | Do Nothing                     |\n",
    "| NumBank2NatlTradesWHighUtilization | Negative Value -8 (54 rows)   | Replace with median            |\n",
    "| NumBank2NatlTradesWHighUtilization | Outliers                      | Do Nothing                     |\n",
    "| PercentTradesWBalance              | Negative Value -8 (1 rows)    | Replace with median            |\n",
    "| PercentTradesWBalance              | Outliers                      | Do Nothing                     |"
   ]
  },
  {
   "cell_type": "markdown",
   "metadata": {},
   "source": [
    "##  1.1 Review, prepare and split the dataset into two datasets: 70% training and 30% test\n",
    "Here we will import cleaned dataset"
   ]
  },
  {
   "cell_type": "code",
   "execution_count": 6,
   "metadata": {},
   "outputs": [
    {
     "data": {
      "text/html": [
       "<div>\n",
       "<style scoped>\n",
       "    .dataframe tbody tr th:only-of-type {\n",
       "        vertical-align: middle;\n",
       "    }\n",
       "\n",
       "    .dataframe tbody tr th {\n",
       "        vertical-align: top;\n",
       "    }\n",
       "\n",
       "    .dataframe thead th {\n",
       "        text-align: right;\n",
       "    }\n",
       "</style>\n",
       "<table border=\"1\" class=\"dataframe\">\n",
       "  <thead>\n",
       "    <tr style=\"text-align: right;\">\n",
       "      <th></th>\n",
       "      <th>RiskPerformance</th>\n",
       "      <th>ExternalRiskEstimate</th>\n",
       "      <th>MSinceOldestTradeOpen</th>\n",
       "      <th>MSinceMostRecentTradeOpen</th>\n",
       "      <th>AverageMInFile</th>\n",
       "      <th>NumSatisfactoryTrades</th>\n",
       "      <th>NumTrades60Ever2DerogPubRec</th>\n",
       "      <th>NumTrades90Ever2DerogPubRec</th>\n",
       "      <th>PercentTradesNeverDelq</th>\n",
       "      <th>MSinceMostRecentDelq</th>\n",
       "      <th>...</th>\n",
       "      <th>NetFractionRevolvingBurden</th>\n",
       "      <th>NetFractionInstallBurden</th>\n",
       "      <th>NumRevolvingTradesWBalance</th>\n",
       "      <th>NumInstallTradesWBalance</th>\n",
       "      <th>NumBank2NatlTradesWHighUtilization</th>\n",
       "      <th>PercentTradesWBalance</th>\n",
       "      <th>DelqEver</th>\n",
       "      <th>DelqLast12M</th>\n",
       "      <th>PercentSatisfactoryTrades</th>\n",
       "      <th>NumTradesWBalance</th>\n",
       "    </tr>\n",
       "  </thead>\n",
       "  <tbody>\n",
       "    <tr>\n",
       "      <th>0</th>\n",
       "      <td>Bad</td>\n",
       "      <td>71</td>\n",
       "      <td>68</td>\n",
       "      <td>4</td>\n",
       "      <td>33</td>\n",
       "      <td>10</td>\n",
       "      <td>0</td>\n",
       "      <td>0</td>\n",
       "      <td>100</td>\n",
       "      <td>125</td>\n",
       "      <td>...</td>\n",
       "      <td>58</td>\n",
       "      <td>71.0</td>\n",
       "      <td>5</td>\n",
       "      <td>4</td>\n",
       "      <td>0.0</td>\n",
       "      <td>100</td>\n",
       "      <td>False</td>\n",
       "      <td>False</td>\n",
       "      <td>100.0</td>\n",
       "      <td>10</td>\n",
       "    </tr>\n",
       "    <tr>\n",
       "      <th>1</th>\n",
       "      <td>Good</td>\n",
       "      <td>73</td>\n",
       "      <td>85</td>\n",
       "      <td>6</td>\n",
       "      <td>40</td>\n",
       "      <td>17</td>\n",
       "      <td>1</td>\n",
       "      <td>0</td>\n",
       "      <td>94</td>\n",
       "      <td>11</td>\n",
       "      <td>...</td>\n",
       "      <td>10</td>\n",
       "      <td>NaN</td>\n",
       "      <td>3</td>\n",
       "      <td>2</td>\n",
       "      <td>0.0</td>\n",
       "      <td>36</td>\n",
       "      <td>True</td>\n",
       "      <td>True</td>\n",
       "      <td>94.0</td>\n",
       "      <td>6</td>\n",
       "    </tr>\n",
       "    <tr>\n",
       "      <th>2</th>\n",
       "      <td>Bad</td>\n",
       "      <td>64</td>\n",
       "      <td>51</td>\n",
       "      <td>6</td>\n",
       "      <td>22</td>\n",
       "      <td>15</td>\n",
       "      <td>0</td>\n",
       "      <td>0</td>\n",
       "      <td>100</td>\n",
       "      <td>125</td>\n",
       "      <td>...</td>\n",
       "      <td>61</td>\n",
       "      <td>84.0</td>\n",
       "      <td>10</td>\n",
       "      <td>3</td>\n",
       "      <td>1.0</td>\n",
       "      <td>100</td>\n",
       "      <td>False</td>\n",
       "      <td>False</td>\n",
       "      <td>62.0</td>\n",
       "      <td>24</td>\n",
       "    </tr>\n",
       "    <tr>\n",
       "      <th>3</th>\n",
       "      <td>Good</td>\n",
       "      <td>81</td>\n",
       "      <td>398</td>\n",
       "      <td>2</td>\n",
       "      <td>112</td>\n",
       "      <td>17</td>\n",
       "      <td>0</td>\n",
       "      <td>0</td>\n",
       "      <td>100</td>\n",
       "      <td>125</td>\n",
       "      <td>...</td>\n",
       "      <td>47</td>\n",
       "      <td>60.0</td>\n",
       "      <td>5</td>\n",
       "      <td>2</td>\n",
       "      <td>1.0</td>\n",
       "      <td>64</td>\n",
       "      <td>False</td>\n",
       "      <td>False</td>\n",
       "      <td>94.0</td>\n",
       "      <td>11</td>\n",
       "    </tr>\n",
       "    <tr>\n",
       "      <th>4</th>\n",
       "      <td>Good</td>\n",
       "      <td>66</td>\n",
       "      <td>209</td>\n",
       "      <td>19</td>\n",
       "      <td>89</td>\n",
       "      <td>29</td>\n",
       "      <td>0</td>\n",
       "      <td>0</td>\n",
       "      <td>83</td>\n",
       "      <td>6</td>\n",
       "      <td>...</td>\n",
       "      <td>43</td>\n",
       "      <td>74.0</td>\n",
       "      <td>8</td>\n",
       "      <td>8</td>\n",
       "      <td>1.0</td>\n",
       "      <td>94</td>\n",
       "      <td>True</td>\n",
       "      <td>True</td>\n",
       "      <td>97.0</td>\n",
       "      <td>28</td>\n",
       "    </tr>\n",
       "  </tbody>\n",
       "</table>\n",
       "<p>5 rows × 28 columns</p>\n",
       "</div>"
      ],
      "text/plain": [
       "  RiskPerformance  ExternalRiskEstimate  MSinceOldestTradeOpen  \\\n",
       "0             Bad                    71                     68   \n",
       "1            Good                    73                     85   \n",
       "2             Bad                    64                     51   \n",
       "3            Good                    81                    398   \n",
       "4            Good                    66                    209   \n",
       "\n",
       "   MSinceMostRecentTradeOpen  AverageMInFile  NumSatisfactoryTrades  \\\n",
       "0                          4              33                     10   \n",
       "1                          6              40                     17   \n",
       "2                          6              22                     15   \n",
       "3                          2             112                     17   \n",
       "4                         19              89                     29   \n",
       "\n",
       "   NumTrades60Ever2DerogPubRec  NumTrades90Ever2DerogPubRec  \\\n",
       "0                            0                            0   \n",
       "1                            1                            0   \n",
       "2                            0                            0   \n",
       "3                            0                            0   \n",
       "4                            0                            0   \n",
       "\n",
       "   PercentTradesNeverDelq  MSinceMostRecentDelq  ...  \\\n",
       "0                     100                   125  ...   \n",
       "1                      94                    11  ...   \n",
       "2                     100                   125  ...   \n",
       "3                     100                   125  ...   \n",
       "4                      83                     6  ...   \n",
       "\n",
       "   NetFractionRevolvingBurden  NetFractionInstallBurden  \\\n",
       "0                          58                      71.0   \n",
       "1                          10                       NaN   \n",
       "2                          61                      84.0   \n",
       "3                          47                      60.0   \n",
       "4                          43                      74.0   \n",
       "\n",
       "   NumRevolvingTradesWBalance  NumInstallTradesWBalance  \\\n",
       "0                           5                         4   \n",
       "1                           3                         2   \n",
       "2                          10                         3   \n",
       "3                           5                         2   \n",
       "4                           8                         8   \n",
       "\n",
       "   NumBank2NatlTradesWHighUtilization  PercentTradesWBalance  DelqEver  \\\n",
       "0                                 0.0                    100     False   \n",
       "1                                 0.0                     36      True   \n",
       "2                                 1.0                    100     False   \n",
       "3                                 1.0                     64     False   \n",
       "4                                 1.0                     94      True   \n",
       "\n",
       "   DelqLast12M  PercentSatisfactoryTrades  NumTradesWBalance  \n",
       "0        False                      100.0                 10  \n",
       "1         True                       94.0                  6  \n",
       "2        False                       62.0                 24  \n",
       "3        False                       94.0                 11  \n",
       "4         True                       97.0                 28  \n",
       "\n",
       "[5 rows x 28 columns]"
      ]
     },
     "execution_count": 6,
     "metadata": {},
     "output_type": "execute_result"
    }
   ],
   "source": [
    "# read in the cleaned csv\n",
    "df = pd.read_csv(\"CreditRisk_1-3_cleaned_new_features.csv\", keep_default_na=True, sep=',\\s+', delimiter=',', skipinitialspace=True)\n",
    "# remove 'percent' feature that was used only for generating the stacked bar plot from the last homework. This should have been deleted in the last homework\n",
    "df = df.drop(\"percent\", 1)\n",
    "df.head(5)"
   ]
  },
  {
   "cell_type": "markdown",
   "metadata": {},
   "source": [
    "After importing the cleaned csv, as a reminder we will check the shape, inspect the datatypes and check for any remaining null values"
   ]
  },
  {
   "cell_type": "code",
   "execution_count": 7,
   "metadata": {},
   "outputs": [
    {
     "data": {
      "text/plain": [
       "(841, 28)"
      ]
     },
     "execution_count": 7,
     "metadata": {},
     "output_type": "execute_result"
    }
   ],
   "source": [
    "df.shape"
   ]
  },
  {
   "cell_type": "code",
   "execution_count": 8,
   "metadata": {},
   "outputs": [
    {
     "data": {
      "text/plain": [
       "RiskPerformance                        object\n",
       "ExternalRiskEstimate                    int64\n",
       "MSinceOldestTradeOpen                   int64\n",
       "MSinceMostRecentTradeOpen               int64\n",
       "AverageMInFile                          int64\n",
       "NumSatisfactoryTrades                   int64\n",
       "NumTrades60Ever2DerogPubRec             int64\n",
       "NumTrades90Ever2DerogPubRec             int64\n",
       "PercentTradesNeverDelq                  int64\n",
       "MSinceMostRecentDelq                    int64\n",
       "MaxDelq2PublicRecLast12M                int64\n",
       "MaxDelqEver                             int64\n",
       "NumTotalTrades                          int64\n",
       "NumTradesOpeninLast12M                  int64\n",
       "PercentInstallTrades                    int64\n",
       "MSinceMostRecentInqexcl7days            int64\n",
       "NumInqLast6M                            int64\n",
       "NumInqLast6Mexcl7days                   int64\n",
       "NetFractionRevolvingBurden              int64\n",
       "NetFractionInstallBurden              float64\n",
       "NumRevolvingTradesWBalance              int64\n",
       "NumInstallTradesWBalance                int64\n",
       "NumBank2NatlTradesWHighUtilization    float64\n",
       "PercentTradesWBalance                   int64\n",
       "DelqEver                                 bool\n",
       "DelqLast12M                              bool\n",
       "PercentSatisfactoryTrades             float64\n",
       "NumTradesWBalance                       int64\n",
       "dtype: object"
      ]
     },
     "execution_count": 8,
     "metadata": {},
     "output_type": "execute_result"
    }
   ],
   "source": [
    "df.dtypes"
   ]
  },
  {
   "cell_type": "code",
   "execution_count": 9,
   "metadata": {},
   "outputs": [
    {
     "data": {
      "text/plain": [
       "RiskPerformance                         0\n",
       "ExternalRiskEstimate                    0\n",
       "MSinceOldestTradeOpen                   0\n",
       "MSinceMostRecentTradeOpen               0\n",
       "AverageMInFile                          0\n",
       "NumSatisfactoryTrades                   0\n",
       "NumTrades60Ever2DerogPubRec             0\n",
       "NumTrades90Ever2DerogPubRec             0\n",
       "PercentTradesNeverDelq                  0\n",
       "MSinceMostRecentDelq                    0\n",
       "MaxDelq2PublicRecLast12M                0\n",
       "MaxDelqEver                             0\n",
       "NumTotalTrades                          0\n",
       "NumTradesOpeninLast12M                  0\n",
       "PercentInstallTrades                    0\n",
       "MSinceMostRecentInqexcl7days            0\n",
       "NumInqLast6M                            0\n",
       "NumInqLast6Mexcl7days                   0\n",
       "NetFractionRevolvingBurden              0\n",
       "NetFractionInstallBurden              287\n",
       "NumRevolvingTradesWBalance              0\n",
       "NumInstallTradesWBalance                0\n",
       "NumBank2NatlTradesWHighUtilization      0\n",
       "PercentTradesWBalance                   0\n",
       "DelqEver                                0\n",
       "DelqLast12M                             0\n",
       "PercentSatisfactoryTrades               0\n",
       "NumTradesWBalance                       0\n",
       "dtype: int64"
      ]
     },
     "execution_count": 9,
     "metadata": {},
     "output_type": "execute_result"
    }
   ],
   "source": [
    "df.isna().sum()"
   ]
  },
  {
   "cell_type": "markdown",
   "metadata": {},
   "source": [
    "#### Convert datatypes for plotting later\n",
    "We will now review the datatypes and convert if needed. This will help avoid plotting errors later in the notebook\n",
    "- The target feature \"Risk Performance\" is type object, with values \"Good\" & \"Bad\". These will be mapped 'Good': 1, \"Bad\": 0 and stored as \"int64\"\n",
    "- Categorical features \"DelqEver\" & \"DelqLast12M\" are boolean False/True values. These will be converted to \"int64\" with value of 0,1\n",
    "- Some Continuous features are float64 type:\n",
    "    - PercentSatisfactoryTrades is a derived feature from assignment 1 and is a float64. This can be converted to int64 without losing any information as the values were already rounded \n",
    "    - NumBank2NatlTradesWHighUtilization was an int64 and was cast to a float64 when performing imputation. It will now be converted back to int64"
   ]
  },
  {
   "cell_type": "code",
   "execution_count": 10,
   "metadata": {},
   "outputs": [],
   "source": [
    "# convert riskperformance to 0,1\n",
    "df['RiskPerformance'] = df['RiskPerformance'].map({'Good': 1, \"Bad\": 0})\n",
    "# convert \"DelqEver\" & \"DelqLast12M\" to boolean\n",
    "df[['DelqEver', 'DelqLast12M']] = df[['DelqEver', 'DelqLast12M']].astype('int64')\n",
    "# convert floats to ints\n",
    "df['NumBank2NatlTradesWHighUtilization'] = df['NumBank2NatlTradesWHighUtilization'].astype('int64')\n",
    "df['PercentSatisfactoryTrades'] = df['PercentSatisfactoryTrades'].astype('int64')"
   ]
  },
  {
   "cell_type": "markdown",
   "metadata": {},
   "source": [
    "#### Deal with NaN values\n",
    "NaN values appear in the feature NetFractionInstallBurden will need to be dealt with (removed) before any modeling takes place\n",
    "- NetFractionInstallBurden is also a float64. From Task1, replacing -8 values with NaN values had the side effect of converting the datatype from int64 to float64 \n",
    "- We will look at 3 options to deal with theses NaN values;\n",
    "     1. Perform imputation with the median\n",
    "     2. Replace with strange value e.g. 999\n",
    "     3. Drop the feature\n",
    "- Each of these options will be evaluated and one will be chosen\n",
    "- Two additional features will now be created to capture these options "
   ]
  },
  {
   "cell_type": "code",
   "execution_count": 11,
   "metadata": {},
   "outputs": [],
   "source": [
    "# 1. Perform imputation with median\n",
    "df['NetFractionInstallBurden_imputation'] = df['NetFractionInstallBurden'].fillna(df['NetFractionInstallBurden'].median()).astype('int64')\n",
    "# 2. Replace with strange value e.g. 999\n",
    "df['NetFractionInstallBurden_strange_value'] = df['NetFractionInstallBurden'].fillna(999).astype('int64')"
   ]
  },
  {
   "cell_type": "markdown",
   "metadata": {},
   "source": [
    "Show correlation with the target for each new feature"
   ]
  },
  {
   "cell_type": "code",
   "execution_count": 12,
   "metadata": {},
   "outputs": [
    {
     "data": {
      "text/html": [
       "<div>\n",
       "<style scoped>\n",
       "    .dataframe tbody tr th:only-of-type {\n",
       "        vertical-align: middle;\n",
       "    }\n",
       "\n",
       "    .dataframe tbody tr th {\n",
       "        vertical-align: top;\n",
       "    }\n",
       "\n",
       "    .dataframe thead th {\n",
       "        text-align: right;\n",
       "    }\n",
       "</style>\n",
       "<table border=\"1\" class=\"dataframe\">\n",
       "  <thead>\n",
       "    <tr style=\"text-align: right;\">\n",
       "      <th></th>\n",
       "      <th>NetFractionInstallBurden_imputation</th>\n",
       "      <th>NetFractionInstallBurden_strange_value</th>\n",
       "      <th>NetFractionInstallBurden</th>\n",
       "      <th>RiskPerformance</th>\n",
       "    </tr>\n",
       "  </thead>\n",
       "  <tbody>\n",
       "    <tr>\n",
       "      <th>NetFractionInstallBurden_imputation</th>\n",
       "      <td>1.000000</td>\n",
       "      <td>0.145821</td>\n",
       "      <td>1.000000</td>\n",
       "      <td>-0.096155</td>\n",
       "    </tr>\n",
       "    <tr>\n",
       "      <th>NetFractionInstallBurden_strange_value</th>\n",
       "      <td>0.145821</td>\n",
       "      <td>1.000000</td>\n",
       "      <td>1.000000</td>\n",
       "      <td>0.079253</td>\n",
       "    </tr>\n",
       "    <tr>\n",
       "      <th>NetFractionInstallBurden</th>\n",
       "      <td>1.000000</td>\n",
       "      <td>1.000000</td>\n",
       "      <td>1.000000</td>\n",
       "      <td>-0.130728</td>\n",
       "    </tr>\n",
       "    <tr>\n",
       "      <th>RiskPerformance</th>\n",
       "      <td>-0.096155</td>\n",
       "      <td>0.079253</td>\n",
       "      <td>-0.130728</td>\n",
       "      <td>1.000000</td>\n",
       "    </tr>\n",
       "  </tbody>\n",
       "</table>\n",
       "</div>"
      ],
      "text/plain": [
       "                                        NetFractionInstallBurden_imputation  \\\n",
       "NetFractionInstallBurden_imputation                                1.000000   \n",
       "NetFractionInstallBurden_strange_value                             0.145821   \n",
       "NetFractionInstallBurden                                           1.000000   \n",
       "RiskPerformance                                                   -0.096155   \n",
       "\n",
       "                                        NetFractionInstallBurden_strange_value  \\\n",
       "NetFractionInstallBurden_imputation                                   0.145821   \n",
       "NetFractionInstallBurden_strange_value                                1.000000   \n",
       "NetFractionInstallBurden                                              1.000000   \n",
       "RiskPerformance                                                       0.079253   \n",
       "\n",
       "                                        NetFractionInstallBurden  \\\n",
       "NetFractionInstallBurden_imputation                     1.000000   \n",
       "NetFractionInstallBurden_strange_value                  1.000000   \n",
       "NetFractionInstallBurden                                1.000000   \n",
       "RiskPerformance                                        -0.130728   \n",
       "\n",
       "                                        RiskPerformance  \n",
       "NetFractionInstallBurden_imputation           -0.096155  \n",
       "NetFractionInstallBurden_strange_value         0.079253  \n",
       "NetFractionInstallBurden                      -0.130728  \n",
       "RiskPerformance                                1.000000  "
      ]
     },
     "execution_count": 12,
     "metadata": {},
     "output_type": "execute_result"
    }
   ],
   "source": [
    "NetFractionInstallBurden_corr = df[['NetFractionInstallBurden_imputation','NetFractionInstallBurden_strange_value','NetFractionInstallBurden', 'RiskPerformance']].corr()\n",
    "NetFractionInstallBurden_corr"
   ]
  },
  {
   "cell_type": "markdown",
   "metadata": {},
   "source": [
    "Reviewing the correlations above:\n",
    "0. NetFractionInstallBurden (-.1307) - Original & best correlation - Unfortunately we cannot keep it as it contains Nan values. \n",
    "1. NetFractionInstallBurden_imputation (-0.0962) - Closest to original\n",
    "2. NetFractionInstallBurden_strange_value (0.0792) - Replacing with strange value has turned this feature into a positive correlation - likely lost any meaning\n",
    "3. Drop Feature - Lose too much information\n",
    "\n",
    "Based on this evaluation we will keep 'NetFractionInstallBurden_imputation' and drop the other options"
   ]
  },
  {
   "cell_type": "code",
   "execution_count": 13,
   "metadata": {},
   "outputs": [],
   "source": [
    "#Drop the other features\n",
    "df = df.drop(['NetFractionInstallBurden','NetFractionInstallBurden_strange_value',],1)"
   ]
  },
  {
   "cell_type": "markdown",
   "metadata": {},
   "source": [
    "The shape resulting, data types and null values can now be seen below"
   ]
  },
  {
   "cell_type": "code",
   "execution_count": 14,
   "metadata": {},
   "outputs": [
    {
     "data": {
      "text/plain": [
       "(841, 28)"
      ]
     },
     "execution_count": 14,
     "metadata": {},
     "output_type": "execute_result"
    }
   ],
   "source": [
    "df.shape"
   ]
  },
  {
   "cell_type": "code",
   "execution_count": 15,
   "metadata": {},
   "outputs": [
    {
     "data": {
      "text/plain": [
       "RiskPerformance                        int64\n",
       "ExternalRiskEstimate                   int64\n",
       "MSinceOldestTradeOpen                  int64\n",
       "MSinceMostRecentTradeOpen              int64\n",
       "AverageMInFile                         int64\n",
       "NumSatisfactoryTrades                  int64\n",
       "NumTrades60Ever2DerogPubRec            int64\n",
       "NumTrades90Ever2DerogPubRec            int64\n",
       "PercentTradesNeverDelq                 int64\n",
       "MSinceMostRecentDelq                   int64\n",
       "MaxDelq2PublicRecLast12M               int64\n",
       "MaxDelqEver                            int64\n",
       "NumTotalTrades                         int64\n",
       "NumTradesOpeninLast12M                 int64\n",
       "PercentInstallTrades                   int64\n",
       "MSinceMostRecentInqexcl7days           int64\n",
       "NumInqLast6M                           int64\n",
       "NumInqLast6Mexcl7days                  int64\n",
       "NetFractionRevolvingBurden             int64\n",
       "NumRevolvingTradesWBalance             int64\n",
       "NumInstallTradesWBalance               int64\n",
       "NumBank2NatlTradesWHighUtilization     int64\n",
       "PercentTradesWBalance                  int64\n",
       "DelqEver                               int64\n",
       "DelqLast12M                            int64\n",
       "PercentSatisfactoryTrades              int64\n",
       "NumTradesWBalance                      int64\n",
       "NetFractionInstallBurden_imputation    int64\n",
       "dtype: object"
      ]
     },
     "execution_count": 15,
     "metadata": {},
     "output_type": "execute_result"
    }
   ],
   "source": [
    "df.dtypes"
   ]
  },
  {
   "cell_type": "code",
   "execution_count": 16,
   "metadata": {},
   "outputs": [
    {
     "data": {
      "text/plain": [
       "RiskPerformance                        0\n",
       "ExternalRiskEstimate                   0\n",
       "MSinceOldestTradeOpen                  0\n",
       "MSinceMostRecentTradeOpen              0\n",
       "AverageMInFile                         0\n",
       "NumSatisfactoryTrades                  0\n",
       "NumTrades60Ever2DerogPubRec            0\n",
       "NumTrades90Ever2DerogPubRec            0\n",
       "PercentTradesNeverDelq                 0\n",
       "MSinceMostRecentDelq                   0\n",
       "MaxDelq2PublicRecLast12M               0\n",
       "MaxDelqEver                            0\n",
       "NumTotalTrades                         0\n",
       "NumTradesOpeninLast12M                 0\n",
       "PercentInstallTrades                   0\n",
       "MSinceMostRecentInqexcl7days           0\n",
       "NumInqLast6M                           0\n",
       "NumInqLast6Mexcl7days                  0\n",
       "NetFractionRevolvingBurden             0\n",
       "NumRevolvingTradesWBalance             0\n",
       "NumInstallTradesWBalance               0\n",
       "NumBank2NatlTradesWHighUtilization     0\n",
       "PercentTradesWBalance                  0\n",
       "DelqEver                               0\n",
       "DelqLast12M                            0\n",
       "PercentSatisfactoryTrades              0\n",
       "NumTradesWBalance                      0\n",
       "NetFractionInstallBurden_imputation    0\n",
       "dtype: int64"
      ]
     },
     "execution_count": 16,
     "metadata": {},
     "output_type": "execute_result"
    }
   ],
   "source": [
    "df.isna().sum()"
   ]
  },
  {
   "cell_type": "markdown",
   "metadata": {},
   "source": [
    "#### Setup Column types\n",
    "We will now setup the continuous, categorical, target features\n",
    "\n",
    "##### Select all categorical columns and convert to categorical type\n",
    " - This will be needed later when it will be required to convert categorical features into dummy features for modeling"
   ]
  },
  {
   "cell_type": "code",
   "execution_count": 17,
   "metadata": {},
   "outputs": [
    {
     "data": {
      "text/plain": [
       "RiskPerformance             category\n",
       "MaxDelq2PublicRecLast12M    category\n",
       "MaxDelqEver                 category\n",
       "DelqEver                    category\n",
       "DelqLast12M                 category\n",
       "dtype: object"
      ]
     },
     "execution_count": 17,
     "metadata": {},
     "output_type": "execute_result"
    }
   ],
   "source": [
    "# Select columns containing categorical data\n",
    "categorical_columns = df[[\"RiskPerformance\",\"MaxDelq2PublicRecLast12M\",\"MaxDelqEver\",\"DelqEver\",\"DelqLast12M\"]].columns\n",
    "\n",
    "# Convert data type to category for these columns\n",
    "for column in categorical_columns:\n",
    "    df[column] = df[column].astype('category')\n",
    "\n",
    "df[categorical_columns].dtypes"
   ]
  },
  {
   "cell_type": "markdown",
   "metadata": {},
   "source": [
    "##### Setup continuous columns as all the remaining columns that are not category i.e. they are int64"
   ]
  },
  {
   "cell_type": "code",
   "execution_count": 18,
   "metadata": {},
   "outputs": [
    {
     "data": {
      "text/plain": [
       "ExternalRiskEstimate                   int64\n",
       "MSinceOldestTradeOpen                  int64\n",
       "MSinceMostRecentTradeOpen              int64\n",
       "AverageMInFile                         int64\n",
       "NumSatisfactoryTrades                  int64\n",
       "NumTrades60Ever2DerogPubRec            int64\n",
       "NumTrades90Ever2DerogPubRec            int64\n",
       "PercentTradesNeverDelq                 int64\n",
       "MSinceMostRecentDelq                   int64\n",
       "NumTotalTrades                         int64\n",
       "NumTradesOpeninLast12M                 int64\n",
       "PercentInstallTrades                   int64\n",
       "MSinceMostRecentInqexcl7days           int64\n",
       "NumInqLast6M                           int64\n",
       "NumInqLast6Mexcl7days                  int64\n",
       "NetFractionRevolvingBurden             int64\n",
       "NumRevolvingTradesWBalance             int64\n",
       "NumInstallTradesWBalance               int64\n",
       "NumBank2NatlTradesWHighUtilization     int64\n",
       "PercentTradesWBalance                  int64\n",
       "PercentSatisfactoryTrades              int64\n",
       "NumTradesWBalance                      int64\n",
       "NetFractionInstallBurden_imputation    int64\n",
       "dtype: object"
      ]
     },
     "execution_count": 18,
     "metadata": {},
     "output_type": "execute_result"
    }
   ],
   "source": [
    "continuous_columns = df.select_dtypes(['int64']).columns\n",
    "df[continuous_columns].dtypes"
   ]
  },
  {
   "cell_type": "markdown",
   "metadata": {},
   "source": [
    "##### Finally set the target feature \"RiskPerformance\" to int64 \n",
    "- RiskPerformance is a categorical feature but it is also the target feature\n",
    "- To allow continuous features to plot against the target, it will need to be int64 type\n",
    "- We will also remove it from the list of categorical columns"
   ]
  },
  {
   "cell_type": "code",
   "execution_count": 19,
   "metadata": {},
   "outputs": [],
   "source": [
    "# convert \"RiskPerformance\" to int64\n",
    "df['RiskPerformance'] = df['RiskPerformance'].astype('int64')\n",
    "# categorical_columns are now....\n",
    "categorical_columns = df[[\"MaxDelq2PublicRecLast12M\",\"MaxDelqEver\",\"DelqEver\",\"DelqLast12M\"]].columns"
   ]
  },
  {
   "cell_type": "markdown",
   "metadata": {},
   "source": [
    "Current status of data types"
   ]
  },
  {
   "cell_type": "code",
   "execution_count": 20,
   "metadata": {},
   "outputs": [
    {
     "data": {
      "text/plain": [
       "RiskPerformance                           int64\n",
       "ExternalRiskEstimate                      int64\n",
       "MSinceOldestTradeOpen                     int64\n",
       "MSinceMostRecentTradeOpen                 int64\n",
       "AverageMInFile                            int64\n",
       "NumSatisfactoryTrades                     int64\n",
       "NumTrades60Ever2DerogPubRec               int64\n",
       "NumTrades90Ever2DerogPubRec               int64\n",
       "PercentTradesNeverDelq                    int64\n",
       "MSinceMostRecentDelq                      int64\n",
       "MaxDelq2PublicRecLast12M               category\n",
       "MaxDelqEver                            category\n",
       "NumTotalTrades                            int64\n",
       "NumTradesOpeninLast12M                    int64\n",
       "PercentInstallTrades                      int64\n",
       "MSinceMostRecentInqexcl7days              int64\n",
       "NumInqLast6M                              int64\n",
       "NumInqLast6Mexcl7days                     int64\n",
       "NetFractionRevolvingBurden                int64\n",
       "NumRevolvingTradesWBalance                int64\n",
       "NumInstallTradesWBalance                  int64\n",
       "NumBank2NatlTradesWHighUtilization        int64\n",
       "PercentTradesWBalance                     int64\n",
       "DelqEver                               category\n",
       "DelqLast12M                            category\n",
       "PercentSatisfactoryTrades                 int64\n",
       "NumTradesWBalance                         int64\n",
       "NetFractionInstallBurden_imputation       int64\n",
       "dtype: object"
      ]
     },
     "execution_count": 20,
     "metadata": {},
     "output_type": "execute_result"
    }
   ],
   "source": [
    "df.dtypes"
   ]
  },
  {
   "cell_type": "markdown",
   "metadata": {},
   "source": [
    "##### We will now shuffle the dataframe before splitting the dataset\n",
    "- This step is strictly not necessary as performing train/test split will also shuffle the dataframe"
   ]
  },
  {
   "cell_type": "code",
   "execution_count": 21,
   "metadata": {},
   "outputs": [
    {
     "data": {
      "text/html": [
       "<div>\n",
       "<style scoped>\n",
       "    .dataframe tbody tr th:only-of-type {\n",
       "        vertical-align: middle;\n",
       "    }\n",
       "\n",
       "    .dataframe tbody tr th {\n",
       "        vertical-align: top;\n",
       "    }\n",
       "\n",
       "    .dataframe thead th {\n",
       "        text-align: right;\n",
       "    }\n",
       "</style>\n",
       "<table border=\"1\" class=\"dataframe\">\n",
       "  <thead>\n",
       "    <tr style=\"text-align: right;\">\n",
       "      <th></th>\n",
       "      <th>RiskPerformance</th>\n",
       "      <th>ExternalRiskEstimate</th>\n",
       "      <th>MSinceOldestTradeOpen</th>\n",
       "      <th>MSinceMostRecentTradeOpen</th>\n",
       "      <th>AverageMInFile</th>\n",
       "      <th>NumSatisfactoryTrades</th>\n",
       "      <th>NumTrades60Ever2DerogPubRec</th>\n",
       "      <th>NumTrades90Ever2DerogPubRec</th>\n",
       "      <th>PercentTradesNeverDelq</th>\n",
       "      <th>MSinceMostRecentDelq</th>\n",
       "      <th>...</th>\n",
       "      <th>NetFractionRevolvingBurden</th>\n",
       "      <th>NumRevolvingTradesWBalance</th>\n",
       "      <th>NumInstallTradesWBalance</th>\n",
       "      <th>NumBank2NatlTradesWHighUtilization</th>\n",
       "      <th>PercentTradesWBalance</th>\n",
       "      <th>DelqEver</th>\n",
       "      <th>DelqLast12M</th>\n",
       "      <th>PercentSatisfactoryTrades</th>\n",
       "      <th>NumTradesWBalance</th>\n",
       "      <th>NetFractionInstallBurden_imputation</th>\n",
       "    </tr>\n",
       "  </thead>\n",
       "  <tbody>\n",
       "    <tr>\n",
       "      <th>0</th>\n",
       "      <td>0</td>\n",
       "      <td>71</td>\n",
       "      <td>68</td>\n",
       "      <td>4</td>\n",
       "      <td>33</td>\n",
       "      <td>10</td>\n",
       "      <td>0</td>\n",
       "      <td>0</td>\n",
       "      <td>100</td>\n",
       "      <td>125</td>\n",
       "      <td>...</td>\n",
       "      <td>58</td>\n",
       "      <td>5</td>\n",
       "      <td>4</td>\n",
       "      <td>0</td>\n",
       "      <td>100</td>\n",
       "      <td>0</td>\n",
       "      <td>0</td>\n",
       "      <td>100</td>\n",
       "      <td>10</td>\n",
       "      <td>71</td>\n",
       "    </tr>\n",
       "    <tr>\n",
       "      <th>1</th>\n",
       "      <td>1</td>\n",
       "      <td>73</td>\n",
       "      <td>85</td>\n",
       "      <td>6</td>\n",
       "      <td>40</td>\n",
       "      <td>17</td>\n",
       "      <td>1</td>\n",
       "      <td>0</td>\n",
       "      <td>94</td>\n",
       "      <td>11</td>\n",
       "      <td>...</td>\n",
       "      <td>10</td>\n",
       "      <td>3</td>\n",
       "      <td>2</td>\n",
       "      <td>0</td>\n",
       "      <td>36</td>\n",
       "      <td>1</td>\n",
       "      <td>1</td>\n",
       "      <td>94</td>\n",
       "      <td>6</td>\n",
       "      <td>72</td>\n",
       "    </tr>\n",
       "    <tr>\n",
       "      <th>2</th>\n",
       "      <td>0</td>\n",
       "      <td>64</td>\n",
       "      <td>51</td>\n",
       "      <td>6</td>\n",
       "      <td>22</td>\n",
       "      <td>15</td>\n",
       "      <td>0</td>\n",
       "      <td>0</td>\n",
       "      <td>100</td>\n",
       "      <td>125</td>\n",
       "      <td>...</td>\n",
       "      <td>61</td>\n",
       "      <td>10</td>\n",
       "      <td>3</td>\n",
       "      <td>1</td>\n",
       "      <td>100</td>\n",
       "      <td>0</td>\n",
       "      <td>0</td>\n",
       "      <td>62</td>\n",
       "      <td>24</td>\n",
       "      <td>84</td>\n",
       "    </tr>\n",
       "    <tr>\n",
       "      <th>3</th>\n",
       "      <td>1</td>\n",
       "      <td>81</td>\n",
       "      <td>398</td>\n",
       "      <td>2</td>\n",
       "      <td>112</td>\n",
       "      <td>17</td>\n",
       "      <td>0</td>\n",
       "      <td>0</td>\n",
       "      <td>100</td>\n",
       "      <td>125</td>\n",
       "      <td>...</td>\n",
       "      <td>47</td>\n",
       "      <td>5</td>\n",
       "      <td>2</td>\n",
       "      <td>1</td>\n",
       "      <td>64</td>\n",
       "      <td>0</td>\n",
       "      <td>0</td>\n",
       "      <td>94</td>\n",
       "      <td>11</td>\n",
       "      <td>60</td>\n",
       "    </tr>\n",
       "    <tr>\n",
       "      <th>4</th>\n",
       "      <td>1</td>\n",
       "      <td>66</td>\n",
       "      <td>209</td>\n",
       "      <td>19</td>\n",
       "      <td>89</td>\n",
       "      <td>29</td>\n",
       "      <td>0</td>\n",
       "      <td>0</td>\n",
       "      <td>83</td>\n",
       "      <td>6</td>\n",
       "      <td>...</td>\n",
       "      <td>43</td>\n",
       "      <td>8</td>\n",
       "      <td>8</td>\n",
       "      <td>1</td>\n",
       "      <td>94</td>\n",
       "      <td>1</td>\n",
       "      <td>1</td>\n",
       "      <td>97</td>\n",
       "      <td>28</td>\n",
       "      <td>74</td>\n",
       "    </tr>\n",
       "  </tbody>\n",
       "</table>\n",
       "<p>5 rows × 28 columns</p>\n",
       "</div>"
      ],
      "text/plain": [
       "   RiskPerformance  ExternalRiskEstimate  MSinceOldestTradeOpen  \\\n",
       "0                0                    71                     68   \n",
       "1                1                    73                     85   \n",
       "2                0                    64                     51   \n",
       "3                1                    81                    398   \n",
       "4                1                    66                    209   \n",
       "\n",
       "   MSinceMostRecentTradeOpen  AverageMInFile  NumSatisfactoryTrades  \\\n",
       "0                          4              33                     10   \n",
       "1                          6              40                     17   \n",
       "2                          6              22                     15   \n",
       "3                          2             112                     17   \n",
       "4                         19              89                     29   \n",
       "\n",
       "   NumTrades60Ever2DerogPubRec  NumTrades90Ever2DerogPubRec  \\\n",
       "0                            0                            0   \n",
       "1                            1                            0   \n",
       "2                            0                            0   \n",
       "3                            0                            0   \n",
       "4                            0                            0   \n",
       "\n",
       "   PercentTradesNeverDelq  MSinceMostRecentDelq  ...  \\\n",
       "0                     100                   125  ...   \n",
       "1                      94                    11  ...   \n",
       "2                     100                   125  ...   \n",
       "3                     100                   125  ...   \n",
       "4                      83                     6  ...   \n",
       "\n",
       "  NetFractionRevolvingBurden NumRevolvingTradesWBalance  \\\n",
       "0                         58                          5   \n",
       "1                         10                          3   \n",
       "2                         61                         10   \n",
       "3                         47                          5   \n",
       "4                         43                          8   \n",
       "\n",
       "   NumInstallTradesWBalance  NumBank2NatlTradesWHighUtilization  \\\n",
       "0                         4                                   0   \n",
       "1                         2                                   0   \n",
       "2                         3                                   1   \n",
       "3                         2                                   1   \n",
       "4                         8                                   1   \n",
       "\n",
       "   PercentTradesWBalance  DelqEver  DelqLast12M  PercentSatisfactoryTrades  \\\n",
       "0                    100         0            0                        100   \n",
       "1                     36         1            1                         94   \n",
       "2                    100         0            0                         62   \n",
       "3                     64         0            0                         94   \n",
       "4                     94         1            1                         97   \n",
       "\n",
       "   NumTradesWBalance  NetFractionInstallBurden_imputation  \n",
       "0                 10                                   71  \n",
       "1                  6                                   72  \n",
       "2                 24                                   84  \n",
       "3                 11                                   60  \n",
       "4                 28                                   74  \n",
       "\n",
       "[5 rows x 28 columns]"
      ]
     },
     "execution_count": 21,
     "metadata": {},
     "output_type": "execute_result"
    }
   ],
   "source": [
    "# randomly generate sequence based on dataframe index and set to be new index\n",
    "df.set_index(np.random.permutation(df.index))\n",
    "# sort the resulting random index\n",
    "df.sort_index(inplace=True)\n",
    "df.head(5)"
   ]
  },
  {
   "cell_type": "markdown",
   "metadata": {},
   "source": [
    "##### The dataset will now be split into two datasets: 70% training and 30% test\n",
    "- First we will set the target feature \"y\" to be risk performance\n",
    "- Then we will set \"X\" to be the remaining features in the dataframe i.e. we drop \"RiskPerformance\" from the dataframe"
   ]
  },
  {
   "cell_type": "code",
   "execution_count": 22,
   "metadata": {},
   "outputs": [],
   "source": [
    "y = pd.DataFrame(df[\"RiskPerformance\"])\n",
    "X = df.drop([\"RiskPerformance\"],1)"
   ]
  },
  {
   "cell_type": "markdown",
   "metadata": {},
   "source": [
    "##### The data set can now be split\n",
    "- The train test split will randomly split the dataset as per the test size\n",
    "- We will set the random state=1 to allow the random shuffle to be repeated within this notebook only"
   ]
  },
  {
   "cell_type": "code",
   "execution_count": 23,
   "metadata": {},
   "outputs": [
    {
     "name": "stdout",
     "output_type": "stream",
     "text": [
      "original range is:  841\n",
      "training range (70%):\t rows 0 to 588\n",
      "test range (30%): \t rows 588 to 841\n"
     ]
    }
   ],
   "source": [
    "# Split the dataset into two datasets: 70% training and 30% test\n",
    "X_train, X_test, y_train, y_test = train_test_split(X, y, test_size=0.3,random_state=1)\n",
    "\n",
    "print(\"original range is: \",df.shape[0])\n",
    "print(\"training range (70%):\\t rows 0 to\", round(X_train.shape[0]))\n",
    "print(\"test range (30%): \\t rows\", round(X_train.shape[0]), \"to\", round(X_train.shape[0]) + X_test.shape[0])"
   ]
  },
  {
   "cell_type": "markdown",
   "metadata": {},
   "source": [
    "The dataset is now ready for plotting"
   ]
  },
  {
   "cell_type": "markdown",
   "metadata": {},
   "source": [
    "## 1.2 On the training set we will now carry out a series of plots comparing all features to help make decisions on what features to keep for the model \n",
    "\n",
    "- All plots will be using the training subset of dataset: X_train, y_train\n",
    "\n",
    "### 1.2.1 Plot the correlations between all the continuous features. "
   ]
  },
  {
   "cell_type": "code",
   "execution_count": 24,
   "metadata": {},
   "outputs": [
    {
     "data": {
      "text/plain": [
       "(array([ 0.5,  1.5,  2.5,  3.5,  4.5,  5.5,  6.5,  7.5,  8.5,  9.5, 10.5,\n",
       "        11.5, 12.5, 13.5, 14.5, 15.5, 16.5, 17.5, 18.5, 19.5, 20.5, 21.5,\n",
       "        22.5]),\n",
       " <a list of 23 Text major ticklabel objects>)"
      ]
     },
     "execution_count": 24,
     "metadata": {},
     "output_type": "execute_result"
    },
    {
     "data": {
      "image/png": "[encoded data removed]",
      "text/plain": [
       "<Figure size 1440x1440 with 2 Axes>"
      ]
     },
     "metadata": {},
     "output_type": "display_data"
    }
   ],
   "source": [
    "# Correlation matrix using code found on https://stanford.edu/~mwaskom/software/seaborn/examples/many_pairwise_correlations.html\n",
    "sns.set(style=\"white\")\n",
    "\n",
    "# Calculate correlation of all pairs of continuous features\n",
    "corr = X_train[continuous_columns].corr()\n",
    "\n",
    "# Generate a mask for the upper triangle\n",
    "mask = np.zeros_like(corr, dtype=np.bool)\n",
    "mask[np.triu_indices_from(mask)] = True\n",
    "\n",
    "# Set up the matplotlib figure\n",
    "f, ax = plt.subplots(figsize=(20, 20))\n",
    "\n",
    "# Generate a custom colormap - blue and red\n",
    "cmap = sns.diverging_palette(220, 10, as_cmap=True)\n",
    "\n",
    "# Draw the heatmap with the mask and correct aspect ratio\n",
    "sns.heatmap(corr, annot=True, mask=mask, cmap=cmap, vmax=1, vmin=-1,\n",
    "            square=True, xticklabels=True, yticklabels=True,\n",
    "            linewidths=.5, cbar_kws={\"shrink\": .5}, ax=ax)\n",
    "plt.yticks(rotation = 0)\n",
    "plt.xticks(rotation = 90)"
   ]
  },
  {
   "cell_type": "markdown",
   "metadata": {},
   "source": [
    "#### Interpretation of the results\n",
    "- Strong correlations -  We can see clearly from the above heat map that there are a number of features that have string correlations\n",
    "    - 'NumInqLast6Mexcl7days' and 'NumInqLast6M' (0.99) - This is to be expected - We only need to keep one of these features\n",
    "    - 'NumTotalTrades' and 'NumSatisfactoryTrades' (0.92) - This is to be expected as the vast majority of trades are satisfactory. An additional feature was created in the last homework, 'PercentSatisfactoryTrades' which captures this better. Therefore we will consider dropping 'NumSatisfactoryTrades'.\n",
    "    - 'NumTrades90Ever2DerogPubRec' and 'NumTrades60Ever2DerogPubRec' (0.88) - This is to be expected as most derogatory trades that are over 60 days late are also over 90 days late. We will consider dropping 'NumTrades90Ever2DerogPubRec' as this information is mostly captured in 'NumTrades60Ever2DerogPubRec'\n",
    "    - 'NumTotalTrades' and 'NumTradesWBalance' (0.81) - This is to be expected as most trades will have some balance outstanding i.e. in they are in use. We have a feature 'PercentTradesWBalance' and so can safely remove 'NumTradesWBalance' as this information is already fully captured.\n",
    "    - 'NumSatisfactoryTrades' and 'NumTradesWBalance' (0.93) - This is to be expected as the majority of trades with balance outstanding will also be satisfactory. 'NumSatisfactoryTrades' has already been flagged for removal.\n",
    "- Weak correlations - We can see a number of features with no apparent correlation to any other features\n",
    "    - 'MSinceMostRecentInqLast7days' - we will check this feature against the target later and if no strong correlation we can remove then\n",
    "    - 'MsinceMostRecentDelq' - we will check this feature against the target later and if no strong correlation we can remove then\n",
    "    - 'AverageMInfile' - we will check this feature against the target later and if no strong correlation we can remove then\n",
    "- There are simply too many correlations to interpret individually. In the coming plots will see the correlations against the target and can take further action then.\n",
    "\n",
    "\n",
    "**Current status : Drop NumInqLast6M, NumSatisfactoryTrades, NumTrades90Ever2DerogPubRec, NumTradesWBalance**\n",
    "- We will label these as low_information_gain features"
   ]
  },
  {
   "cell_type": "code",
   "execution_count": 25,
   "metadata": {},
   "outputs": [],
   "source": [
    "low_information_gain = ['NumInqLast6M','NumSatisfactoryTrades','NumTrades90Ever2DerogPubRec','NumTradesWBalance']"
   ]
  },
  {
   "cell_type": "markdown",
   "metadata": {},
   "source": [
    "### 1.2.2 Plot interaction between continuous features and target feature\n",
    "- Here we will loop over each continuous feature and make a scatter plot against the target 'risk_performance'\n",
    "- We will discuss what we observe from these plots, e.g. which continuous features seem to be better at predicting the target feature\n",
    "- We will choose a subset of continuous features we find promising (if any) and justify our choice.\n",
    "\n",
    "Note: Risk Performance needs to be an int for these scatter plots, as we have prepared earlier"
   ]
  },
  {
   "cell_type": "code",
   "execution_count": 26,
   "metadata": {},
   "outputs": [
    {
     "name": "stderr",
     "output_type": "stream",
     "text": [
      "*c* argument looks like a single numeric RGB or RGBA sequence, which should be avoided as value-mapping will have precedence in case its length matches with *x* & *y*.  Please use the *color* keyword-argument or provide a 2-D array with a single row if you intend to specify the same RGB or RGBA value for all points.\n",
      "*c* argument looks like a single numeric RGB or RGBA sequence, which should be avoided as value-mapping will have precedence in case its length matches with *x* & *y*.  Please use the *color* keyword-argument or provide a 2-D array with a single row if you intend to specify the same RGB or RGBA value for all points.\n",
      "*c* argument looks like a single numeric RGB or RGBA sequence, which should be avoided as value-mapping will have precedence in case its length matches with *x* & *y*.  Please use the *color* keyword-argument or provide a 2-D array with a single row if you intend to specify the same RGB or RGBA value for all points.\n",
      "*c* argument looks like a single numeric RGB or RGBA sequence, which should be avoided as value-mapping will have precedence in case its length matches with *x* & *y*.  Please use the *color* keyword-argument or provide a 2-D array with a single row if you intend to specify the same RGB or RGBA value for all points.\n",
      "*c* argument looks like a single numeric RGB or RGBA sequence, which should be avoided as value-mapping will have precedence in case its length matches with *x* & *y*.  Please use the *color* keyword-argument or provide a 2-D array with a single row if you intend to specify the same RGB or RGBA value for all points.\n",
      "*c* argument looks like a single numeric RGB or RGBA sequence, which should be avoided as value-mapping will have precedence in case its length matches with *x* & *y*.  Please use the *color* keyword-argument or provide a 2-D array with a single row if you intend to specify the same RGB or RGBA value for all points.\n",
      "*c* argument looks like a single numeric RGB or RGBA sequence, which should be avoided as value-mapping will have precedence in case its length matches with *x* & *y*.  Please use the *color* keyword-argument or provide a 2-D array with a single row if you intend to specify the same RGB or RGBA value for all points.\n",
      "*c* argument looks like a single numeric RGB or RGBA sequence, which should be avoided as value-mapping will have precedence in case its length matches with *x* & *y*.  Please use the *color* keyword-argument or provide a 2-D array with a single row if you intend to specify the same RGB or RGBA value for all points.\n",
      "*c* argument looks like a single numeric RGB or RGBA sequence, which should be avoided as value-mapping will have precedence in case its length matches with *x* & *y*.  Please use the *color* keyword-argument or provide a 2-D array with a single row if you intend to specify the same RGB or RGBA value for all points.\n",
      "*c* argument looks like a single numeric RGB or RGBA sequence, which should be avoided as value-mapping will have precedence in case its length matches with *x* & *y*.  Please use the *color* keyword-argument or provide a 2-D array with a single row if you intend to specify the same RGB or RGBA value for all points.\n",
      "*c* argument looks like a single numeric RGB or RGBA sequence, which should be avoided as value-mapping will have precedence in case its length matches with *x* & *y*.  Please use the *color* keyword-argument or provide a 2-D array with a single row if you intend to specify the same RGB or RGBA value for all points.\n",
      "*c* argument looks like a single numeric RGB or RGBA sequence, which should be avoided as value-mapping will have precedence in case its length matches with *x* & *y*.  Please use the *color* keyword-argument or provide a 2-D array with a single row if you intend to specify the same RGB or RGBA value for all points.\n",
      "*c* argument looks like a single numeric RGB or RGBA sequence, which should be avoided as value-mapping will have precedence in case its length matches with *x* & *y*.  Please use the *color* keyword-argument or provide a 2-D array with a single row if you intend to specify the same RGB or RGBA value for all points.\n",
      "*c* argument looks like a single numeric RGB or RGBA sequence, which should be avoided as value-mapping will have precedence in case its length matches with *x* & *y*.  Please use the *color* keyword-argument or provide a 2-D array with a single row if you intend to specify the same RGB or RGBA value for all points.\n",
      "*c* argument looks like a single numeric RGB or RGBA sequence, which should be avoided as value-mapping will have precedence in case its length matches with *x* & *y*.  Please use the *color* keyword-argument or provide a 2-D array with a single row if you intend to specify the same RGB or RGBA value for all points.\n",
      "*c* argument looks like a single numeric RGB or RGBA sequence, which should be avoided as value-mapping will have precedence in case its length matches with *x* & *y*.  Please use the *color* keyword-argument or provide a 2-D array with a single row if you intend to specify the same RGB or RGBA value for all points.\n",
      "*c* argument looks like a single numeric RGB or RGBA sequence, which should be avoided as value-mapping will have precedence in case its length matches with *x* & *y*.  Please use the *color* keyword-argument or provide a 2-D array with a single row if you intend to specify the same RGB or RGBA value for all points.\n",
      "*c* argument looks like a single numeric RGB or RGBA sequence, which should be avoided as value-mapping will have precedence in case its length matches with *x* & *y*.  Please use the *color* keyword-argument or provide a 2-D array with a single row if you intend to specify the same RGB or RGBA value for all points.\n",
      "*c* argument looks like a single numeric RGB or RGBA sequence, which should be avoided as value-mapping will have precedence in case its length matches with *x* & *y*.  Please use the *color* keyword-argument or provide a 2-D array with a single row if you intend to specify the same RGB or RGBA value for all points.\n",
      "*c* argument looks like a single numeric RGB or RGBA sequence, which should be avoided as value-mapping will have precedence in case its length matches with *x* & *y*.  Please use the *color* keyword-argument or provide a 2-D array with a single row if you intend to specify the same RGB or RGBA value for all points.\n",
      "*c* argument looks like a single numeric RGB or RGBA sequence, which should be avoided as value-mapping will have precedence in case its length matches with *x* & *y*.  Please use the *color* keyword-argument or provide a 2-D array with a single row if you intend to specify the same RGB or RGBA value for all points.\n",
      "*c* argument looks like a single numeric RGB or RGBA sequence, which should be avoided as value-mapping will have precedence in case its length matches with *x* & *y*.  Please use the *color* keyword-argument or provide a 2-D array with a single row if you intend to specify the same RGB or RGBA value for all points.\n",
      "*c* argument looks like a single numeric RGB or RGBA sequence, which should be avoided as value-mapping will have precedence in case its length matches with *x* & *y*.  Please use the *color* keyword-argument or provide a 2-D array with a single row if you intend to specify the same RGB or RGBA value for all points.\n"
     ]
    },
    {
     "data": {
      "text/html": [
       "<div>\n",
       "<style scoped>\n",
       "    .dataframe tbody tr th:only-of-type {\n",
       "        vertical-align: middle;\n",
       "    }\n",
       "\n",
       "    .dataframe tbody tr th {\n",
       "        vertical-align: top;\n",
       "    }\n",
       "\n",
       "    .dataframe thead th {\n",
       "        text-align: right;\n",
       "    }\n",
       "</style>\n",
       "<table border=\"1\" class=\"dataframe\">\n",
       "  <thead>\n",
       "    <tr style=\"text-align: right;\">\n",
       "      <th></th>\n",
       "      <th>RiskPerformance</th>\n",
       "    </tr>\n",
       "  </thead>\n",
       "  <tbody>\n",
       "    <tr>\n",
       "      <th>ExternalRiskEstimate</th>\n",
       "      <td>0.484509</td>\n",
       "    </tr>\n",
       "    <tr>\n",
       "      <th>PercentTradesNeverDelq</th>\n",
       "      <td>0.258452</td>\n",
       "    </tr>\n",
       "    <tr>\n",
       "      <th>MSinceMostRecentDelq</th>\n",
       "      <td>0.254753</td>\n",
       "    </tr>\n",
       "    <tr>\n",
       "      <th>AverageMInFile</th>\n",
       "      <td>0.213908</td>\n",
       "    </tr>\n",
       "    <tr>\n",
       "      <th>MSinceMostRecentTradeOpen</th>\n",
       "      <td>0.143752</td>\n",
       "    </tr>\n",
       "    <tr>\n",
       "      <th>NumSatisfactoryTrades</th>\n",
       "      <td>0.134772</td>\n",
       "    </tr>\n",
       "    <tr>\n",
       "      <th>PercentSatisfactoryTrades</th>\n",
       "      <td>0.132886</td>\n",
       "    </tr>\n",
       "    <tr>\n",
       "      <th>MSinceOldestTradeOpen</th>\n",
       "      <td>0.119690</td>\n",
       "    </tr>\n",
       "    <tr>\n",
       "      <th>NumTotalTrades</th>\n",
       "      <td>0.101744</td>\n",
       "    </tr>\n",
       "    <tr>\n",
       "      <th>MSinceMostRecentInqexcl7days</th>\n",
       "      <td>0.052096</td>\n",
       "    </tr>\n",
       "    <tr>\n",
       "      <th>NumTradesWBalance</th>\n",
       "      <td>-0.061423</td>\n",
       "    </tr>\n",
       "    <tr>\n",
       "      <th>NumInstallTradesWBalance</th>\n",
       "      <td>-0.090399</td>\n",
       "    </tr>\n",
       "    <tr>\n",
       "      <th>NumTradesOpeninLast12M</th>\n",
       "      <td>-0.114811</td>\n",
       "    </tr>\n",
       "    <tr>\n",
       "      <th>NetFractionInstallBurden_imputation</th>\n",
       "      <td>-0.120811</td>\n",
       "    </tr>\n",
       "    <tr>\n",
       "      <th>NumInqLast6Mexcl7days</th>\n",
       "      <td>-0.150201</td>\n",
       "    </tr>\n",
       "    <tr>\n",
       "      <th>PercentInstallTrades</th>\n",
       "      <td>-0.153819</td>\n",
       "    </tr>\n",
       "    <tr>\n",
       "      <th>NumInqLast6M</th>\n",
       "      <td>-0.155526</td>\n",
       "    </tr>\n",
       "    <tr>\n",
       "      <th>NumTrades90Ever2DerogPubRec</th>\n",
       "      <td>-0.160456</td>\n",
       "    </tr>\n",
       "    <tr>\n",
       "      <th>NumRevolvingTradesWBalance</th>\n",
       "      <td>-0.161556</td>\n",
       "    </tr>\n",
       "    <tr>\n",
       "      <th>NumTrades60Ever2DerogPubRec</th>\n",
       "      <td>-0.187889</td>\n",
       "    </tr>\n",
       "    <tr>\n",
       "      <th>NumBank2NatlTradesWHighUtilization</th>\n",
       "      <td>-0.241592</td>\n",
       "    </tr>\n",
       "    <tr>\n",
       "      <th>PercentTradesWBalance</th>\n",
       "      <td>-0.296421</td>\n",
       "    </tr>\n",
       "    <tr>\n",
       "      <th>NetFractionRevolvingBurden</th>\n",
       "      <td>-0.335749</td>\n",
       "    </tr>\n",
       "  </tbody>\n",
       "</table>\n",
       "</div>"
      ],
      "text/plain": [
       "                                     RiskPerformance\n",
       "ExternalRiskEstimate                        0.484509\n",
       "PercentTradesNeverDelq                      0.258452\n",
       "MSinceMostRecentDelq                        0.254753\n",
       "AverageMInFile                              0.213908\n",
       "MSinceMostRecentTradeOpen                   0.143752\n",
       "NumSatisfactoryTrades                       0.134772\n",
       "PercentSatisfactoryTrades                   0.132886\n",
       "MSinceOldestTradeOpen                       0.119690\n",
       "NumTotalTrades                              0.101744\n",
       "MSinceMostRecentInqexcl7days                0.052096\n",
       "NumTradesWBalance                          -0.061423\n",
       "NumInstallTradesWBalance                   -0.090399\n",
       "NumTradesOpeninLast12M                     -0.114811\n",
       "NetFractionInstallBurden_imputation        -0.120811\n",
       "NumInqLast6Mexcl7days                      -0.150201\n",
       "PercentInstallTrades                       -0.153819\n",
       "NumInqLast6M                               -0.155526\n",
       "NumTrades90Ever2DerogPubRec                -0.160456\n",
       "NumRevolvingTradesWBalance                 -0.161556\n",
       "NumTrades60Ever2DerogPubRec                -0.187889\n",
       "NumBank2NatlTradesWHighUtilization         -0.241592\n",
       "PercentTradesWBalance                      -0.296421\n",
       "NetFractionRevolvingBurden                 -0.335749"
      ]
     },
     "execution_count": 26,
     "metadata": {},
     "output_type": "execute_result"
    },
    {
     "data": {
      "image/png": "[encoded data removed]",
      "text/plain": [
       "<Figure size 432x288 with 1 Axes>"
      ]
     },
     "metadata": {},
     "output_type": "display_data"
    },
    {
     "data": {
      "image/png": "[encoded data removed]",
      "text/plain": [
       "<Figure size 432x288 with 1 Axes>"
      ]
     },
     "metadata": {},
     "output_type": "display_data"
    },
    {
     "data": {
      "image/png": "[encoded data removed]",
      "text/plain": [
       "<Figure size 432x288 with 1 Axes>"
      ]
     },
     "metadata": {},
     "output_type": "display_data"
    },
    {
     "data": {
      "image/png": "[encoded data removed]",
      "text/plain": [
       "<Figure size 432x288 with 1 Axes>"
      ]
     },
     "metadata": {},
     "output_type": "display_data"
    },
    {
     "data": {
      "image/png": "[encoded data removed]",
      "text/plain": [
       "<Figure size 432x288 with 1 Axes>"
      ]
     },
     "metadata": {},
     "output_type": "display_data"
    },
    {
     "data": {
      "image/png": "[encoded data removed]",
      "text/plain": [
       "<Figure size 432x288 with 1 Axes>"
      ]
     },
     "metadata": {},
     "output_type": "display_data"
    },
    {
     "data": {
      "image/png": "[encoded data removed]",
      "text/plain": [
       "<Figure size 432x288 with 1 Axes>"
      ]
     },
     "metadata": {},
     "output_type": "display_data"
    },
    {
     "data": {
      "image/png": "[encoded data removed]",
      "text/plain": [
       "<Figure size 432x288 with 1 Axes>"
      ]
     },
     "metadata": {},
     "output_type": "display_data"
    },
    {
     "data": {
      "image/png": "[encoded data removed]",
      "text/plain": [
       "<Figure size 432x288 with 1 Axes>"
      ]
     },
     "metadata": {},
     "output_type": "display_data"
    },
    {
     "data": {
      "image/png": "[encoded data removed]",
      "text/plain": [
       "<Figure size 432x288 with 1 Axes>"
      ]
     },
     "metadata": {},
     "output_type": "display_data"
    },
    {
     "data": {
      "image/png": "[encoded data removed]",
      "text/plain": [
       "<Figure size 432x288 with 1 Axes>"
      ]
     },
     "metadata": {},
     "output_type": "display_data"
    },
    {
     "data": {
      "image/png": "[encoded data removed]",
      "text/plain": [
       "<Figure size 432x288 with 1 Axes>"
      ]
     },
     "metadata": {},
     "output_type": "display_data"
    },
    {
     "data": {
      "image/png": "[encoded data removed]",
      "text/plain": [
       "<Figure size 432x288 with 1 Axes>"
      ]
     },
     "metadata": {},
     "output_type": "display_data"
    },
    {
     "data": {
      "image/png": "[encoded data removed]",
      "text/plain": [
       "<Figure size 432x288 with 1 Axes>"
      ]
     },
     "metadata": {},
     "output_type": "display_data"
    },
    {
     "data": {
      "image/png": "[encoded data removed]",
      "text/plain": [
       "<Figure size 432x288 with 1 Axes>"
      ]
     },
     "metadata": {},
     "output_type": "display_data"
    },
    {
     "data": {
      "image/png": "[encoded data removed]",
      "text/plain": [
       "<Figure size 432x288 with 1 Axes>"
      ]
     },
     "metadata": {},
     "output_type": "display_data"
    },
    {
     "data": {
      "image/png": "[encoded data removed]",
      "text/plain": [
       "<Figure size 432x288 with 1 Axes>"
      ]
     },
     "metadata": {},
     "output_type": "display_data"
    },
    {
     "data": {
      "image/png": "[encoded data removed]",
      "text/plain": [
       "<Figure size 432x288 with 1 Axes>"
      ]
     },
     "metadata": {},
     "output_type": "display_data"
    },
    {
     "data": {
      "image/png": "[encoded data removed]",
      "text/plain": [
       "<Figure size 432x288 with 1 Axes>"
      ]
     },
     "metadata": {},
     "output_type": "display_data"
    },
    {
     "data": {
      "image/png": "[encoded data removed]",
      "text/plain": [
       "<Figure size 432x288 with 1 Axes>"
      ]
     },
     "metadata": {},
     "output_type": "display_data"
    },
    {
     "data": {
      "image/png": "[encoded data removed]",
      "text/plain": [
       "<Figure size 432x288 with 1 Axes>"
      ]
     },
     "metadata": {},
     "output_type": "display_data"
    },
    {
     "data": {
      "image/png": "[encoded data removed]",
      "text/plain": [
       "<Figure size 432x288 with 1 Axes>"
      ]
     },
     "metadata": {},
     "output_type": "display_data"
    },
    {
     "data": {
      "image/png": "[encoded data removed]",
      "text/plain": [
       "<Figure size 432x288 with 1 Axes>"
      ]
     },
     "metadata": {},
     "output_type": "display_data"
    }
   ],
   "source": [
    "# dict to hold correlation values \n",
    "corr_dict = {}\n",
    "\n",
    "# plot pairwise interaction between all continuous features and target\n",
    "for column in X_train[continuous_columns]:\n",
    "    # create temp df to merge column and target\n",
    "    df_temp = pd.concat([X_train[column], y_train], axis=1)\n",
    "    # store correlation in variable\n",
    "    correlation = df_temp[[column, \"RiskPerformance\"]].corr().values[0,1]\n",
    "    # plot the column and tartget feature\n",
    "    df_temp.plot(kind='scatter', x=column, y=\"RiskPerformance\", label=\"%.3f\" % correlation)\n",
    "    # add correlation to dict\n",
    "    corr_dict[column] = correlation\n",
    "\n",
    "# dataframe holding sorted correlation values to aid in interpreting results\n",
    "corr_df = pd.DataFrame.from_dict(corr_dict, orient='index', columns=['RiskPerformance']).sort_values('RiskPerformance', ascending=False)\n",
    "corr_df"
   ]
  },
  {
   "cell_type": "markdown",
   "metadata": {},
   "source": [
    "#### 1.2.3 Interpretation of the results\n",
    "- Observing the plots, visually there are no clearly defined correlations and this is probably to be expected with a complex problem like this. There are many interactions to take into account.\n",
    "- Reviewing the sorted correlation dataframe we get a better overview of all the correlations. \n",
    "- We will breakdown the correlation values into 3 bins for purposes of interpretation taking only their absolute value into account\n",
    "- Note: The bounds for each bin are arbitrary and for the purpose of splitting up the features only. \n",
    "\n",
    "\n",
    "| Low correlation | Medium correlation | High correlation |\n",
    "|-----------------|--------------------|------------------|\n",
    "| x <= 0.15       | 0.15 < x < 0.25    | x >= 0.25        |\n",
    "| 10 features     | 8  features        | 5 features       |\n",
    "| 43%             | 35%                | 22%              | \n",
    "\n",
    "- The strongest correlations are \"ExternalRiskEstimate\" and \"NetFractionRevolvingBurden\".\n",
    "    - ExternalRiskEstimate makes sense here as it assumed to be a risk factor applied to the applicant based on their personal economic situation\n",
    "    - NetFractionRevolvingBurden also seems like a good predictor. It is the percentage utilization of revolving credit i.e. how much of their available credit they are using. The higher this value the more likely a bad outcome. \n",
    "- I will not interpret each feature individually are there are simply too many to explore.\n",
    "- I will decide to keep the features that fall into the medium and high correlation bins. The low correlations values will likely have little effect on the outcome and make the model more complicated.\n",
    "- The impact of this decision will be evaluated in part 5."
   ]
  },
  {
   "cell_type": "markdown",
   "metadata": {},
   "source": [
    "List of low correlation features"
   ]
  },
  {
   "cell_type": "code",
   "execution_count": 27,
   "metadata": {},
   "outputs": [
    {
     "data": {
      "text/plain": [
       "['MSinceOldestTradeOpen',\n",
       " 'MSinceMostRecentTradeOpen',\n",
       " 'NumSatisfactoryTrades',\n",
       " 'NumTotalTrades',\n",
       " 'NumTradesOpeninLast12M',\n",
       " 'MSinceMostRecentInqexcl7days',\n",
       " 'NumInstallTradesWBalance',\n",
       " 'PercentSatisfactoryTrades',\n",
       " 'NumTradesWBalance',\n",
       " 'NetFractionInstallBurden_imputation']"
      ]
     },
     "execution_count": 27,
     "metadata": {},
     "output_type": "execute_result"
    }
   ],
   "source": [
    "# generate list of features for low correlation bin\n",
    "low_correlation_features = []\n",
    "for key, value in corr_dict.items():\n",
    "    if value < 0.15 and value > -0.15:\n",
    "        low_correlation_features.append(key)\n",
    "low_correlation_features"
   ]
  },
  {
   "cell_type": "markdown",
   "metadata": {},
   "source": [
    "List of high correlation features"
   ]
  },
  {
   "cell_type": "code",
   "execution_count": 28,
   "metadata": {},
   "outputs": [
    {
     "data": {
      "text/plain": [
       "['ExternalRiskEstimate',\n",
       " 'PercentTradesNeverDelq',\n",
       " 'MSinceMostRecentDelq',\n",
       " 'NetFractionRevolvingBurden',\n",
       " 'PercentTradesWBalance']"
      ]
     },
     "execution_count": 28,
     "metadata": {},
     "output_type": "execute_result"
    }
   ],
   "source": [
    "# generate list of features for high correlation bin\n",
    "high_correlation_features = []\n",
    "for key, value in corr_dict.items():\n",
    "    if value > 0.25 or value < -0.25:\n",
    "        high_correlation_features.append(key)\n",
    "high_correlation_features"
   ]
  },
  {
   "cell_type": "markdown",
   "metadata": {},
   "source": [
    "### 1.2.3 Plot interaction between categorical features and target feature\n",
    "- Here we will plot a pairwise interaction between each categorical feature against the target feature. \n",
    "- We will discuss what we observe from these plots, e.g., which categorical features seem to be better at predicting the target feature...\n",
    "- We will choose a subset of categorical features we find promising (if any) and justify our choice.\n",
    "\n",
    "Here we have 4 categorical features\n",
    "- MaxDelqEver, MaxDelq2PublicRecLast12M, DelqEver, DelqLast12M \n",
    "- A stacked bar plot for each will be created."
   ]
  },
  {
   "cell_type": "markdown",
   "metadata": {},
   "source": [
    "##### Create stacked bar plots for all categorical features"
   ]
  },
  {
   "cell_type": "code",
   "execution_count": 29,
   "metadata": {},
   "outputs": [
    {
     "name": "stdout",
     "output_type": "stream",
     "text": [
      "\n",
      " MaxDelq2PublicRecLast12M\n",
      "Index \t Count\n",
      "7 \t 452\n",
      "6 \t 106\n",
      "2 \t 19\n",
      "4 \t 1\n",
      "5 \t 8\n",
      "3 \t 2\n",
      "\n",
      " MaxDelqEver\n",
      "Index \t Count\n",
      "7 \t 251\n",
      "6 \t 179\n",
      "2 \t 58\n",
      "3 \t 23\n",
      "5 \t 59\n",
      "4 \t 18\n",
      "\n",
      " DelqEver\n",
      "Index \t Count\n",
      "0 \t 251\n",
      "1 \t 337\n",
      "\n",
      " DelqLast12M\n",
      "Index \t Count\n",
      "0 \t 452\n",
      "1 \t 136\n"
     ]
    },
    {
     "data": {
      "image/png": "[encoded data removed]",
      "text/plain": [
       "<Figure size 1080x504 with 1 Axes>"
      ]
     },
     "metadata": {},
     "output_type": "display_data"
    },
    {
     "data": {
      "image/png": "[encoded data removed]",
      "text/plain": [
       "<Figure size 1080x504 with 1 Axes>"
      ]
     },
     "metadata": {},
     "output_type": "display_data"
    },
    {
     "data": {
      "image/png": "[encoded data removed]",
      "text/plain": [
       "<Figure size 1080x504 with 1 Axes>"
      ]
     },
     "metadata": {},
     "output_type": "display_data"
    },
    {
     "data": {
      "image/png": "[encoded data removed]",
      "text/plain": [
       "<Figure size 1080x504 with 1 Axes>"
      ]
     },
     "metadata": {},
     "output_type": "display_data"
    }
   ],
   "source": [
    "# for the comparison we will convert the target back to categorical\n",
    "y_train = y_train.astype(\"category\")\n",
    "#X_train[categorical_columns].columns\n",
    "\n",
    "# we will create temp dataframe for these plots, mergeing X_train and y_train\n",
    "df_temp= pd.concat([X_train, y_train], axis=1)\n",
    "\n",
    "\n",
    "# for each categorical feature create a stacked bar plot\n",
    "for categorical_feature in categorical_columns:\n",
    "    # Using code from the module lab\n",
    "    \n",
    "    maxDelqEver = pd.unique(df_temp[categorical_feature].ravel())\n",
    "\n",
    "    # add new column and set values to zero\n",
    "    df_temp['percent'] = 0\n",
    "\n",
    "    #print header\n",
    "    print(\"\\n\", categorical_feature)\n",
    "    print(\"Index \\t Count\")\n",
    "\n",
    "    # for each delinquency category\n",
    "    for i in maxDelqEver:\n",
    "\n",
    "        count = df_temp[df_temp[categorical_feature] == i].count()['RiskPerformance']\n",
    "        count_percentage = (1 / count) * 100\n",
    "\n",
    "        # print out index vs count\n",
    "        print(i, \"\\t\", count)\n",
    "\n",
    "        index_list = df_temp[df_temp[categorical_feature] == i].index.tolist()\n",
    "        for ind in index_list:\n",
    "            df_temp.loc[ind, 'percent'] = count_percentage\n",
    "\n",
    "    group = df_temp[['percent',categorical_feature,'RiskPerformance']].groupby([categorical_feature,'RiskPerformance']).sum()\n",
    "\n",
    "    my_plot = group.unstack().plot(kind='bar', stacked=True, title=f\"Risk Performance vs {categorical_feature}\", figsize=(15,7), grid=True)\n",
    "\n",
    "    # add legend\n",
    "    red_patch = mpatches.Patch(color='orange', label='Good')\n",
    "    blue_patch = mpatches.Patch(color='blue', label='Bad')\n",
    "    my_plot.legend(handles=[red_patch, blue_patch], frameon = True)\n",
    "\n",
    "    # add gridlines\n",
    "    plt.grid(b=True, which='major', color='#666666', linestyle='-')\n",
    "    plt.minorticks_on()\n",
    "    plt.grid(b=True, which='minor', color='#999999', linestyle='-', alpha=0.2)\n",
    "\n",
    "    # add labels\n",
    "    my_plot.set_xlabel(\"Delinquency index\")\n",
    "    my_plot.set_ylabel(\"% Risk\")\n",
    "    my_plot.set_ylim([0,100])\n",
    "    \n",
    "# drop 'percent' that was used only for stacked bar plot\n",
    "df_temp = df_temp.drop(\"percent\", 1)"
   ]
  },
  {
   "cell_type": "markdown",
   "metadata": {},
   "source": [
    "#### Reminder of scale meanings\n",
    "\n",
    "| DelqLast12M | DelqEver | meaning             |\n",
    "|-------------|----------|---------------------|\n",
    "| 0           | 0        | never delinquent    |\n",
    "| 1           | 1        | delinquent          |\n",
    "\n",
    "\n",
    "| MaxDelq2PublicRecLast12M | MaxDelqEver | meaning                      |\n",
    "|--------------------------|-------------|------------------------------|\n",
    "| 2                        | 2           | derogatory comment           |\n",
    "| 3                        | 3           | 120+ days delinquent         |\n",
    "| 4                        | 4           | 90 days delinquent           |\n",
    "| 5                        | 5           | 60 days delinquent           |\n",
    "| 6                        | 6           | 30 days delinquent           |\n",
    "| 7                        | 7           | current and never delinquent |\n"
   ]
  },
  {
   "cell_type": "markdown",
   "metadata": {},
   "source": [
    "#### Interpretation of the results\n",
    "##### Risk Performance vs MaxDelq2PublicRecLast12M\n",
    "- Observing the plots we can see that as the delinquency index increases we see a reduction in bad risk performance. This is expected.\n",
    "- Caution needs to be observed here as index 2,3,4,5 have only a small number of entries. Please see table above. For example index 3,4 have only one entry each.\n",
    "- Due to this it is hard to say without more data if each level of delinquency has a significant effect on likelihood of \"bad\" risk performance\n",
    "- It is likely the binary outcome will capture this data sufficiently\n",
    "\n",
    "##### Risk Performance vs MaxDelqEver\n",
    "- Observing the plots we can see that as the delinquency index increases we do not see a significant change in bad risk performance. This is not expected.\n",
    "- In this case we have more data than 'MaxDelq2PublicRecLast12M' above as we are comparing delinquency over the lifetime and not just the last 12months.\n",
    "- Due to this we have significantly more entries in index 2,3,4,5 and can make the case that each level of delinquency does not have a significant effect on likelihood of \"bad\" risk performance.\n",
    "- We can make the case that a financial institution will look at any type of delinquency, either derogatory, 30, 60 or 90 days late in the same light.\n",
    "- It is likely the binary outcome will capture this data sufficiently\n",
    "\n",
    "##### Risk Performance vs DelqLast12M\n",
    "- Observing the plot above we can see that if an entry has been delinquent in the last 12 months they have a 72% chance of having a bad risk outcome\n",
    "- If a entry has not been delinquent in the last 12 months then they have a 50% chance of a good risk outcome\n",
    "- The difference between the 2 outcomes are not a big as expected and highlight that effect that all the other features can have on the risk outcome \n",
    "\n",
    "##### Risk Performance vs DelqEver\n",
    "- Observing the plot above we can see that if a entry has ever been delinquent they have a 65% chance of having a bad risk outcome\n",
    "- If a entry has not been delinquent in the last 12 months then they have a 60% chance of a good risk outcome\n",
    "\n",
    "It is interesting to compare DelqEver to DelqLast12M. We can see that having a delinquency in the last 12months has the greater effect on the likelihood of bad risk outcome than a delinquency ever (72% vs 65%) and this is as expected since it is more recent. Also we see that having never been delinquent has a greater effect on a positive risk outcome than not being delinquent in the last 12 months (60% vs 50%). This is also as expected as the whole lifetime is taken into account.\n",
    "\n",
    "**All 4 categorical features will be kept for now but it is expected that DelqEver and DelqLast12M will have the greater effect**"
   ]
  },
  {
   "cell_type": "markdown",
   "metadata": {},
   "source": [
    "### 1.2.4 Summary & Drop Features\n",
    "\n",
    "1. From Continuous vs Continuous plots (1.2.1) we identified the following to be dropped"
   ]
  },
  {
   "cell_type": "code",
   "execution_count": 30,
   "metadata": {},
   "outputs": [
    {
     "data": {
      "text/plain": [
       "['NumInqLast6M',\n",
       " 'NumSatisfactoryTrades',\n",
       " 'NumTrades90Ever2DerogPubRec',\n",
       " 'NumTradesWBalance']"
      ]
     },
     "execution_count": 30,
     "metadata": {},
     "output_type": "execute_result"
    }
   ],
   "source": [
    "low_information_gain"
   ]
  },
  {
   "cell_type": "markdown",
   "metadata": {},
   "source": [
    "2. From Continuous vs Target plots (1.2.2) we identified the following to be dropped"
   ]
  },
  {
   "cell_type": "code",
   "execution_count": 31,
   "metadata": {},
   "outputs": [
    {
     "data": {
      "text/plain": [
       "['MSinceOldestTradeOpen',\n",
       " 'MSinceMostRecentTradeOpen',\n",
       " 'NumSatisfactoryTrades',\n",
       " 'NumTotalTrades',\n",
       " 'NumTradesOpeninLast12M',\n",
       " 'MSinceMostRecentInqexcl7days',\n",
       " 'NumInstallTradesWBalance',\n",
       " 'PercentSatisfactoryTrades',\n",
       " 'NumTradesWBalance',\n",
       " 'NetFractionInstallBurden_imputation']"
      ]
     },
     "execution_count": 31,
     "metadata": {},
     "output_type": "execute_result"
    }
   ],
   "source": [
    "low_correlation_features"
   ]
  },
  {
   "cell_type": "markdown",
   "metadata": {},
   "source": [
    "3. From Categorical vs Target (1.2.3) we identified the following to be dropped\n",
    "    - None"
   ]
  },
  {
   "cell_type": "markdown",
   "metadata": {},
   "source": [
    "We will now drop these features\n",
    "- Before dropping we will duplicate the original dataframe, df, and label it df_rev1\n",
    "- We will drop features from this copy only (df_rev1)\n",
    "- This will allow us to revert to the original dataset later if we decide to compare the performance of the reduced dataset (df_rev1) with the original dataset (df)"
   ]
  },
  {
   "cell_type": "code",
   "execution_count": 32,
   "metadata": {},
   "outputs": [
    {
     "name": "stdout",
     "output_type": "stream",
     "text": [
      "\n",
      "Remaining columns: Index(['RiskPerformance', 'ExternalRiskEstimate', 'AverageMInFile',\n",
      "       'NumTrades60Ever2DerogPubRec', 'PercentTradesNeverDelq',\n",
      "       'MSinceMostRecentDelq', 'MaxDelq2PublicRecLast12M', 'MaxDelqEver',\n",
      "       'PercentInstallTrades', 'NumInqLast6Mexcl7days',\n",
      "       'NetFractionRevolvingBurden', 'NumRevolvingTradesWBalance',\n",
      "       'NumBank2NatlTradesWHighUtilization', 'PercentTradesWBalance',\n",
      "       'DelqEver', 'DelqLast12M'],\n",
      "      dtype='object')\n",
      "\n",
      "New shape: (841, 16)\n"
     ]
    }
   ],
   "source": [
    "# drop all low correlation features\n",
    "low_value_features = list(set(low_information_gain + low_correlation_features))\n",
    "# before dropping make copy of original\n",
    "df_rev1 = df.copy()\n",
    "# drop low value features\n",
    "df_rev1.drop(low_value_features, 1, inplace=True)\n",
    "print('\\nRemaining columns:', df_rev1.columns)\n",
    "print('\\nNew shape:', df_rev1.shape)"
   ]
  },
  {
   "cell_type": "markdown",
   "metadata": {},
   "source": [
    "## 1.3 Prepare dataset for modeling\n",
    "Now we have picked our descriptive features for the whole dataset, a number of additional steps will need to be taken to prepare the dataset for modeling \n",
    "- We will now convert the categorical variables into dummies variable to allow modeling\n",
    "- We will then remove the redundant dummies which contain no additional information\n",
    "- We will then set up the train test split again based on the dataset with the dummies included"
   ]
  },
  {
   "cell_type": "markdown",
   "metadata": {},
   "source": [
    "#### Set up dummy features. \n",
    "This will split up each categorical feature into a number of dummy features. The data type changes to \"uint8\""
   ]
  },
  {
   "cell_type": "code",
   "execution_count": 33,
   "metadata": {},
   "outputs": [
    {
     "data": {
      "text/plain": [
       "RiskPerformance                       int64\n",
       "ExternalRiskEstimate                  int64\n",
       "AverageMInFile                        int64\n",
       "NumTrades60Ever2DerogPubRec           int64\n",
       "PercentTradesNeverDelq                int64\n",
       "MSinceMostRecentDelq                  int64\n",
       "PercentInstallTrades                  int64\n",
       "NumInqLast6Mexcl7days                 int64\n",
       "NetFractionRevolvingBurden            int64\n",
       "NumRevolvingTradesWBalance            int64\n",
       "NumBank2NatlTradesWHighUtilization    int64\n",
       "PercentTradesWBalance                 int64\n",
       "MaxDelq2PublicRecLast12M_2            uint8\n",
       "MaxDelq2PublicRecLast12M_3            uint8\n",
       "MaxDelq2PublicRecLast12M_4            uint8\n",
       "MaxDelq2PublicRecLast12M_5            uint8\n",
       "MaxDelq2PublicRecLast12M_6            uint8\n",
       "MaxDelq2PublicRecLast12M_7            uint8\n",
       "MaxDelqEver_2                         uint8\n",
       "MaxDelqEver_3                         uint8\n",
       "MaxDelqEver_4                         uint8\n",
       "MaxDelqEver_5                         uint8\n",
       "MaxDelqEver_6                         uint8\n",
       "MaxDelqEver_7                         uint8\n",
       "DelqEver_0                            uint8\n",
       "DelqEver_1                            uint8\n",
       "DelqLast12M_0                         uint8\n",
       "DelqLast12M_1                         uint8\n",
       "dtype: object"
      ]
     },
     "execution_count": 33,
     "metadata": {},
     "output_type": "execute_result"
    }
   ],
   "source": [
    "# set up dummies features\n",
    "df_rev1 = pd.get_dummies(df_rev1)\n",
    "df_rev1.dtypes"
   ]
  },
  {
   "cell_type": "markdown",
   "metadata": {},
   "source": [
    "#### Remove redundant features\n",
    "We do not need to keep DelqEver_0 or DelqLast12M_0. These values are encoded in DelqEver_1 and DelqLast12M_1. These will now be dropped"
   ]
  },
  {
   "cell_type": "code",
   "execution_count": 34,
   "metadata": {},
   "outputs": [],
   "source": [
    "df_rev1 = df_rev1.drop(['DelqEver_0','DelqLast12M_0'],1)"
   ]
  },
  {
   "cell_type": "markdown",
   "metadata": {},
   "source": [
    "#### Continuous columns are:"
   ]
  },
  {
   "cell_type": "code",
   "execution_count": 35,
   "metadata": {},
   "outputs": [
    {
     "data": {
      "text/plain": [
       "['ExternalRiskEstimate',\n",
       " 'AverageMInFile',\n",
       " 'NumTrades60Ever2DerogPubRec',\n",
       " 'PercentTradesNeverDelq',\n",
       " 'MSinceMostRecentDelq',\n",
       " 'PercentInstallTrades',\n",
       " 'NumInqLast6Mexcl7days',\n",
       " 'NetFractionRevolvingBurden',\n",
       " 'NumRevolvingTradesWBalance',\n",
       " 'NumBank2NatlTradesWHighUtilization',\n",
       " 'PercentTradesWBalance']"
      ]
     },
     "execution_count": 35,
     "metadata": {},
     "output_type": "execute_result"
    }
   ],
   "source": [
    "continuous_columns = df_rev1.select_dtypes(include=['int64']).columns.tolist()\n",
    "# remove the target \"RiskPerformance\"\n",
    "continuous_columns.pop(0)\n",
    "continuous_columns"
   ]
  },
  {
   "cell_type": "markdown",
   "metadata": {},
   "source": [
    "#### Categorical columns are:"
   ]
  },
  {
   "cell_type": "code",
   "execution_count": 36,
   "metadata": {},
   "outputs": [
    {
     "data": {
      "text/plain": [
       "['MaxDelq2PublicRecLast12M_2',\n",
       " 'MaxDelq2PublicRecLast12M_3',\n",
       " 'MaxDelq2PublicRecLast12M_4',\n",
       " 'MaxDelq2PublicRecLast12M_5',\n",
       " 'MaxDelq2PublicRecLast12M_6',\n",
       " 'MaxDelq2PublicRecLast12M_7',\n",
       " 'MaxDelqEver_2',\n",
       " 'MaxDelqEver_3',\n",
       " 'MaxDelqEver_4',\n",
       " 'MaxDelqEver_5',\n",
       " 'MaxDelqEver_6',\n",
       " 'MaxDelqEver_7',\n",
       " 'DelqEver_1',\n",
       " 'DelqLast12M_1']"
      ]
     },
     "execution_count": 36,
     "metadata": {},
     "output_type": "execute_result"
    }
   ],
   "source": [
    "categorical_columns = df_rev1.select_dtypes(include=['uint8']).columns.tolist()\n",
    "categorical_columns"
   ]
  },
  {
   "cell_type": "markdown",
   "metadata": {},
   "source": [
    "#### Total features are:"
   ]
  },
  {
   "cell_type": "code",
   "execution_count": 37,
   "metadata": {},
   "outputs": [
    {
     "data": {
      "text/plain": [
       "['ExternalRiskEstimate',\n",
       " 'AverageMInFile',\n",
       " 'NumTrades60Ever2DerogPubRec',\n",
       " 'PercentTradesNeverDelq',\n",
       " 'MSinceMostRecentDelq',\n",
       " 'PercentInstallTrades',\n",
       " 'NumInqLast6Mexcl7days',\n",
       " 'NetFractionRevolvingBurden',\n",
       " 'NumRevolvingTradesWBalance',\n",
       " 'NumBank2NatlTradesWHighUtilization',\n",
       " 'PercentTradesWBalance',\n",
       " 'MaxDelq2PublicRecLast12M_2',\n",
       " 'MaxDelq2PublicRecLast12M_3',\n",
       " 'MaxDelq2PublicRecLast12M_4',\n",
       " 'MaxDelq2PublicRecLast12M_5',\n",
       " 'MaxDelq2PublicRecLast12M_6',\n",
       " 'MaxDelq2PublicRecLast12M_7',\n",
       " 'MaxDelqEver_2',\n",
       " 'MaxDelqEver_3',\n",
       " 'MaxDelqEver_4',\n",
       " 'MaxDelqEver_5',\n",
       " 'MaxDelqEver_6',\n",
       " 'MaxDelqEver_7',\n",
       " 'DelqEver_1',\n",
       " 'DelqLast12M_1']"
      ]
     },
     "execution_count": 37,
     "metadata": {},
     "output_type": "execute_result"
    }
   ],
   "source": [
    "features = continuous_columns + categorical_columns\n",
    "features"
   ]
  },
  {
   "cell_type": "markdown",
   "metadata": {},
   "source": [
    "### Setting up the train/test split\n",
    "- This is based on the dataset with dummy values\n",
    "- The Target is stored in dataframe \"y\"\n",
    "- The remaining features are stored in dataframe \"X\"\n",
    "- Both are split into training and test subsets"
   ]
  },
  {
   "cell_type": "code",
   "execution_count": 38,
   "metadata": {},
   "outputs": [
    {
     "name": "stdout",
     "output_type": "stream",
     "text": [
      "original range is:  841\n",
      "training range (70%):\t rows 0 to 588\n",
      "test range (30%): \t rows 588 to 841\n"
     ]
    }
   ],
   "source": [
    "# y is the target\n",
    "y = df_rev1[\"RiskPerformance\"]\n",
    "# X is everything else\n",
    "X = df_rev1.drop([\"RiskPerformance\"],1)\n",
    "# Split the dataset into two datasets: 70% training and 30% test\n",
    "X_train, X_test, y_train, y_test = train_test_split(X, y, random_state=1,  test_size=0.3)\n",
    "\n",
    "print(\"original range is: \",df_rev1.shape[0])\n",
    "print(\"training range (70%):\\t rows 0 to\", round(X_train.shape[0]))\n",
    "print(\"test range (30%): \\t rows\", round(X_train.shape[0]), \"to\", round(X_train.shape[0]) + X_test.shape[0])"
   ]
  },
  {
   "cell_type": "code",
   "execution_count": 39,
   "metadata": {},
   "outputs": [
    {
     "name": "stdout",
     "output_type": "stream",
     "text": [
      "\n",
      "Descriptive features in X:\n",
      "      ExternalRiskEstimate  AverageMInFile  NumTrades60Ever2DerogPubRec  \\\n",
      "40                     68              50                            0   \n",
      "89                     77              75                            1   \n",
      "676                    86             114                            0   \n",
      "294                    58              49                            2   \n",
      "68                     82             115                            0   \n",
      "\n",
      "     PercentTradesNeverDelq  MSinceMostRecentDelq  PercentInstallTrades  \\\n",
      "40                      100                   125                     0   \n",
      "89                       89                    19                    22   \n",
      "676                     100                   125                    24   \n",
      "294                      57                     6                    71   \n",
      "68                       97                    19                    13   \n",
      "\n",
      "     NumInqLast6Mexcl7days  NetFractionRevolvingBurden  \\\n",
      "40                       0                          87   \n",
      "89                       2                           1   \n",
      "676                      0                           6   \n",
      "294                      3                           0   \n",
      "68                       0                          10   \n",
      "\n",
      "     NumRevolvingTradesWBalance  NumBank2NatlTradesWHighUtilization  ...  \\\n",
      "40                            4                                   3  ...   \n",
      "89                            1                                   0  ...   \n",
      "676                           3                                   1  ...   \n",
      "294                           1                                   0  ...   \n",
      "68                           11                                   0  ...   \n",
      "\n",
      "     MaxDelq2PublicRecLast12M_6  MaxDelq2PublicRecLast12M_7  MaxDelqEver_2  \\\n",
      "40                            0                           1              0   \n",
      "89                            0                           1              0   \n",
      "676                           0                           1              0   \n",
      "294                           1                           0              1   \n",
      "68                            0                           1              0   \n",
      "\n",
      "     MaxDelqEver_3  MaxDelqEver_4  MaxDelqEver_5  MaxDelqEver_6  \\\n",
      "40               0              0              0              0   \n",
      "89               0              0              0              1   \n",
      "676              0              0              0              0   \n",
      "294              0              0              0              0   \n",
      "68               0              0              0              1   \n",
      "\n",
      "     MaxDelqEver_7  DelqEver_1  DelqLast12M_1  \n",
      "40               1           0              0  \n",
      "89               0           1              0  \n",
      "676              1           0              0  \n",
      "294              0           1              1  \n",
      "68               0           1              0  \n",
      "\n",
      "[5 rows x 25 columns]\n",
      "\n",
      "Target feature in y:\n",
      " 40     0\n",
      "89     1\n",
      "676    1\n",
      "294    0\n",
      "68     1\n",
      "Name: RiskPerformance, dtype: int64\n"
     ]
    }
   ],
   "source": [
    "print(\"\\nDescriptive features in X:\\n\", X_train.head(5))\n",
    "print(\"\\nTarget feature in y:\\n\", y_train.head(5))"
   ]
  },
  {
   "cell_type": "markdown",
   "metadata": {},
   "source": [
    "#### Reset the indexes of the training and test splits\n",
    "- We can see from the X_train printout below that the indexes are no longer consecutive\n",
    "- This is the same for y_train, X_test, y_test\n",
    "- This will need to be dealt with next as it will effect merging of dataframes in the coming sections"
   ]
  },
  {
   "cell_type": "code",
   "execution_count": 40,
   "metadata": {},
   "outputs": [
    {
     "data": {
      "text/html": [
       "<div>\n",
       "<style scoped>\n",
       "    .dataframe tbody tr th:only-of-type {\n",
       "        vertical-align: middle;\n",
       "    }\n",
       "\n",
       "    .dataframe tbody tr th {\n",
       "        vertical-align: top;\n",
       "    }\n",
       "\n",
       "    .dataframe thead th {\n",
       "        text-align: right;\n",
       "    }\n",
       "</style>\n",
       "<table border=\"1\" class=\"dataframe\">\n",
       "  <thead>\n",
       "    <tr style=\"text-align: right;\">\n",
       "      <th></th>\n",
       "      <th>ExternalRiskEstimate</th>\n",
       "      <th>AverageMInFile</th>\n",
       "      <th>NumTrades60Ever2DerogPubRec</th>\n",
       "      <th>PercentTradesNeverDelq</th>\n",
       "      <th>MSinceMostRecentDelq</th>\n",
       "      <th>PercentInstallTrades</th>\n",
       "      <th>NumInqLast6Mexcl7days</th>\n",
       "      <th>NetFractionRevolvingBurden</th>\n",
       "      <th>NumRevolvingTradesWBalance</th>\n",
       "      <th>NumBank2NatlTradesWHighUtilization</th>\n",
       "      <th>...</th>\n",
       "      <th>MaxDelq2PublicRecLast12M_6</th>\n",
       "      <th>MaxDelq2PublicRecLast12M_7</th>\n",
       "      <th>MaxDelqEver_2</th>\n",
       "      <th>MaxDelqEver_3</th>\n",
       "      <th>MaxDelqEver_4</th>\n",
       "      <th>MaxDelqEver_5</th>\n",
       "      <th>MaxDelqEver_6</th>\n",
       "      <th>MaxDelqEver_7</th>\n",
       "      <th>DelqEver_1</th>\n",
       "      <th>DelqLast12M_1</th>\n",
       "    </tr>\n",
       "  </thead>\n",
       "  <tbody>\n",
       "    <tr>\n",
       "      <th>40</th>\n",
       "      <td>68</td>\n",
       "      <td>50</td>\n",
       "      <td>0</td>\n",
       "      <td>100</td>\n",
       "      <td>125</td>\n",
       "      <td>0</td>\n",
       "      <td>0</td>\n",
       "      <td>87</td>\n",
       "      <td>4</td>\n",
       "      <td>3</td>\n",
       "      <td>...</td>\n",
       "      <td>0</td>\n",
       "      <td>1</td>\n",
       "      <td>0</td>\n",
       "      <td>0</td>\n",
       "      <td>0</td>\n",
       "      <td>0</td>\n",
       "      <td>0</td>\n",
       "      <td>1</td>\n",
       "      <td>0</td>\n",
       "      <td>0</td>\n",
       "    </tr>\n",
       "    <tr>\n",
       "      <th>89</th>\n",
       "      <td>77</td>\n",
       "      <td>75</td>\n",
       "      <td>1</td>\n",
       "      <td>89</td>\n",
       "      <td>19</td>\n",
       "      <td>22</td>\n",
       "      <td>2</td>\n",
       "      <td>1</td>\n",
       "      <td>1</td>\n",
       "      <td>0</td>\n",
       "      <td>...</td>\n",
       "      <td>0</td>\n",
       "      <td>1</td>\n",
       "      <td>0</td>\n",
       "      <td>0</td>\n",
       "      <td>0</td>\n",
       "      <td>0</td>\n",
       "      <td>1</td>\n",
       "      <td>0</td>\n",
       "      <td>1</td>\n",
       "      <td>0</td>\n",
       "    </tr>\n",
       "    <tr>\n",
       "      <th>676</th>\n",
       "      <td>86</td>\n",
       "      <td>114</td>\n",
       "      <td>0</td>\n",
       "      <td>100</td>\n",
       "      <td>125</td>\n",
       "      <td>24</td>\n",
       "      <td>0</td>\n",
       "      <td>6</td>\n",
       "      <td>3</td>\n",
       "      <td>1</td>\n",
       "      <td>...</td>\n",
       "      <td>0</td>\n",
       "      <td>1</td>\n",
       "      <td>0</td>\n",
       "      <td>0</td>\n",
       "      <td>0</td>\n",
       "      <td>0</td>\n",
       "      <td>0</td>\n",
       "      <td>1</td>\n",
       "      <td>0</td>\n",
       "      <td>0</td>\n",
       "    </tr>\n",
       "    <tr>\n",
       "      <th>294</th>\n",
       "      <td>58</td>\n",
       "      <td>49</td>\n",
       "      <td>2</td>\n",
       "      <td>57</td>\n",
       "      <td>6</td>\n",
       "      <td>71</td>\n",
       "      <td>3</td>\n",
       "      <td>0</td>\n",
       "      <td>1</td>\n",
       "      <td>0</td>\n",
       "      <td>...</td>\n",
       "      <td>1</td>\n",
       "      <td>0</td>\n",
       "      <td>1</td>\n",
       "      <td>0</td>\n",
       "      <td>0</td>\n",
       "      <td>0</td>\n",
       "      <td>0</td>\n",
       "      <td>0</td>\n",
       "      <td>1</td>\n",
       "      <td>1</td>\n",
       "    </tr>\n",
       "    <tr>\n",
       "      <th>68</th>\n",
       "      <td>82</td>\n",
       "      <td>115</td>\n",
       "      <td>0</td>\n",
       "      <td>97</td>\n",
       "      <td>19</td>\n",
       "      <td>13</td>\n",
       "      <td>0</td>\n",
       "      <td>10</td>\n",
       "      <td>11</td>\n",
       "      <td>0</td>\n",
       "      <td>...</td>\n",
       "      <td>0</td>\n",
       "      <td>1</td>\n",
       "      <td>0</td>\n",
       "      <td>0</td>\n",
       "      <td>0</td>\n",
       "      <td>0</td>\n",
       "      <td>1</td>\n",
       "      <td>0</td>\n",
       "      <td>1</td>\n",
       "      <td>0</td>\n",
       "    </tr>\n",
       "  </tbody>\n",
       "</table>\n",
       "<p>5 rows × 25 columns</p>\n",
       "</div>"
      ],
      "text/plain": [
       "     ExternalRiskEstimate  AverageMInFile  NumTrades60Ever2DerogPubRec  \\\n",
       "40                     68              50                            0   \n",
       "89                     77              75                            1   \n",
       "676                    86             114                            0   \n",
       "294                    58              49                            2   \n",
       "68                     82             115                            0   \n",
       "\n",
       "     PercentTradesNeverDelq  MSinceMostRecentDelq  PercentInstallTrades  \\\n",
       "40                      100                   125                     0   \n",
       "89                       89                    19                    22   \n",
       "676                     100                   125                    24   \n",
       "294                      57                     6                    71   \n",
       "68                       97                    19                    13   \n",
       "\n",
       "     NumInqLast6Mexcl7days  NetFractionRevolvingBurden  \\\n",
       "40                       0                          87   \n",
       "89                       2                           1   \n",
       "676                      0                           6   \n",
       "294                      3                           0   \n",
       "68                       0                          10   \n",
       "\n",
       "     NumRevolvingTradesWBalance  NumBank2NatlTradesWHighUtilization  ...  \\\n",
       "40                            4                                   3  ...   \n",
       "89                            1                                   0  ...   \n",
       "676                           3                                   1  ...   \n",
       "294                           1                                   0  ...   \n",
       "68                           11                                   0  ...   \n",
       "\n",
       "     MaxDelq2PublicRecLast12M_6  MaxDelq2PublicRecLast12M_7  MaxDelqEver_2  \\\n",
       "40                            0                           1              0   \n",
       "89                            0                           1              0   \n",
       "676                           0                           1              0   \n",
       "294                           1                           0              1   \n",
       "68                            0                           1              0   \n",
       "\n",
       "     MaxDelqEver_3  MaxDelqEver_4  MaxDelqEver_5  MaxDelqEver_6  \\\n",
       "40               0              0              0              0   \n",
       "89               0              0              0              1   \n",
       "676              0              0              0              0   \n",
       "294              0              0              0              0   \n",
       "68               0              0              0              1   \n",
       "\n",
       "     MaxDelqEver_7  DelqEver_1  DelqLast12M_1  \n",
       "40               1           0              0  \n",
       "89               0           1              0  \n",
       "676              1           0              0  \n",
       "294              0           1              1  \n",
       "68               0           1              0  \n",
       "\n",
       "[5 rows x 25 columns]"
      ]
     },
     "execution_count": 40,
     "metadata": {},
     "output_type": "execute_result"
    }
   ],
   "source": [
    "X_train.head(5)"
   ]
  },
  {
   "cell_type": "markdown",
   "metadata": {},
   "source": [
    "We will now reset the index of all training and test dataframes"
   ]
  },
  {
   "cell_type": "code",
   "execution_count": 41,
   "metadata": {},
   "outputs": [
    {
     "data": {
      "text/html": [
       "<div>\n",
       "<style scoped>\n",
       "    .dataframe tbody tr th:only-of-type {\n",
       "        vertical-align: middle;\n",
       "    }\n",
       "\n",
       "    .dataframe tbody tr th {\n",
       "        vertical-align: top;\n",
       "    }\n",
       "\n",
       "    .dataframe thead th {\n",
       "        text-align: right;\n",
       "    }\n",
       "</style>\n",
       "<table border=\"1\" class=\"dataframe\">\n",
       "  <thead>\n",
       "    <tr style=\"text-align: right;\">\n",
       "      <th></th>\n",
       "      <th>ExternalRiskEstimate</th>\n",
       "      <th>AverageMInFile</th>\n",
       "      <th>NumTrades60Ever2DerogPubRec</th>\n",
       "      <th>PercentTradesNeverDelq</th>\n",
       "      <th>MSinceMostRecentDelq</th>\n",
       "      <th>PercentInstallTrades</th>\n",
       "      <th>NumInqLast6Mexcl7days</th>\n",
       "      <th>NetFractionRevolvingBurden</th>\n",
       "      <th>NumRevolvingTradesWBalance</th>\n",
       "      <th>NumBank2NatlTradesWHighUtilization</th>\n",
       "      <th>...</th>\n",
       "      <th>MaxDelq2PublicRecLast12M_6</th>\n",
       "      <th>MaxDelq2PublicRecLast12M_7</th>\n",
       "      <th>MaxDelqEver_2</th>\n",
       "      <th>MaxDelqEver_3</th>\n",
       "      <th>MaxDelqEver_4</th>\n",
       "      <th>MaxDelqEver_5</th>\n",
       "      <th>MaxDelqEver_6</th>\n",
       "      <th>MaxDelqEver_7</th>\n",
       "      <th>DelqEver_1</th>\n",
       "      <th>DelqLast12M_1</th>\n",
       "    </tr>\n",
       "  </thead>\n",
       "  <tbody>\n",
       "    <tr>\n",
       "      <th>0</th>\n",
       "      <td>68</td>\n",
       "      <td>50</td>\n",
       "      <td>0</td>\n",
       "      <td>100</td>\n",
       "      <td>125</td>\n",
       "      <td>0</td>\n",
       "      <td>0</td>\n",
       "      <td>87</td>\n",
       "      <td>4</td>\n",
       "      <td>3</td>\n",
       "      <td>...</td>\n",
       "      <td>0</td>\n",
       "      <td>1</td>\n",
       "      <td>0</td>\n",
       "      <td>0</td>\n",
       "      <td>0</td>\n",
       "      <td>0</td>\n",
       "      <td>0</td>\n",
       "      <td>1</td>\n",
       "      <td>0</td>\n",
       "      <td>0</td>\n",
       "    </tr>\n",
       "    <tr>\n",
       "      <th>1</th>\n",
       "      <td>77</td>\n",
       "      <td>75</td>\n",
       "      <td>1</td>\n",
       "      <td>89</td>\n",
       "      <td>19</td>\n",
       "      <td>22</td>\n",
       "      <td>2</td>\n",
       "      <td>1</td>\n",
       "      <td>1</td>\n",
       "      <td>0</td>\n",
       "      <td>...</td>\n",
       "      <td>0</td>\n",
       "      <td>1</td>\n",
       "      <td>0</td>\n",
       "      <td>0</td>\n",
       "      <td>0</td>\n",
       "      <td>0</td>\n",
       "      <td>1</td>\n",
       "      <td>0</td>\n",
       "      <td>1</td>\n",
       "      <td>0</td>\n",
       "    </tr>\n",
       "    <tr>\n",
       "      <th>2</th>\n",
       "      <td>86</td>\n",
       "      <td>114</td>\n",
       "      <td>0</td>\n",
       "      <td>100</td>\n",
       "      <td>125</td>\n",
       "      <td>24</td>\n",
       "      <td>0</td>\n",
       "      <td>6</td>\n",
       "      <td>3</td>\n",
       "      <td>1</td>\n",
       "      <td>...</td>\n",
       "      <td>0</td>\n",
       "      <td>1</td>\n",
       "      <td>0</td>\n",
       "      <td>0</td>\n",
       "      <td>0</td>\n",
       "      <td>0</td>\n",
       "      <td>0</td>\n",
       "      <td>1</td>\n",
       "      <td>0</td>\n",
       "      <td>0</td>\n",
       "    </tr>\n",
       "    <tr>\n",
       "      <th>3</th>\n",
       "      <td>58</td>\n",
       "      <td>49</td>\n",
       "      <td>2</td>\n",
       "      <td>57</td>\n",
       "      <td>6</td>\n",
       "      <td>71</td>\n",
       "      <td>3</td>\n",
       "      <td>0</td>\n",
       "      <td>1</td>\n",
       "      <td>0</td>\n",
       "      <td>...</td>\n",
       "      <td>1</td>\n",
       "      <td>0</td>\n",
       "      <td>1</td>\n",
       "      <td>0</td>\n",
       "      <td>0</td>\n",
       "      <td>0</td>\n",
       "      <td>0</td>\n",
       "      <td>0</td>\n",
       "      <td>1</td>\n",
       "      <td>1</td>\n",
       "    </tr>\n",
       "    <tr>\n",
       "      <th>4</th>\n",
       "      <td>82</td>\n",
       "      <td>115</td>\n",
       "      <td>0</td>\n",
       "      <td>97</td>\n",
       "      <td>19</td>\n",
       "      <td>13</td>\n",
       "      <td>0</td>\n",
       "      <td>10</td>\n",
       "      <td>11</td>\n",
       "      <td>0</td>\n",
       "      <td>...</td>\n",
       "      <td>0</td>\n",
       "      <td>1</td>\n",
       "      <td>0</td>\n",
       "      <td>0</td>\n",
       "      <td>0</td>\n",
       "      <td>0</td>\n",
       "      <td>1</td>\n",
       "      <td>0</td>\n",
       "      <td>1</td>\n",
       "      <td>0</td>\n",
       "    </tr>\n",
       "  </tbody>\n",
       "</table>\n",
       "<p>5 rows × 25 columns</p>\n",
       "</div>"
      ],
      "text/plain": [
       "   ExternalRiskEstimate  AverageMInFile  NumTrades60Ever2DerogPubRec  \\\n",
       "0                    68              50                            0   \n",
       "1                    77              75                            1   \n",
       "2                    86             114                            0   \n",
       "3                    58              49                            2   \n",
       "4                    82             115                            0   \n",
       "\n",
       "   PercentTradesNeverDelq  MSinceMostRecentDelq  PercentInstallTrades  \\\n",
       "0                     100                   125                     0   \n",
       "1                      89                    19                    22   \n",
       "2                     100                   125                    24   \n",
       "3                      57                     6                    71   \n",
       "4                      97                    19                    13   \n",
       "\n",
       "   NumInqLast6Mexcl7days  NetFractionRevolvingBurden  \\\n",
       "0                      0                          87   \n",
       "1                      2                           1   \n",
       "2                      0                           6   \n",
       "3                      3                           0   \n",
       "4                      0                          10   \n",
       "\n",
       "   NumRevolvingTradesWBalance  NumBank2NatlTradesWHighUtilization  ...  \\\n",
       "0                           4                                   3  ...   \n",
       "1                           1                                   0  ...   \n",
       "2                           3                                   1  ...   \n",
       "3                           1                                   0  ...   \n",
       "4                          11                                   0  ...   \n",
       "\n",
       "   MaxDelq2PublicRecLast12M_6  MaxDelq2PublicRecLast12M_7  MaxDelqEver_2  \\\n",
       "0                           0                           1              0   \n",
       "1                           0                           1              0   \n",
       "2                           0                           1              0   \n",
       "3                           1                           0              1   \n",
       "4                           0                           1              0   \n",
       "\n",
       "   MaxDelqEver_3  MaxDelqEver_4  MaxDelqEver_5  MaxDelqEver_6  MaxDelqEver_7  \\\n",
       "0              0              0              0              0              1   \n",
       "1              0              0              0              1              0   \n",
       "2              0              0              0              0              1   \n",
       "3              0              0              0              0              0   \n",
       "4              0              0              0              1              0   \n",
       "\n",
       "   DelqEver_1  DelqLast12M_1  \n",
       "0           0              0  \n",
       "1           1              0  \n",
       "2           0              0  \n",
       "3           1              1  \n",
       "4           1              0  \n",
       "\n",
       "[5 rows x 25 columns]"
      ]
     },
     "execution_count": 41,
     "metadata": {},
     "output_type": "execute_result"
    }
   ],
   "source": [
    "# need to reset the index to allow contatenation with predicted values otherwise not joining on same index...\n",
    "X_train.reset_index(drop=True, inplace=True)\n",
    "y_train.reset_index(drop=True, inplace=True)\n",
    "X_test.reset_index(drop=True, inplace=True)\n",
    "y_test.reset_index(drop=True, inplace=True)\n",
    "X_train.head(5)"
   ]
  },
  {
   "cell_type": "markdown",
   "metadata": {},
   "source": [
    "The datasets are now ready for modeling"
   ]
  },
  {
   "cell_type": "markdown",
   "metadata": {},
   "source": [
    "## (2) Linear Regression Model\n",
    "#### 2.1 Train a linear regression model using only the descriptive features selected from part 1 above"
   ]
  },
  {
   "cell_type": "code",
   "execution_count": 42,
   "metadata": {},
   "outputs": [],
   "source": [
    "# Train aka fit, a model using all continuous and categorical features.\n",
    "multiple_linreg = LinearRegression().fit(X_train, y_train)"
   ]
  },
  {
   "cell_type": "markdown",
   "metadata": {},
   "source": [
    "#### 2.2 Print out the coefficients learned by the model"
   ]
  },
  {
   "cell_type": "code",
   "execution_count": 43,
   "metadata": {},
   "outputs": [
    {
     "name": "stdout",
     "output_type": "stream",
     "text": [
      "\n",
      "Features are: \n",
      " Index(['ExternalRiskEstimate', 'AverageMInFile', 'NumTrades60Ever2DerogPubRec',\n",
      "       'PercentTradesNeverDelq', 'MSinceMostRecentDelq',\n",
      "       'PercentInstallTrades', 'NumInqLast6Mexcl7days',\n",
      "       'NetFractionRevolvingBurden', 'NumRevolvingTradesWBalance',\n",
      "       'NumBank2NatlTradesWHighUtilization', 'PercentTradesWBalance',\n",
      "       'MaxDelq2PublicRecLast12M_2', 'MaxDelq2PublicRecLast12M_3',\n",
      "       'MaxDelq2PublicRecLast12M_4', 'MaxDelq2PublicRecLast12M_5',\n",
      "       'MaxDelq2PublicRecLast12M_6', 'MaxDelq2PublicRecLast12M_7',\n",
      "       'MaxDelqEver_2', 'MaxDelqEver_3', 'MaxDelqEver_4', 'MaxDelqEver_5',\n",
      "       'MaxDelqEver_6', 'MaxDelqEver_7', 'DelqEver_1', 'DelqLast12M_1'],\n",
      "      dtype='object')\n",
      "\n",
      "Coeficients are: \n",
      " [ 1.46738819e-02  1.19603919e-03 -2.60882235e-02  2.39502964e-03\n",
      "  3.01599894e-03 -1.91021946e-03 -1.46492890e-02 -1.57832619e-04\n",
      "  1.56953960e-03 -3.07952669e-02 -2.14284888e-03 -8.64851709e-02\n",
      "  5.81346025e-02 -2.66794004e-01  2.51147628e-01  4.67497347e-02\n",
      " -2.75278986e-03  1.09987537e-01  8.41214065e-02  7.64930738e-02\n",
      " -8.77556624e-02 -3.86637505e-02 -1.44182605e-01  1.44182605e-01\n",
      "  2.75278986e-03]\n",
      "\n",
      "Intercept is: \n",
      " -0.8627180414610216\n",
      "\n",
      "Features and coeficients: \n",
      " [('ExternalRiskEstimate', 0.014673881869296605), ('AverageMInFile', 0.0011960391933817285), ('NumTrades60Ever2DerogPubRec', -0.026088223522574634), ('PercentTradesNeverDelq', 0.0023950296379248), ('MSinceMostRecentDelq', 0.0030159989425890673), ('PercentInstallTrades', -0.0019102194572320713), ('NumInqLast6Mexcl7days', -0.014649289034314209), ('NetFractionRevolvingBurden', -0.00015783261851451836), ('NumRevolvingTradesWBalance', 0.0015695396043918573), ('NumBank2NatlTradesWHighUtilization', -0.030795266943395235), ('PercentTradesWBalance', -0.002142848881175492), ('MaxDelq2PublicRecLast12M_2', -0.08648517092736441), ('MaxDelq2PublicRecLast12M_3', 0.05813460252941232), ('MaxDelq2PublicRecLast12M_4', -0.26679400443320545), ('MaxDelq2PublicRecLast12M_5', 0.25114762801160445), ('MaxDelq2PublicRecLast12M_6', 0.046749734680994914), ('MaxDelq2PublicRecLast12M_7', -0.0027527898614420673), ('MaxDelqEver_2', 0.10998753720731927), ('MaxDelqEver_3', 0.08412140645814496), ('MaxDelqEver_4', 0.07649307381256613), ('MaxDelqEver_5', -0.08775566236639891), ('MaxDelqEver_6', -0.038663750476844554), ('MaxDelqEver_7', -0.14418260463478758), ('DelqEver_1', 0.14418260463478758), ('DelqLast12M_1', 0.0027527898614422494)]\n"
     ]
    }
   ],
   "source": [
    "# Print the weights learned for each feature.\n",
    "print(\"\\nFeatures are: \\n\", X_train.columns)\n",
    "print(\"\\nCoeficients are: \\n\", multiple_linreg.coef_)\n",
    "print(\"\\nIntercept is: \\n\", multiple_linreg.intercept_)\n",
    "print(\"\\nFeatures and coeficients: \\n\", list(zip(X_train.columns, multiple_linreg.coef_)))"
   ]
  },
  {
   "cell_type": "markdown",
   "metadata": {},
   "source": [
    "#### 2.3 Interpreting the linear regression model\n",
    "\n",
    "- Linear regression is a modeling tool that is used to make predictions based on linear relationship between the target (dependent variable) and any number of predictors (independent variables)\n",
    "    - It finds the line of best fit the describes the relationship between the target and predictors \n",
    "    - This line is calculated by minimising the overall error\n",
    "- The linear regression formula takes the following form:\n",
    "    - $target\\_feature = w_0 + w_1 * feature_1 + w_2*feature_2 + ...+ w_n*feature_n $\n",
    "    - The output of this formula will be a continuous value that can be less than 0 and higher than 1\n",
    "- We can see the calculated intercept is -0.86 (w_0)\n",
    "    - This is the starting point. i.e. if all other coefficients are zero then the model result will be -0.86\n",
    "    - Can be thought of as where the model line intercepts the y axis\n",
    "- We can see all the coefficients for each feature\n",
    "    - These are zipped together in a single list for ease of inspection.\n",
    "    - The sum of all the feature*coefficients + intercept will result in the model prediction  \n",
    "- We cannot make a direct comparison based on the value of the coefficients as it is tied directly to the range of each feature.\n",
    "    - If all features were normalized this would be possible to see directly\n",
    "    - However if we multiply each feature by its max range we can get an idea of its max possible impact on the prediction.  We could look at median also.\n",
    "    - For ExternalRiskEstimate its max is 93 (93 * 0.0147 = 1.367)\n",
    "    - For PercentTradesNeverDelq its max is 100 (100 * -0.0024 = 0.24)\n",
    "    - From this we can see that ExternalRiskEstimate can have a bigger impact than PercentTradesNeverDelq. \n",
    "    - This should correspond roughly with the correlation values from part 1   \n",
    "    \n",
    "It is important to note that the output from a linear regression model is not suited to the classification problem that we are trying to solve.\n",
    "- The output is not a probability and an additional thresholding step is necessary to convert the output into a binary classification\n",
    "- We will threshold the output so that any values >=0.5 will be cast to 1, any values <0.5 will be cast to 0\n",
    "\n",
    "Finally it is worth mentioning the effect outliers can have on linear regression output. \n",
    "- Consider the effect of the outlier in the graph below on the regression line and what values fall into each threshold category. \n",
    "- The outlier will have a huge effect on values near the threshold. \n",
    "- This will be discussed further in the next section. <br>\n",
    "<img src=\"linear_regression_outliers.png\"> <br>\n",
    "source: https://medium.com/@rgotesman1/learning-machine-learning-part-3-logistic-regression-94db47a94ea3"
   ]
  },
  {
   "cell_type": "markdown",
   "metadata": {},
   "source": [
    "#### 2.4 Printing 100 predicted target features and evaluate the prediction\n",
    "- Here we will print the predicted target feature value for the first 100 training examples. \n",
    "- We will threshold the predicted target feature value given by the linear regression model at 0.5, to get the predicted class for each example. \n",
    "    - If value is >= 0.5 it is cast to 1, if < 0.5 it is cast to 0"
   ]
  },
  {
   "cell_type": "code",
   "execution_count": 44,
   "metadata": {},
   "outputs": [
    {
     "name": "stdout",
     "output_type": "stream",
     "text": [
      "\n",
      "Predictions with multiple linear regression: \n",
      "\n",
      "    RiskPerformance  Predicted\n",
      "0                 0        0.0\n",
      "1                 1        1.0\n",
      "2                 1        1.0\n",
      "3                 0        0.0\n",
      "4                 1        1.0\n",
      "..              ...        ...\n",
      "95                0        1.0\n",
      "96                1        0.0\n",
      "97                1        0.0\n",
      "98                0        0.0\n",
      "99                1        1.0\n",
      "\n",
      "[100 rows x 2 columns]\n"
     ]
    }
   ],
   "source": [
    "# calculate the prediction and threshold the value. If >= 0.5 its true\n",
    "multiple_linreg_predictions_train = (multiple_linreg.predict(X_train) >= 0.5) * 1.0\n",
    "\n",
    "print(\"\\nPredictions with multiple linear regression: \\n\")\n",
    "actual_vs_predicted_multiplelinreg = pd.concat([y_train, pd.DataFrame(multiple_linreg_predictions_train, columns=['Predicted'])], axis=1)\n",
    "print(actual_vs_predicted_multiplelinreg.head(100))"
   ]
  },
  {
   "cell_type": "markdown",
   "metadata": {},
   "source": [
    "#### 2.5 Evaluation metrics based on training data\n",
    "- We will print the classification evaluation measures computed on the training set (e.g. Accuracy, Confusion matrix, Precision, Recall, F1)\n",
    "- We will discuss findings based on these measures"
   ]
  },
  {
   "cell_type": "code",
   "execution_count": 45,
   "metadata": {},
   "outputs": [
    {
     "name": "stdout",
     "output_type": "stream",
     "text": [
      "==================== Train Data =======================\n",
      "Accuracy:  0.7346938775510204\n",
      "Confusion matrix: \n",
      " [[256  69]\n",
      " [ 87 176]]\n",
      "Classification report:\n",
      "                precision    recall  f1-score   support\n",
      "\n",
      "           0       0.75      0.79      0.77       325\n",
      "           1       0.72      0.67      0.69       263\n",
      "\n",
      "    accuracy                           0.73       588\n",
      "   macro avg       0.73      0.73      0.73       588\n",
      "weighted avg       0.73      0.73      0.73       588\n",
      "\n",
      "======================================================\n"
     ]
    }
   ],
   "source": [
    "# Some more evaluation metrics.\n",
    "print(\"==================== Train Data =======================\")\n",
    "print(\"Accuracy: \", metrics.accuracy_score(y_train, multiple_linreg_predictions_train))\n",
    "print(\"Confusion matrix: \\n\", metrics.confusion_matrix(y_train, multiple_linreg_predictions_train))\n",
    "print(\"Classification report:\\n \", metrics.classification_report(y_train, multiple_linreg_predictions_train))\n",
    "print(\"======================================================\")"
   ]
  },
  {
   "cell_type": "markdown",
   "metadata": {},
   "source": [
    "##### Interpretation of results\n",
    "- Accuracy\n",
    "    - This is simply stating how often the model is correct. We have an accuracy of 73%\n",
    "- Confusion Matrix\n",
    "    - [0][0] TRUE NEGATIVE - The number that is predicted 0 that was actually 0\n",
    "    - [0][1] FALSE POSITIVE - The number that is predicted 1 that is actually 0\n",
    "    - [1][0] FALSE NEGATIVE - The number that is predicted 0 that is actually 1\n",
    "    - [1][1] TRUE POSITIVE - The number that is predicted 1 that is actually 1\n",
    "- Precision - How good the model is at predicting the positive class\n",
    "    - What % of the predicted positive are actually positive\n",
    "    - It is the number values correctly predicted positive over the total number of  positive values\n",
    "    - Precision Positive is 0.72\n",
    "    - Precision Negative is 0.75\n",
    "- Recall\n",
    "    - What % of the positive values did we predict\n",
    "    - Is the number correctly predicted positive over the total number actual positive\n",
    "    - Recall Positive is 0.68\n",
    "    - Recall Negative is 0.78\n",
    "- F1 Score\n",
    "    - Is an a weighted average of Precision and recall\n",
    "    - F1 Score Positive is 0.70\n",
    "    - F1 Score Negative is 0.77\n",
    "\n",
    "Summary\n",
    "- Theses values seem reasonable. \n",
    "- The model is a little better at predicting the negative class.\n",
    "- This makes sense as the model has more negative data to learn from - it is the majority class. \n",
    "- This is ideal as it suits the business requirement of flagging potential defaulters more accurately.\n",
    "- It is better that a credit institution overestimates the number of possible defaulters then underestimates. \n",
    "- The down side of this is more people who will not actually default will be flagged "
   ]
  },
  {
   "cell_type": "markdown",
   "metadata": {},
   "source": [
    "#### 2.6 Evaluate the model using the hold-out (30% examples) test set\n",
    "- The results from the test data will be compared the results from the training data.\n",
    "- In addition they will be compared to the results from a cross-validated model (i.e. a new model trained and evaluated using cross-validation on the full dataset)."
   ]
  },
  {
   "cell_type": "markdown",
   "metadata": {},
   "source": [
    "Printing Actual RiskPerformance vs predicted based on test data"
   ]
  },
  {
   "cell_type": "code",
   "execution_count": 46,
   "metadata": {},
   "outputs": [
    {
     "name": "stdout",
     "output_type": "stream",
     "text": [
      "\n",
      "Predictions with multiple linear regression: \n",
      "\n",
      "    RiskPerformance  Predicted\n",
      "0                 1        1.0\n",
      "1                 0        1.0\n",
      "2                 1        0.0\n",
      "3                 0        0.0\n",
      "4                 0        0.0\n",
      "..              ...        ...\n",
      "95                0        0.0\n",
      "96                1        1.0\n",
      "97                1        0.0\n",
      "98                0        0.0\n",
      "99                1        0.0\n",
      "\n",
      "[100 rows x 2 columns]\n"
     ]
    }
   ],
   "source": [
    "# calculate the prediction and threshold the value. If >= 0.5 its true\n",
    "multiple_linreg_predictions_test = (multiple_linreg.predict(X_test) >= 0.5) * 1.0\n",
    "\n",
    "print(\"\\nPredictions with multiple linear regression: \\n\")\n",
    "actual_vs_predicted_multiplelinreg = pd.concat([y_test, pd.DataFrame(multiple_linreg_predictions_test, columns=['Predicted'])], axis=1)\n",
    "print(actual_vs_predicted_multiplelinreg.head(100))"
   ]
  },
  {
   "cell_type": "markdown",
   "metadata": {},
   "source": [
    "##### Evaluation metrics based on test data"
   ]
  },
  {
   "cell_type": "code",
   "execution_count": 47,
   "metadata": {},
   "outputs": [
    {
     "name": "stdout",
     "output_type": "stream",
     "text": [
      "==================== Test Data =======================\n",
      "Accuracy:  0.7351778656126482\n",
      "Confusion matrix: \n",
      " [[101  36]\n",
      " [ 31  85]]\n",
      "Classification report - Test data:\n",
      "                precision    recall  f1-score   support\n",
      "\n",
      "           0       0.77      0.74      0.75       137\n",
      "           1       0.70      0.73      0.72       116\n",
      "\n",
      "    accuracy                           0.74       253\n",
      "   macro avg       0.73      0.73      0.73       253\n",
      "weighted avg       0.74      0.74      0.74       253\n",
      "\n",
      "\n",
      "==================== Train Data ======================\n",
      "Accuracy:  0.7346938775510204\n",
      "Confusion matrix: \n",
      " [[256  69]\n",
      " [ 87 176]]\n",
      "\n",
      "Classification report: - Training data\n",
      "                precision    recall  f1-score   support\n",
      "\n",
      "           0       0.75      0.79      0.77       325\n",
      "           1       0.72      0.67      0.69       263\n",
      "\n",
      "    accuracy                           0.73       588\n",
      "   macro avg       0.73      0.73      0.73       588\n",
      "weighted avg       0.73      0.73      0.73       588\n",
      "\n"
     ]
    }
   ],
   "source": [
    "# Some more evaluation metrics.\n",
    "print(\"==================== Test Data =======================\")\n",
    "print(\"Accuracy: \", metrics.accuracy_score(y_test, multiple_linreg_predictions_test))\n",
    "print(\"Confusion matrix: \\n\", metrics.confusion_matrix(y_test, multiple_linreg_predictions_test))\n",
    "print(\"Classification report - Test data:\\n \", metrics.classification_report(y_test, multiple_linreg_predictions_test))\n",
    "print(\"\\n==================== Train Data ======================\")\n",
    "print(\"Accuracy: \", metrics.accuracy_score(y_train, multiple_linreg_predictions_train))\n",
    "print(\"Confusion matrix: \\n\", metrics.confusion_matrix(y_train, multiple_linreg_predictions_train))\n",
    "print(\"\\nClassification report: - Training data\\n \", metrics.classification_report(y_train, multiple_linreg_predictions_train))"
   ]
  },
  {
   "cell_type": "markdown",
   "metadata": {},
   "source": [
    "**Interpretation of test results and comparison with training results**\n",
    "- Accuracy\n",
    "    - The accuracy of the test data is marginally higher 73.52% vs 73.47%. \n",
    "- Precision\n",
    "    - The precision score for predicting the positive case has reduced from 72% to 70%.\n",
    "    - The precision score for predicting the negative case has increased from 75% to 77%.\n",
    "- Recall\n",
    "    - The recall score for predicting the positive case has increased from 67% to 73%.\n",
    "    - The recall score for predicting the negative case has reduced from 79% to 74%.\n",
    "- F1\n",
    "    - The f1 score for predicting the positive case has increased from 69% to 72%.\n",
    "    - The f1 score for predicting the negative case has reduced from 77% to 75%.\n",
    "\n",
    "**Summary**\n",
    "- These values are a little higher than expected as we are now testing the model prediction on data it has not seen before\n",
    "- This is a good sign that the model is generalising\n",
    "- More comparisons need to be made and this is where cross validation steps in"
   ]
  },
  {
   "cell_type": "markdown",
   "metadata": {},
   "source": [
    "#### 2.7 Cross validation\n",
    "- We will now perform cross validation on the linear regression model. \n",
    "- Here we perform the same evaluation as above but multiple times\n",
    "- Each time the data is shuffled so we get a slightly different view of the data for training and testing\n",
    "- This works well for evaluating on a limited set of data\n",
    "- We will store the results in a dictionary for later use\n",
    "\n",
    "First we need to create a function to perform this cross validation. Sklearn does not provide one for linear regression. However it does for logistic and random forests models\n",
    "- Cross validation Function can be seen below"
   ]
  },
  {
   "cell_type": "code",
   "execution_count": 48,
   "metadata": {},
   "outputs": [],
   "source": [
    "def cross_val_LinReg(X, y, cv=3, scoring='accuracy'):\n",
    "    \"\"\"Functions to carry out cross validation on the linear regression model\n",
    "    Default number of validations is 3. The randon state will be updated \n",
    "    at each iteration to allow our results to be repeated\"\"\"\n",
    "    \n",
    "    # store results\n",
    "    results = []\n",
    "    # evaluate cv times and append to results\n",
    "    for i in range(cv):\n",
    "        # set up train test split\n",
    "        X_train, X_test, y_train, y_test = train_test_split(X, y, random_state=i , test_size=0.3)\n",
    "        # generate model\n",
    "        multiple_linreg = LinearRegression().fit(X_train, y_train)\n",
    "        # threshold\n",
    "        multiple_linreg_predictions = (multiple_linreg.predict(X_test) >= 0.5) * 1.0\n",
    "        # calc score\n",
    "        if scoring=='accuracy':\n",
    "            score = metrics.accuracy_score(y_test, multiple_linreg_predictions)\n",
    "        elif scoring=='precision':\n",
    "            score = metrics.precision_score(y_test, multiple_linreg_predictions)\n",
    "        elif scoring=='f1':\n",
    "            score = metrics.f1_score(y_test, multiple_linreg_predictions)\n",
    "        elif scoring=='recall':\n",
    "            score = metrics.recall_score(y_test, multiple_linreg_predictions)\n",
    "        # append to results\n",
    "        results.append(score)\n",
    "    return results"
   ]
  },
  {
   "cell_type": "markdown",
   "metadata": {},
   "source": [
    "We will now create an additional function to perform 10 fold cross validation and store results into a dataframe\n",
    "- This will be used to simplify further analysis the dataset, looking at accuracy, precision, recall, f1."
   ]
  },
  {
   "cell_type": "code",
   "execution_count": 49,
   "metadata": {},
   "outputs": [],
   "source": [
    "def cross_val_LinReg_DF(X,y):\n",
    "    \"\"\"Function to perform cross validation and store results \n",
    "    in dataframe. Cross validation looks at accuracy, precision, \n",
    "    recall, f1. Returns a dataframe with results\"\"\"\n",
    "\n",
    "    linRegResults = {}\n",
    "    # metrics to test against\n",
    "    test_metrics = ['accuracy','precision','recall', 'f1']\n",
    "    \n",
    "    for metric in test_metrics:\n",
    "        # generate test results\n",
    "        result = cross_val_LinReg(X, y, cv=10, scoring=metric)\n",
    "        length = len(result)\n",
    "        # store result in dict\n",
    "        linRegResults[metric] = sum(result)/length\n",
    "\n",
    "    # create dataframe with results\n",
    "    LinRegDF = pd.DataFrame.from_dict(linRegResults, orient='index', columns=['Linear_Regression'])\n",
    "    \n",
    "    return LinRegDF"
   ]
  },
  {
   "cell_type": "markdown",
   "metadata": {},
   "source": [
    "Preform 10 fold cross validation using cross_val_LinReg_DF function\n",
    "- Results summarised below"
   ]
  },
  {
   "cell_type": "code",
   "execution_count": 50,
   "metadata": {},
   "outputs": [
    {
     "name": "stdout",
     "output_type": "stream",
     "text": [
      "Mean results from 10 fold cross validation are:\n"
     ]
    },
    {
     "data": {
      "text/html": [
       "<div>\n",
       "<style scoped>\n",
       "    .dataframe tbody tr th:only-of-type {\n",
       "        vertical-align: middle;\n",
       "    }\n",
       "\n",
       "    .dataframe tbody tr th {\n",
       "        vertical-align: top;\n",
       "    }\n",
       "\n",
       "    .dataframe thead th {\n",
       "        text-align: right;\n",
       "    }\n",
       "</style>\n",
       "<table border=\"1\" class=\"dataframe\">\n",
       "  <thead>\n",
       "    <tr style=\"text-align: right;\">\n",
       "      <th></th>\n",
       "      <th>Linear_Regression</th>\n",
       "    </tr>\n",
       "  </thead>\n",
       "  <tbody>\n",
       "    <tr>\n",
       "      <th>accuracy</th>\n",
       "      <td>0.721739</td>\n",
       "    </tr>\n",
       "    <tr>\n",
       "      <th>precision</th>\n",
       "      <td>0.706316</td>\n",
       "    </tr>\n",
       "    <tr>\n",
       "      <th>recall</th>\n",
       "      <td>0.674374</td>\n",
       "    </tr>\n",
       "    <tr>\n",
       "      <th>f1</th>\n",
       "      <td>0.688639</td>\n",
       "    </tr>\n",
       "  </tbody>\n",
       "</table>\n",
       "</div>"
      ],
      "text/plain": [
       "           Linear_Regression\n",
       "accuracy            0.721739\n",
       "precision           0.706316\n",
       "recall              0.674374\n",
       "f1                  0.688639"
      ]
     },
     "execution_count": 50,
     "metadata": {},
     "output_type": "execute_result"
    }
   ],
   "source": [
    "linRegDF = cross_val_LinReg_DF(X,y)\n",
    "print(f\"Mean results from 10 fold cross validation are:\")\n",
    "linRegDF"
   ]
  },
  {
   "cell_type": "markdown",
   "metadata": {},
   "source": [
    "These results are marginally lower than previous results but this is expected. We have taken the mean of 10 sets of results. "
   ]
  },
  {
   "cell_type": "markdown",
   "metadata": {},
   "source": [
    "## (3) Logistic Regression   "
   ]
  },
  {
   "cell_type": "markdown",
   "metadata": {},
   "source": [
    "#### 3.1 Train a logistic regression model using only the descriptive features selected from part 1 above"
   ]
  },
  {
   "cell_type": "code",
   "execution_count": 51,
   "metadata": {},
   "outputs": [],
   "source": [
    "# Train aka fit, a model using all continuous and categorical features.\n",
    "multiple_logisticreg = LogisticRegression().fit(X_train, y_train)"
   ]
  },
  {
   "cell_type": "markdown",
   "metadata": {},
   "source": [
    "#### 3.2 Print out the coefficients learned by the model"
   ]
  },
  {
   "cell_type": "code",
   "execution_count": 52,
   "metadata": {},
   "outputs": [
    {
     "name": "stdout",
     "output_type": "stream",
     "text": [
      "\n",
      "Features are: \n",
      " Index(['ExternalRiskEstimate', 'AverageMInFile', 'NumTrades60Ever2DerogPubRec',\n",
      "       'PercentTradesNeverDelq', 'MSinceMostRecentDelq',\n",
      "       'PercentInstallTrades', 'NumInqLast6Mexcl7days',\n",
      "       'NetFractionRevolvingBurden', 'NumRevolvingTradesWBalance',\n",
      "       'NumBank2NatlTradesWHighUtilization', 'PercentTradesWBalance',\n",
      "       'MaxDelq2PublicRecLast12M_2', 'MaxDelq2PublicRecLast12M_3',\n",
      "       'MaxDelq2PublicRecLast12M_4', 'MaxDelq2PublicRecLast12M_5',\n",
      "       'MaxDelq2PublicRecLast12M_6', 'MaxDelq2PublicRecLast12M_7',\n",
      "       'MaxDelqEver_2', 'MaxDelqEver_3', 'MaxDelqEver_4', 'MaxDelqEver_5',\n",
      "       'MaxDelqEver_6', 'MaxDelqEver_7', 'DelqEver_1', 'DelqLast12M_1'],\n",
      "      dtype='object')\n",
      "\n",
      "Coeficients are: \n",
      " [ 0.01888553  0.00954859 -0.26162574 -0.00338338  0.00667781 -0.0149013\n",
      " -0.14182803 -0.00608604 -0.02802995 -0.25554562 -0.01261698 -0.10419644\n",
      "  0.01295579 -0.01727359  0.01860543 -0.1420004   0.12445452  0.20782189\n",
      "  0.10074466  0.06686221 -0.20946486 -0.10423194 -0.16918665  0.06173197\n",
      " -0.23190921]\n",
      "\n",
      "Intercept is: \n",
      " [-0.10925054]\n",
      "\n",
      "Features and coeficients: \n",
      " [('ExternalRiskEstimate', 0.018885528882069423), ('AverageMInFile', 0.00954858919381618), ('NumTrades60Ever2DerogPubRec', -0.2616257417826582), ('PercentTradesNeverDelq', -0.003383381307169762), ('MSinceMostRecentDelq', 0.00667780762525842), ('PercentInstallTrades', -0.014901304836173445), ('NumInqLast6Mexcl7days', -0.14182803139992717), ('NetFractionRevolvingBurden', -0.0060860398902421115), ('NumRevolvingTradesWBalance', -0.028029953463668433), ('NumBank2NatlTradesWHighUtilization', -0.25554562117603946), ('PercentTradesWBalance', -0.012616979422649952), ('MaxDelq2PublicRecLast12M_2', -0.1041964368845418), ('MaxDelq2PublicRecLast12M_3', 0.012955786420705925), ('MaxDelq2PublicRecLast12M_4', -0.01727358783054754), ('MaxDelq2PublicRecLast12M_5', 0.01860542870677466), ('MaxDelq2PublicRecLast12M_6', -0.14200040107691664), ('MaxDelq2PublicRecLast12M_7', 0.12445452497140858), ('MaxDelqEver_2', 0.2078218933991156), ('MaxDelqEver_3', 0.10074466395658369), ('MaxDelqEver_4', 0.06686221247188988), ('MaxDelqEver_5', -0.20946486483989926), ('MaxDelqEver_6', -0.1042319379531655), ('MaxDelqEver_7', -0.16918665272767233), ('DelqEver_1', 0.06173196703455545), ('DelqLast12M_1', -0.23190921066454157)]\n"
     ]
    }
   ],
   "source": [
    "# Print the weights learned for each feature.\n",
    "print(\"\\nFeatures are: \\n\", X_train.columns)\n",
    "print(\"\\nCoeficients are: \\n\", multiple_logisticreg.coef_[0])\n",
    "print(\"\\nIntercept is: \\n\", multiple_logisticreg.intercept_)\n",
    "print(\"\\nFeatures and coeficients: \\n\", list(zip(X_train.columns, multiple_logisticreg.coef_[0])))"
   ]
  },
  {
   "cell_type": "markdown",
   "metadata": {},
   "source": [
    "#### 3.3 Interpreting the results \n",
    "\n",
    "The logistic regression function is a little different than the linear regression function. \n",
    "- The output of the logistic function is a probability, a value between 0 and 1\n",
    "- The output of the linear function is a continuous value that is not a probability\n",
    "- Differences aside there is a direct relationship between the two\n",
    "    - The first part of logistic regression function is similar to linear regression i.e. We find the line of best fit\n",
    "    - We then pass this equation through what is called a sigmoid function\n",
    "    - This sigmoid function will output a value bound between 0 and 1. It is a probability\n",
    "    - The model then applies a threshold to this probability so that if is is >= 0.5 its cast to 1 and if it is <0.5 it is cast to 0\n",
    "    - All of these steps are carried out within the logistic regression function, however the threshold value can be adjusted up or down depending on the problem you are trying to solve.\n",
    "\n",
    "The model estimated in logistic regression is given by the logistic function: <br>\n",
    "$probability(target=1|descriptive\\_features)=logistic(w_0 + w_1 * feature_1 + w_2*feature_2 + ...+ w_n*feature_n)$ <br>\n",
    "where $logistic(x)$ is defined as: $logistic(x) = \\frac{e ^ x}{1 + e ^ x} = \\frac{1}{1+e^{-x}}$\n",
    "\n",
    "- From the values above can see the calculated intercept is -1.006\n",
    "    - This is the starting point. i.e. if all other coefficients were zero then the value for 'x' would be -1.006. \n",
    "    - This is the input to the logistic function and the logistic function will then calculate the probability and threshold based on this.\n",
    "- We can see all the coefficients for each features\n",
    "    - These are zipped together in a single list for ease of inspection.\n",
    "    - The effect of these on the value 'x' is the same as for linear regression\n",
    "    - Only when the value 'x' is fed into the logistic function do we see the real difference between the to methods.\n",
    "    \n",
    "A major benefit of logistic regression worth  highlighting is its ability to handle outliers. \n",
    "- As discussed for linear regression, outliers can significantly skew what values fall within each threshold point. \n",
    "- The graph below highlights the minimal effect outliers can have on logistic regression model.\n",
    "- Values near the threshold point will not be impacted significantly<br>\n",
    "<img src=\"logistic_regression_outliers.png\"> <br>\n",
    "Source: https://towardsdatascience.com/understanding-logistic-regression-9b02c2aec102"
   ]
  },
  {
   "cell_type": "markdown",
   "metadata": {},
   "source": [
    "#### 3.4 Printing 100 predicted target features and evaluate the prediction\n",
    "- Here we will print the predicted target feature value for the first 100 training examples based on training data"
   ]
  },
  {
   "cell_type": "code",
   "execution_count": 53,
   "metadata": {},
   "outputs": [
    {
     "name": "stdout",
     "output_type": "stream",
     "text": [
      "\n",
      "Predictions with multiple linear regression: \n",
      "\n",
      "    RiskPerformance  Predicted\n",
      "0                 0          0\n",
      "1                 1          1\n",
      "2                 1          1\n",
      "3                 0          0\n",
      "4                 1          1\n",
      "..              ...        ...\n",
      "95                0          1\n",
      "96                1          0\n",
      "97                1          0\n",
      "98                0          0\n",
      "99                1          1\n",
      "\n",
      "[100 rows x 2 columns]\n"
     ]
    }
   ],
   "source": [
    "# calculate the prediction and threshold the value. If >= 0.5 its true\n",
    "multiple_logisticreg_predictions_train = multiple_logisticreg.predict(X_train)\n",
    "\n",
    "print(\"\\nPredictions with multiple linear regression: \\n\")\n",
    "actual_vs_predicted_multiplelogisticreg = pd.concat([y_train, pd.DataFrame(multiple_logisticreg_predictions_train, columns=['Predicted'])], axis=1)\n",
    "print(actual_vs_predicted_multiplelogisticreg.head(100))"
   ]
  },
  {
   "cell_type": "markdown",
   "metadata": {},
   "source": [
    "#### 3.5 Evaluation metrics based on training data\n",
    "- We will print the classification evaluation measures computed on the training set (e.g. Accuracy, Confusion matrix, Precision, Recall, F1)\n",
    "- We will discuss finding based on these measures"
   ]
  },
  {
   "cell_type": "code",
   "execution_count": 54,
   "metadata": {},
   "outputs": [
    {
     "name": "stdout",
     "output_type": "stream",
     "text": [
      "==================== Train Data =======================\n",
      "Accuracy:  0.7329931972789115\n",
      "Confusion matrix: \n",
      " [[252  73]\n",
      " [ 84 179]]\n",
      "Classification report:\n",
      "                precision    recall  f1-score   support\n",
      "\n",
      "           0       0.75      0.78      0.76       325\n",
      "           1       0.71      0.68      0.70       263\n",
      "\n",
      "    accuracy                           0.73       588\n",
      "   macro avg       0.73      0.73      0.73       588\n",
      "weighted avg       0.73      0.73      0.73       588\n",
      "\n",
      "======================================================\n"
     ]
    }
   ],
   "source": [
    "# Some more evaluation metrics.\n",
    "print(\"==================== Train Data =======================\")\n",
    "print(\"Accuracy: \", metrics.accuracy_score(y_train, multiple_logisticreg_predictions_train))\n",
    "print(\"Confusion matrix: \\n\", metrics.confusion_matrix(y_train, multiple_logisticreg_predictions_train))\n",
    "print(\"Classification report:\\n \", metrics.classification_report(y_train, multiple_logisticreg_predictions_train))\n",
    "print(\"======================================================\")"
   ]
  },
  {
   "cell_type": "markdown",
   "metadata": {},
   "source": [
    "Interpretation of results\n",
    "- Accuracy\n",
    "    - We have an accuracy of 74%\n",
    "- Precision - How good model is a prediction the positive class\n",
    "    - Precision Positive is 0.72\n",
    "    - Precision Negative is 0.76\n",
    "- Recall - What % of the positive values did we predict\n",
    "    - Recall Positive is 0.68\n",
    "    - Recall Negative is 0.79\n",
    "- F1 Score - Is an a weighted average of Precision and recall\n",
    "    - F1 Score Positive is 0.70\n",
    "    - F1 Score Negative is 0.77\n",
    "\n",
    "\n",
    "Summary\n",
    "- These values seem reasonable\n",
    "- Accuracy is in line with the linear regression model\n",
    "- The logistic model is also a little better at predicting the negative class."
   ]
  },
  {
   "cell_type": "markdown",
   "metadata": {},
   "source": [
    "#### 3.6 Evaluate the model using the hold-out (30% examples) test set\n",
    "- These results from the test data will be compared the results from the training data.\n",
    "- In addition they will be compared to the results from a cross-validated model (i.e., a new model trained and evaluated using cross-validation on the full dataset)."
   ]
  },
  {
   "cell_type": "markdown",
   "metadata": {},
   "source": [
    "Printing Actual RiskPerformance vs predicted based on test data"
   ]
  },
  {
   "cell_type": "code",
   "execution_count": 55,
   "metadata": {},
   "outputs": [
    {
     "name": "stdout",
     "output_type": "stream",
     "text": [
      "\n",
      "Predictions with multiple linear regression: \n",
      "\n",
      "    RiskPerformance  Predicted\n",
      "0                 1          1\n",
      "1                 0          1\n",
      "2                 1          1\n",
      "3                 0          0\n",
      "4                 0          0\n",
      "5                 0          0\n",
      "6                 0          0\n",
      "7                 0          1\n",
      "8                 1          0\n",
      "9                 1          0\n",
      "10                1          0\n",
      "11                1          1\n",
      "12                0          0\n",
      "13                0          1\n",
      "14                0          0\n",
      "15                1          1\n",
      "16                1          0\n",
      "17                0          1\n",
      "18                0          0\n",
      "19                1          1\n"
     ]
    }
   ],
   "source": [
    "# calculate the prediction and threshold the value. If >= 0.5 its true\n",
    "multiple_logisticreg_predictions_test = multiple_logisticreg.predict(X_test)\n",
    "\n",
    "print(\"\\nPredictions with multiple linear regression: \\n\")\n",
    "actual_vs_predicted_multiplelogisticreg = pd.concat([y_test, pd.DataFrame(multiple_logisticreg_predictions_test, columns=['Predicted'])], axis=1)\n",
    "print(actual_vs_predicted_multiplelogisticreg.head(20))"
   ]
  },
  {
   "cell_type": "markdown",
   "metadata": {},
   "source": [
    "Evaluation based on test data"
   ]
  },
  {
   "cell_type": "code",
   "execution_count": 56,
   "metadata": {},
   "outputs": [
    {
     "name": "stdout",
     "output_type": "stream",
     "text": [
      "==================== Test Data =======================\n",
      "Accuracy:  0.6956521739130435\n",
      "Confusion matrix: \n",
      " [[96 41]\n",
      " [36 80]]\n",
      "Classification report:\n",
      "                precision    recall  f1-score   support\n",
      "\n",
      "           0       0.73      0.70      0.71       137\n",
      "           1       0.66      0.69      0.68       116\n",
      "\n",
      "    accuracy                           0.70       253\n",
      "   macro avg       0.69      0.70      0.69       253\n",
      "weighted avg       0.70      0.70      0.70       253\n",
      "\n",
      "==================== Train Data =======================\n",
      "Accuracy:  0.7329931972789115\n",
      "Confusion matrix: \n",
      " [[252  73]\n",
      " [ 84 179]]\n",
      "Classification report:\n",
      "                precision    recall  f1-score   support\n",
      "\n",
      "           0       0.75      0.78      0.76       325\n",
      "           1       0.71      0.68      0.70       263\n",
      "\n",
      "    accuracy                           0.73       588\n",
      "   macro avg       0.73      0.73      0.73       588\n",
      "weighted avg       0.73      0.73      0.73       588\n",
      "\n",
      "======================================================\n"
     ]
    }
   ],
   "source": [
    "# Some more evaluation metrics.\n",
    "print(\"==================== Test Data =======================\")\n",
    "print(\"Accuracy: \", metrics.accuracy_score(y_test, multiple_logisticreg_predictions_test))\n",
    "print(\"Confusion matrix: \\n\", metrics.confusion_matrix(y_test, multiple_logisticreg_predictions_test))\n",
    "print(\"Classification report:\\n \", metrics.classification_report(y_test, multiple_logisticreg_predictions_test))\n",
    "print(\"==================== Train Data =======================\")\n",
    "print(\"Accuracy: \", metrics.accuracy_score(y_train, multiple_logisticreg_predictions_train))\n",
    "print(\"Confusion matrix: \\n\", metrics.confusion_matrix(y_train, multiple_logisticreg_predictions_train))\n",
    "print(\"Classification report:\\n \", metrics.classification_report(y_train, multiple_logisticreg_predictions_train))\n",
    "print(\"======================================================\")"
   ]
  },
  {
   "cell_type": "markdown",
   "metadata": {},
   "source": [
    "Interpretation of test results and comparison with training results \n",
    "- Accuracy\n",
    "    - The accuracy of the test data is lower 71.54% vs 74.15%. \n",
    "- Precision\n",
    "    - The precision score for predicting the positive case has reduced from 72% to 69%.\n",
    "    - The precision score for predicting the negative case has increased from 76% to 74%.\n",
    "- Recall\n",
    "    - The recall score for predicting the positive case has increased from 68% to 69%.\n",
    "    - The recall score for predicting the negative case has reduced from 79% to 74%.\n",
    "- F1\n",
    "    - The f1 score for predicting the positive case has increased from 70% to 69%.\n",
    "    - The f1 score for predicting the negative case has reduced from 77% to 74%.\n",
    "\n",
    "Summary\n",
    "- These values see reasonable\n",
    "- The accuracy level have dropped which is normal as we are testing the model on data it has not see before\n",
    "- This is a good sign that the model is generalizing\n",
    "- More comparisons need to be made and this is where cross validation steps in"
   ]
  },
  {
   "cell_type": "markdown",
   "metadata": {},
   "source": [
    "#### 3.7 Cross validation\n",
    "We will first create function to perform 10 fold cross validation and store results into dataframe\n",
    "- This will be used to simplify further analysis the dataset, looking at accuracy, precision, recall, f1."
   ]
  },
  {
   "cell_type": "code",
   "execution_count": 57,
   "metadata": {},
   "outputs": [],
   "source": [
    "def cross_val_LogReg_DF(X,y):\n",
    "    \"\"\"Function to perform cross validation and store results \n",
    "    in dataframe. Cross validation looks at accuracy, precision, \n",
    "    recall, f1. Returns a dataframe with results\"\"\"\n",
    "\n",
    "    logRegResults = {}\n",
    "    # metrics to test against\n",
    "    test_metrics = ['accuracy','precision','recall', 'f1']\n",
    "\n",
    "    for metric in test_metrics:\n",
    "        # generate test results\n",
    "        result = cross_val_score(LogisticRegression(), X, y, scoring=metric, cv=10)\n",
    "        # store result in dict\n",
    "        logRegResults[metric] = result.mean()\n",
    "        \n",
    "    # create dataframe with results\n",
    "    LogRegDF = pd.DataFrame.from_dict(logRegResults, orient='index', columns=['Logistic_Regression'])\n",
    "    \n",
    "    return LogRegDF"
   ]
  },
  {
   "cell_type": "markdown",
   "metadata": {},
   "source": [
    "Preform 10 fold cross validation using cross_val_LogReg_DF function\n",
    "- Results summarised below"
   ]
  },
  {
   "cell_type": "code",
   "execution_count": 58,
   "metadata": {},
   "outputs": [
    {
     "name": "stdout",
     "output_type": "stream",
     "text": [
      "Mean results from 10 fold cross validation are:\n"
     ]
    },
    {
     "data": {
      "text/html": [
       "<div>\n",
       "<style scoped>\n",
       "    .dataframe tbody tr th:only-of-type {\n",
       "        vertical-align: middle;\n",
       "    }\n",
       "\n",
       "    .dataframe tbody tr th {\n",
       "        vertical-align: top;\n",
       "    }\n",
       "\n",
       "    .dataframe thead th {\n",
       "        text-align: right;\n",
       "    }\n",
       "</style>\n",
       "<table border=\"1\" class=\"dataframe\">\n",
       "  <thead>\n",
       "    <tr style=\"text-align: right;\">\n",
       "      <th></th>\n",
       "      <th>Logistic_Regression</th>\n",
       "    </tr>\n",
       "  </thead>\n",
       "  <tbody>\n",
       "    <tr>\n",
       "      <th>accuracy</th>\n",
       "      <td>0.708641</td>\n",
       "    </tr>\n",
       "    <tr>\n",
       "      <th>precision</th>\n",
       "      <td>0.687613</td>\n",
       "    </tr>\n",
       "    <tr>\n",
       "      <th>recall</th>\n",
       "      <td>0.649218</td>\n",
       "    </tr>\n",
       "    <tr>\n",
       "      <th>f1</th>\n",
       "      <td>0.666199</td>\n",
       "    </tr>\n",
       "  </tbody>\n",
       "</table>\n",
       "</div>"
      ],
      "text/plain": [
       "           Logistic_Regression\n",
       "accuracy              0.708641\n",
       "precision             0.687613\n",
       "recall                0.649218\n",
       "f1                    0.666199"
      ]
     },
     "execution_count": 58,
     "metadata": {},
     "output_type": "execute_result"
    }
   ],
   "source": [
    "logRegDF = cross_val_LogReg_DF(X,y)\n",
    "print(f\"Mean results from 10 fold cross validation are:\")\n",
    "logRegDF"
   ]
  },
  {
   "cell_type": "markdown",
   "metadata": {},
   "source": [
    "These results are in line with the previous results. We have taken the mean of 10 sets of results. "
   ]
  },
  {
   "cell_type": "markdown",
   "metadata": {},
   "source": [
    "## (4) Random Forest Model"
   ]
  },
  {
   "cell_type": "markdown",
   "metadata": {},
   "source": [
    "### 4.1 Train a random forest model using only the descriptive features selected from part 1 above \n",
    "- A random forest model will now be trained on our test data. \n",
    "- We use the RandomForestClassifier() function. \n",
    "- The random state will be set to 1 to allow the results to be repeated"
   ]
  },
  {
   "cell_type": "code",
   "execution_count": 59,
   "metadata": {},
   "outputs": [
    {
     "data": {
      "text/plain": [
       "RandomForestClassifier(oob_score=True, random_state=1)"
      ]
     },
     "execution_count": 59,
     "metadata": {},
     "output_type": "execute_result"
    }
   ],
   "source": [
    "# Train RF with 100 trees\n",
    "rfc = RandomForestClassifier(n_estimators=100, max_features='auto', oob_score=True, random_state=1)\n",
    "rfc.fit(X_train, y_train)"
   ]
  },
  {
   "cell_type": "markdown",
   "metadata": {},
   "source": [
    "### 4.2 Understanding the Random Forest model\n",
    "We will now try to understand how this random forest model works\n",
    "- We will first start by trying to understand a decision tree \n",
    "- A random forest is made up of an ensemble/collection of decision trees\n",
    "- Decision tree\n",
    "    - A decision tree is a set of if-then-else rules based on splitting the data based on specific features\n",
    "    - The decision on which feature to split on is based on the information gain (Gini index). \n",
    "    - The tree will always split on the feature that gives the highest information gain\n",
    "    - The feature with the highest information gain will sit at the root of each decision tree\n",
    "    - Each decision tree will be a single prediction\n",
    "- Random Forest \n",
    "    - The random forest is made up of a number of decision trees\n",
    "    - The output of the random forest is base on the majority output of all decision trees combined\n",
    "    - This gives reliable results but can be hard to interpret\n",
    "    - The random forest will keep track of the importance of features in terms of information gain, which we will see\n",
    "    \n",
    "We will now look at an example of a single decision tree to get a better understanding"
   ]
  },
  {
   "cell_type": "markdown",
   "metadata": {},
   "source": [
    "####  4.2.1  Train Decision tree\n",
    "We will train 2 decision trees, with the same test data \n",
    "- One with max_depth=4 and the other max_depth=10\n",
    "- Max depth determines how deep a decision tree can go before it must give an answer"
   ]
  },
  {
   "cell_type": "code",
   "execution_count": 60,
   "metadata": {},
   "outputs": [
    {
     "name": "stdout",
     "output_type": "stream",
     "text": [
      "Max depth 4: \n",
      " DecisionTreeClassifier(max_depth=4, random_state=1)\n",
      "Max depth 10: \n",
      " DecisionTreeClassifier(max_depth=10, random_state=1)\n"
     ]
    }
   ],
   "source": [
    "dtc4 = DecisionTreeClassifier(max_depth=4, random_state=1)\n",
    "dtc10 = DecisionTreeClassifier(max_depth=10, random_state=1)\n",
    "dtc4.fit(X_train, y_train)\n",
    "dtc10.fit(X_train, y_train)\n",
    "print(\"Max depth 4: \\n\",dtc4)\n",
    "print(\"Max depth 10: \\n\",dtc10)"
   ]
  },
  {
   "cell_type": "markdown",
   "metadata": {},
   "source": [
    "####  4.2.2  Display Decision tree\n",
    "We will create graph of each tree and store as an image"
   ]
  },
  {
   "cell_type": "code",
   "execution_count": 61,
   "metadata": {},
   "outputs": [],
   "source": [
    "# create a Graphviz png\n",
    "with open(\"DecisionTree4.dot\", 'w') as f1:\n",
    "    f1 = export_graphviz(dtc4, out_file=f1, feature_names=X_train.columns)\n",
    "with open(\"DecisionTree10.dot\", 'w') as f2:\n",
    "    f2 = export_graphviz(dtc10, out_file=f2, feature_names=X_train.columns)\n",
    "!dot -Tpng DecisionTree4.dot -o DecisionTree4.png\n",
    "!dot -Tpng DecisionTree10.dot -o DecisionTree10.png"
   ]
  },
  {
   "cell_type": "markdown",
   "metadata": {},
   "source": [
    "We can see below the decision tree with max_depth=4\n",
    "- We can see the root is External Risk Estimate at value 73.5 - This splits the data best i.e. has the highest information gain\n",
    "- For each split the the model selects the next best feature\n",
    "- This continues until it reaches a leaf node where the data cannot be split anymore\n",
    "- The output of this is the prediction\n",
    "- We can see one path below is resolved in 3 branches\n",
    "    - RiskEstimate <= 73.5 -> ExternalRiskEstimate <= 63.5 -> NetFractionRevolvingBurden > 116 -> Resolved to TRUE\n",
    "    - Note: only 1 entry meets this requirement.\n",
    "    - All other entries need additional branches to be resolved"
   ]
  },
  {
   "cell_type": "markdown",
   "metadata": {},
   "source": [
    "<img src=\"DecisionTree4.png\">"
   ]
  },
  {
   "cell_type": "markdown",
   "metadata": {},
   "source": [
    "Viewing a decision tree with maxdepth=10 shows how complicated this model becomes \n",
    "- This is only one example of a decision tree. \n",
    "- A Random forests has 100 decision trees by default\n",
    "- Each decision tree is given a slightly different view of the data"
   ]
  },
  {
   "cell_type": "markdown",
   "metadata": {},
   "source": [
    "<img src=\"DecisionTree10.png\">"
   ]
  },
  {
   "cell_type": "markdown",
   "metadata": {},
   "source": [
    "#### 4.2.3 Interpretation of the random forest model\n",
    "As mentioned above the random forest will keep track of the importance of features\n",
    "- We can see from the dataframe below the results of this feature importance ranking\n",
    "- The more important features are the features that the random forest has identified as having higher information gain\n",
    "- This list is the combined result of the 100 decision trees that make up the random forest model\n",
    "- This feature ranking will help us in our optimisation process going forward\n",
    "    - What are the best features to keep?\n",
    "    - What features can be safely dropped without loosing information?"
   ]
  },
  {
   "cell_type": "code",
   "execution_count": 62,
   "metadata": {},
   "outputs": [
    {
     "data": {
      "text/html": [
       "<div>\n",
       "<style scoped>\n",
       "    .dataframe tbody tr th:only-of-type {\n",
       "        vertical-align: middle;\n",
       "    }\n",
       "\n",
       "    .dataframe tbody tr th {\n",
       "        vertical-align: top;\n",
       "    }\n",
       "\n",
       "    .dataframe thead th {\n",
       "        text-align: right;\n",
       "    }\n",
       "</style>\n",
       "<table border=\"1\" class=\"dataframe\">\n",
       "  <thead>\n",
       "    <tr style=\"text-align: right;\">\n",
       "      <th></th>\n",
       "      <th>feature</th>\n",
       "      <th>importance</th>\n",
       "    </tr>\n",
       "  </thead>\n",
       "  <tbody>\n",
       "    <tr>\n",
       "      <th>0</th>\n",
       "      <td>ExternalRiskEstimate</td>\n",
       "      <td>0.156031</td>\n",
       "    </tr>\n",
       "    <tr>\n",
       "      <th>1</th>\n",
       "      <td>AverageMInFile</td>\n",
       "      <td>0.133720</td>\n",
       "    </tr>\n",
       "    <tr>\n",
       "      <th>7</th>\n",
       "      <td>NetFractionRevolvingBurden</td>\n",
       "      <td>0.122744</td>\n",
       "    </tr>\n",
       "    <tr>\n",
       "      <th>10</th>\n",
       "      <td>PercentTradesWBalance</td>\n",
       "      <td>0.106545</td>\n",
       "    </tr>\n",
       "    <tr>\n",
       "      <th>5</th>\n",
       "      <td>PercentInstallTrades</td>\n",
       "      <td>0.101950</td>\n",
       "    </tr>\n",
       "    <tr>\n",
       "      <th>4</th>\n",
       "      <td>MSinceMostRecentDelq</td>\n",
       "      <td>0.075773</td>\n",
       "    </tr>\n",
       "    <tr>\n",
       "      <th>8</th>\n",
       "      <td>NumRevolvingTradesWBalance</td>\n",
       "      <td>0.063453</td>\n",
       "    </tr>\n",
       "    <tr>\n",
       "      <th>3</th>\n",
       "      <td>PercentTradesNeverDelq</td>\n",
       "      <td>0.059153</td>\n",
       "    </tr>\n",
       "    <tr>\n",
       "      <th>9</th>\n",
       "      <td>NumBank2NatlTradesWHighUtilization</td>\n",
       "      <td>0.050528</td>\n",
       "    </tr>\n",
       "    <tr>\n",
       "      <th>6</th>\n",
       "      <td>NumInqLast6Mexcl7days</td>\n",
       "      <td>0.043845</td>\n",
       "    </tr>\n",
       "    <tr>\n",
       "      <th>2</th>\n",
       "      <td>NumTrades60Ever2DerogPubRec</td>\n",
       "      <td>0.021129</td>\n",
       "    </tr>\n",
       "    <tr>\n",
       "      <th>22</th>\n",
       "      <td>MaxDelqEver_7</td>\n",
       "      <td>0.008470</td>\n",
       "    </tr>\n",
       "    <tr>\n",
       "      <th>21</th>\n",
       "      <td>MaxDelqEver_6</td>\n",
       "      <td>0.008356</td>\n",
       "    </tr>\n",
       "    <tr>\n",
       "      <th>24</th>\n",
       "      <td>DelqLast12M_1</td>\n",
       "      <td>0.007673</td>\n",
       "    </tr>\n",
       "    <tr>\n",
       "      <th>16</th>\n",
       "      <td>MaxDelq2PublicRecLast12M_7</td>\n",
       "      <td>0.007371</td>\n",
       "    </tr>\n",
       "    <tr>\n",
       "      <th>17</th>\n",
       "      <td>MaxDelqEver_2</td>\n",
       "      <td>0.007135</td>\n",
       "    </tr>\n",
       "    <tr>\n",
       "      <th>23</th>\n",
       "      <td>DelqEver_1</td>\n",
       "      <td>0.006557</td>\n",
       "    </tr>\n",
       "    <tr>\n",
       "      <th>20</th>\n",
       "      <td>MaxDelqEver_5</td>\n",
       "      <td>0.005562</td>\n",
       "    </tr>\n",
       "    <tr>\n",
       "      <th>15</th>\n",
       "      <td>MaxDelq2PublicRecLast12M_6</td>\n",
       "      <td>0.003379</td>\n",
       "    </tr>\n",
       "    <tr>\n",
       "      <th>18</th>\n",
       "      <td>MaxDelqEver_3</td>\n",
       "      <td>0.003078</td>\n",
       "    </tr>\n",
       "    <tr>\n",
       "      <th>19</th>\n",
       "      <td>MaxDelqEver_4</td>\n",
       "      <td>0.002662</td>\n",
       "    </tr>\n",
       "    <tr>\n",
       "      <th>11</th>\n",
       "      <td>MaxDelq2PublicRecLast12M_2</td>\n",
       "      <td>0.002308</td>\n",
       "    </tr>\n",
       "    <tr>\n",
       "      <th>14</th>\n",
       "      <td>MaxDelq2PublicRecLast12M_5</td>\n",
       "      <td>0.001620</td>\n",
       "    </tr>\n",
       "    <tr>\n",
       "      <th>12</th>\n",
       "      <td>MaxDelq2PublicRecLast12M_3</td>\n",
       "      <td>0.000714</td>\n",
       "    </tr>\n",
       "    <tr>\n",
       "      <th>13</th>\n",
       "      <td>MaxDelq2PublicRecLast12M_4</td>\n",
       "      <td>0.000245</td>\n",
       "    </tr>\n",
       "  </tbody>\n",
       "</table>\n",
       "</div>"
      ],
      "text/plain": [
       "                               feature  importance\n",
       "0                 ExternalRiskEstimate    0.156031\n",
       "1                       AverageMInFile    0.133720\n",
       "7           NetFractionRevolvingBurden    0.122744\n",
       "10               PercentTradesWBalance    0.106545\n",
       "5                 PercentInstallTrades    0.101950\n",
       "4                 MSinceMostRecentDelq    0.075773\n",
       "8           NumRevolvingTradesWBalance    0.063453\n",
       "3               PercentTradesNeverDelq    0.059153\n",
       "9   NumBank2NatlTradesWHighUtilization    0.050528\n",
       "6                NumInqLast6Mexcl7days    0.043845\n",
       "2          NumTrades60Ever2DerogPubRec    0.021129\n",
       "22                       MaxDelqEver_7    0.008470\n",
       "21                       MaxDelqEver_6    0.008356\n",
       "24                       DelqLast12M_1    0.007673\n",
       "16          MaxDelq2PublicRecLast12M_7    0.007371\n",
       "17                       MaxDelqEver_2    0.007135\n",
       "23                          DelqEver_1    0.006557\n",
       "20                       MaxDelqEver_5    0.005562\n",
       "15          MaxDelq2PublicRecLast12M_6    0.003379\n",
       "18                       MaxDelqEver_3    0.003078\n",
       "19                       MaxDelqEver_4    0.002662\n",
       "11          MaxDelq2PublicRecLast12M_2    0.002308\n",
       "14          MaxDelq2PublicRecLast12M_5    0.001620\n",
       "12          MaxDelq2PublicRecLast12M_3    0.000714\n",
       "13          MaxDelq2PublicRecLast12M_4    0.000245"
      ]
     },
     "execution_count": 62,
     "metadata": {},
     "output_type": "execute_result"
    }
   ],
   "source": [
    "importance = pd.DataFrame({'feature': X_train.columns, 'importance':rfc.feature_importances_})\n",
    "importance.sort_values('importance', ascending=False)"
   ]
  },
  {
   "cell_type": "markdown",
   "metadata": {},
   "source": [
    "We can see from the list above that many of the features provide little to no information gain. It is interesting to note that the categorical features are the worst preforming features "
   ]
  },
  {
   "cell_type": "markdown",
   "metadata": {},
   "source": [
    "### 4.4 Printing 100 predicted target features and evaluate the prediction \n",
    "- Here we will print the predicted target feature value for the first 100 training examples. "
   ]
  },
  {
   "cell_type": "code",
   "execution_count": 63,
   "metadata": {},
   "outputs": [
    {
     "data": {
      "text/html": [
       "<div>\n",
       "<style scoped>\n",
       "    .dataframe tbody tr th:only-of-type {\n",
       "        vertical-align: middle;\n",
       "    }\n",
       "\n",
       "    .dataframe tbody tr th {\n",
       "        vertical-align: top;\n",
       "    }\n",
       "\n",
       "    .dataframe thead th {\n",
       "        text-align: right;\n",
       "    }\n",
       "</style>\n",
       "<table border=\"1\" class=\"dataframe\">\n",
       "  <thead>\n",
       "    <tr style=\"text-align: right;\">\n",
       "      <th></th>\n",
       "      <th>ActualClass</th>\n",
       "      <th>PredictedClass</th>\n",
       "    </tr>\n",
       "  </thead>\n",
       "  <tbody>\n",
       "    <tr>\n",
       "      <th>0</th>\n",
       "      <td>0</td>\n",
       "      <td>0</td>\n",
       "    </tr>\n",
       "    <tr>\n",
       "      <th>1</th>\n",
       "      <td>1</td>\n",
       "      <td>1</td>\n",
       "    </tr>\n",
       "    <tr>\n",
       "      <th>2</th>\n",
       "      <td>1</td>\n",
       "      <td>1</td>\n",
       "    </tr>\n",
       "    <tr>\n",
       "      <th>3</th>\n",
       "      <td>0</td>\n",
       "      <td>0</td>\n",
       "    </tr>\n",
       "    <tr>\n",
       "      <th>4</th>\n",
       "      <td>1</td>\n",
       "      <td>1</td>\n",
       "    </tr>\n",
       "    <tr>\n",
       "      <th>...</th>\n",
       "      <td>...</td>\n",
       "      <td>...</td>\n",
       "    </tr>\n",
       "    <tr>\n",
       "      <th>95</th>\n",
       "      <td>0</td>\n",
       "      <td>0</td>\n",
       "    </tr>\n",
       "    <tr>\n",
       "      <th>96</th>\n",
       "      <td>1</td>\n",
       "      <td>1</td>\n",
       "    </tr>\n",
       "    <tr>\n",
       "      <th>97</th>\n",
       "      <td>1</td>\n",
       "      <td>1</td>\n",
       "    </tr>\n",
       "    <tr>\n",
       "      <th>98</th>\n",
       "      <td>0</td>\n",
       "      <td>0</td>\n",
       "    </tr>\n",
       "    <tr>\n",
       "      <th>99</th>\n",
       "      <td>1</td>\n",
       "      <td>1</td>\n",
       "    </tr>\n",
       "  </tbody>\n",
       "</table>\n",
       "<p>100 rows × 2 columns</p>\n",
       "</div>"
      ],
      "text/plain": [
       "    ActualClass  PredictedClass\n",
       "0             0               0\n",
       "1             1               1\n",
       "2             1               1\n",
       "3             0               0\n",
       "4             1               1\n",
       "..          ...             ...\n",
       "95            0               0\n",
       "96            1               1\n",
       "97            1               1\n",
       "98            0               0\n",
       "99            1               1\n",
       "\n",
       "[100 rows x 2 columns]"
      ]
     },
     "execution_count": 63,
     "metadata": {},
     "output_type": "execute_result"
    }
   ],
   "source": [
    "# Predicted class labels for all examples, \n",
    "# using the trained model, on in-sample data (same sample used for training and test)\n",
    "rfc_predictions_train = rfc.predict(X_train)\n",
    "df_true_vs_rfc_predicted = pd.DataFrame({'ActualClass': y_train, 'PredictedClass': rfc_predictions_train})\n",
    "df_true_vs_rfc_predicted.head(100)"
   ]
  },
  {
   "cell_type": "markdown",
   "metadata": {},
   "source": [
    "### 4.5 Evaluation metrics based on training data\n",
    "- We will print the classification evaluation measures computed on the training set (e.g. Accuracy, Confusion matrix, Precision, Recall, F1)\n",
    "- We will discuss finding based on these measures"
   ]
  },
  {
   "cell_type": "code",
   "execution_count": 64,
   "metadata": {},
   "outputs": [
    {
     "name": "stdout",
     "output_type": "stream",
     "text": [
      "==================== Train Data =======================\n",
      "Accuracy:  1.0\n",
      "Confusion matrix: \n",
      " [[325   0]\n",
      " [  0 263]]\n",
      "Classification report:\n",
      "                precision    recall  f1-score   support\n",
      "\n",
      "           0       1.00      1.00      1.00       325\n",
      "           1       1.00      1.00      1.00       263\n",
      "\n",
      "    accuracy                           1.00       588\n",
      "   macro avg       1.00      1.00      1.00       588\n",
      "weighted avg       1.00      1.00      1.00       588\n",
      "\n"
     ]
    }
   ],
   "source": [
    "print(\"==================== Train Data =======================\")\n",
    "print(\"Accuracy: \", metrics.accuracy_score(y_train, rfc_predictions_train))\n",
    "print(\"Confusion matrix: \\n\", metrics.confusion_matrix(y_train, rfc_predictions_train))\n",
    "print(\"Classification report:\\n \", metrics.classification_report(y_train, rfc_predictions_train))"
   ]
  },
  {
   "cell_type": "markdown",
   "metadata": {},
   "source": [
    "Interpretation of results\n",
    "- The model has learned the results. This is clearly overfitting"
   ]
  },
  {
   "cell_type": "markdown",
   "metadata": {},
   "source": [
    "### 4.6 Evaluate the model using the hold-out (30% examples) test set\n",
    "- These results from the test data will be compared the results from the training data.\n",
    "- In addition they will be compared to the results from a cross-validated model (i.e., a new model trained and evaluated using cross-validation on the full dataset)."
   ]
  },
  {
   "cell_type": "markdown",
   "metadata": {},
   "source": [
    "Printing Actual RiskPerformance vs predicted based on test data"
   ]
  },
  {
   "cell_type": "code",
   "execution_count": 65,
   "metadata": {},
   "outputs": [
    {
     "data": {
      "text/html": [
       "<div>\n",
       "<style scoped>\n",
       "    .dataframe tbody tr th:only-of-type {\n",
       "        vertical-align: middle;\n",
       "    }\n",
       "\n",
       "    .dataframe tbody tr th {\n",
       "        vertical-align: top;\n",
       "    }\n",
       "\n",
       "    .dataframe thead th {\n",
       "        text-align: right;\n",
       "    }\n",
       "</style>\n",
       "<table border=\"1\" class=\"dataframe\">\n",
       "  <thead>\n",
       "    <tr style=\"text-align: right;\">\n",
       "      <th></th>\n",
       "      <th>ActualClass</th>\n",
       "      <th>PredictedClass</th>\n",
       "    </tr>\n",
       "  </thead>\n",
       "  <tbody>\n",
       "    <tr>\n",
       "      <th>0</th>\n",
       "      <td>1</td>\n",
       "      <td>0</td>\n",
       "    </tr>\n",
       "    <tr>\n",
       "      <th>1</th>\n",
       "      <td>0</td>\n",
       "      <td>1</td>\n",
       "    </tr>\n",
       "    <tr>\n",
       "      <th>2</th>\n",
       "      <td>1</td>\n",
       "      <td>1</td>\n",
       "    </tr>\n",
       "    <tr>\n",
       "      <th>3</th>\n",
       "      <td>0</td>\n",
       "      <td>0</td>\n",
       "    </tr>\n",
       "    <tr>\n",
       "      <th>4</th>\n",
       "      <td>0</td>\n",
       "      <td>0</td>\n",
       "    </tr>\n",
       "    <tr>\n",
       "      <th>5</th>\n",
       "      <td>0</td>\n",
       "      <td>0</td>\n",
       "    </tr>\n",
       "    <tr>\n",
       "      <th>6</th>\n",
       "      <td>0</td>\n",
       "      <td>0</td>\n",
       "    </tr>\n",
       "    <tr>\n",
       "      <th>7</th>\n",
       "      <td>0</td>\n",
       "      <td>1</td>\n",
       "    </tr>\n",
       "    <tr>\n",
       "      <th>8</th>\n",
       "      <td>1</td>\n",
       "      <td>0</td>\n",
       "    </tr>\n",
       "    <tr>\n",
       "      <th>9</th>\n",
       "      <td>1</td>\n",
       "      <td>0</td>\n",
       "    </tr>\n",
       "    <tr>\n",
       "      <th>10</th>\n",
       "      <td>1</td>\n",
       "      <td>1</td>\n",
       "    </tr>\n",
       "    <tr>\n",
       "      <th>11</th>\n",
       "      <td>1</td>\n",
       "      <td>1</td>\n",
       "    </tr>\n",
       "    <tr>\n",
       "      <th>12</th>\n",
       "      <td>0</td>\n",
       "      <td>0</td>\n",
       "    </tr>\n",
       "    <tr>\n",
       "      <th>13</th>\n",
       "      <td>0</td>\n",
       "      <td>1</td>\n",
       "    </tr>\n",
       "    <tr>\n",
       "      <th>14</th>\n",
       "      <td>0</td>\n",
       "      <td>0</td>\n",
       "    </tr>\n",
       "    <tr>\n",
       "      <th>15</th>\n",
       "      <td>1</td>\n",
       "      <td>1</td>\n",
       "    </tr>\n",
       "    <tr>\n",
       "      <th>16</th>\n",
       "      <td>1</td>\n",
       "      <td>0</td>\n",
       "    </tr>\n",
       "    <tr>\n",
       "      <th>17</th>\n",
       "      <td>0</td>\n",
       "      <td>1</td>\n",
       "    </tr>\n",
       "    <tr>\n",
       "      <th>18</th>\n",
       "      <td>0</td>\n",
       "      <td>0</td>\n",
       "    </tr>\n",
       "    <tr>\n",
       "      <th>19</th>\n",
       "      <td>1</td>\n",
       "      <td>1</td>\n",
       "    </tr>\n",
       "  </tbody>\n",
       "</table>\n",
       "</div>"
      ],
      "text/plain": [
       "    ActualClass  PredictedClass\n",
       "0             1               0\n",
       "1             0               1\n",
       "2             1               1\n",
       "3             0               0\n",
       "4             0               0\n",
       "5             0               0\n",
       "6             0               0\n",
       "7             0               1\n",
       "8             1               0\n",
       "9             1               0\n",
       "10            1               1\n",
       "11            1               1\n",
       "12            0               0\n",
       "13            0               1\n",
       "14            0               0\n",
       "15            1               1\n",
       "16            1               0\n",
       "17            0               1\n",
       "18            0               0\n",
       "19            1               1"
      ]
     },
     "execution_count": 65,
     "metadata": {},
     "output_type": "execute_result"
    }
   ],
   "source": [
    "# Predicted class labels for all examples, \n",
    "# using the trained model, on in-sample data (same sample used for training and test)\n",
    "rfc_predictions_test = rfc.predict(X_test)\n",
    "df_true_vs_rfc_predicted_test = pd.DataFrame({'ActualClass': y_test, 'PredictedClass': rfc_predictions_test})\n",
    "df_true_vs_rfc_predicted_test.head(20)"
   ]
  },
  {
   "cell_type": "markdown",
   "metadata": {},
   "source": [
    "Evaluation metrics based on test data"
   ]
  },
  {
   "cell_type": "code",
   "execution_count": 66,
   "metadata": {},
   "outputs": [
    {
     "name": "stdout",
     "output_type": "stream",
     "text": [
      "==================== Test Data =======================\n",
      "Accuracy:  0.7233201581027668\n",
      "Confusion matrix: \n",
      " [[107  30]\n",
      " [ 40  76]]\n",
      "Classification report:\n",
      "                precision    recall  f1-score   support\n",
      "\n",
      "           0       0.73      0.78      0.75       137\n",
      "           1       0.72      0.66      0.68       116\n",
      "\n",
      "    accuracy                           0.72       253\n",
      "   macro avg       0.72      0.72      0.72       253\n",
      "weighted avg       0.72      0.72      0.72       253\n",
      "\n",
      "==================== Train Data =======================\n",
      "Accuracy:  1.0\n",
      "Confusion matrix: \n",
      " [[325   0]\n",
      " [  0 263]]\n",
      "Classification report:\n",
      "                precision    recall  f1-score   support\n",
      "\n",
      "           0       1.00      1.00      1.00       325\n",
      "           1       1.00      1.00      1.00       263\n",
      "\n",
      "    accuracy                           1.00       588\n",
      "   macro avg       1.00      1.00      1.00       588\n",
      "weighted avg       1.00      1.00      1.00       588\n",
      "\n",
      "======================================================\n"
     ]
    }
   ],
   "source": [
    "print(\"==================== Test Data =======================\")\n",
    "print(\"Accuracy: \", metrics.accuracy_score(y_test, rfc_predictions_test))\n",
    "print(\"Confusion matrix: \\n\", metrics.confusion_matrix(y_test, rfc_predictions_test))\n",
    "print(\"Classification report:\\n \", metrics.classification_report(y_test, rfc_predictions_test))\n",
    "print(\"==================== Train Data =======================\")\n",
    "print(\"Accuracy: \", metrics.accuracy_score(y_train, rfc_predictions_train))\n",
    "print(\"Confusion matrix: \\n\", metrics.confusion_matrix(y_train, rfc_predictions_train))\n",
    "print(\"Classification report:\\n \", metrics.classification_report(y_train, rfc_predictions_train))\n",
    "print(\"======================================================\")"
   ]
  },
  {
   "cell_type": "markdown",
   "metadata": {},
   "source": [
    "Interpretation of test results and comparison with training results \n",
    "- The accuracy for the test is much lower as we are not testing the model with data it has not see before\n",
    "- The scores seem reasonable and are in line with the other models test results"
   ]
  },
  {
   "cell_type": "markdown",
   "metadata": {},
   "source": [
    "### 4.7 Cross validation\n",
    "- We will preform cross validation and store the results in a dictionary for later use"
   ]
  },
  {
   "cell_type": "code",
   "execution_count": 67,
   "metadata": {},
   "outputs": [],
   "source": [
    "def cross_val_RandomForest_DF(X,y, depth=None, estimators=100):\n",
    "    \"\"\"Function to perform cross validation and store results \n",
    "    in dataframe. Cross validation looks at accuracy, precision, \n",
    "    recall, f1. Returns a dataframe with results\"\"\"\n",
    "\n",
    "    # store results in dict\n",
    "    RandomForestResults = {}\n",
    "    # metrics to test against\n",
    "    test_metrics = ['accuracy','precision','recall', 'f1']\n",
    "\n",
    "    for metric in test_metrics:\n",
    "        # generate test results\n",
    "        result = cross_val_score(RandomForestClassifier(n_estimators=estimators, max_features='auto', oob_score=True, random_state=1, max_depth=depth), X, y, scoring=metric, cv=10)\n",
    "        # store result in dict\n",
    "        RandomForestResults[metric] = result.mean()\n",
    "    \n",
    "    # create dataframe with results\n",
    "    RandomForestDF = pd.DataFrame.from_dict(RandomForestResults, orient='index', columns=['Random_Forests'])\n",
    "\n",
    "    return RandomForestDF"
   ]
  },
  {
   "cell_type": "markdown",
   "metadata": {},
   "source": [
    "##### The results for Random Forests are summarized below"
   ]
  },
  {
   "cell_type": "code",
   "execution_count": 68,
   "metadata": {},
   "outputs": [
    {
     "name": "stdout",
     "output_type": "stream",
     "text": [
      "Mean results from 10 fold cross validation are:\n"
     ]
    },
    {
     "data": {
      "text/html": [
       "<div>\n",
       "<style scoped>\n",
       "    .dataframe tbody tr th:only-of-type {\n",
       "        vertical-align: middle;\n",
       "    }\n",
       "\n",
       "    .dataframe tbody tr th {\n",
       "        vertical-align: top;\n",
       "    }\n",
       "\n",
       "    .dataframe thead th {\n",
       "        text-align: right;\n",
       "    }\n",
       "</style>\n",
       "<table border=\"1\" class=\"dataframe\">\n",
       "  <thead>\n",
       "    <tr style=\"text-align: right;\">\n",
       "      <th></th>\n",
       "      <th>Random_Forests</th>\n",
       "    </tr>\n",
       "  </thead>\n",
       "  <tbody>\n",
       "    <tr>\n",
       "      <th>accuracy</th>\n",
       "      <td>0.716919</td>\n",
       "    </tr>\n",
       "    <tr>\n",
       "      <th>precision</th>\n",
       "      <td>0.700728</td>\n",
       "    </tr>\n",
       "    <tr>\n",
       "      <th>recall</th>\n",
       "      <td>0.648933</td>\n",
       "    </tr>\n",
       "    <tr>\n",
       "      <th>f1</th>\n",
       "      <td>0.670355</td>\n",
       "    </tr>\n",
       "  </tbody>\n",
       "</table>\n",
       "</div>"
      ],
      "text/plain": [
       "           Random_Forests\n",
       "accuracy         0.716919\n",
       "precision        0.700728\n",
       "recall           0.648933\n",
       "f1               0.670355"
      ]
     },
     "execution_count": 68,
     "metadata": {},
     "output_type": "execute_result"
    }
   ],
   "source": [
    "RandomForestDF = cross_val_RandomForest_DF(X,y)\n",
    "print(f\"Mean results from 10 fold cross validation are:\")\n",
    "RandomForestDF"
   ]
  },
  {
   "cell_type": "markdown",
   "metadata": {},
   "source": [
    "The results above are inline with expectation\n",
    "- The accuracy is the same\n",
    "- The precision, recall and f1 are all a little lower but in line with the other models"
   ]
  },
  {
   "cell_type": "markdown",
   "metadata": {},
   "source": [
    "### 4.8 Out of bag accuracy\n",
    "- This is the out of bag error estimate \n",
    "- It is an internal error estimate of a random forest as it is being constructed.\n",
    "- It is used as an additional measure and should be line with the cross validation results\n",
    "- This is generally expected to be the lowest"
   ]
  },
  {
   "cell_type": "code",
   "execution_count": 69,
   "metadata": {},
   "outputs": [
    {
     "data": {
      "text/plain": [
       "0.717687074829932"
      ]
     },
     "execution_count": 69,
     "metadata": {},
     "output_type": "execute_result"
    }
   ],
   "source": [
    "# compute the out-of-bag classification accuracy\n",
    "rfc.oob_score_"
   ]
  },
  {
   "cell_type": "markdown",
   "metadata": {},
   "source": [
    "This value is in line with the Cross validation results above"
   ]
  },
  {
   "cell_type": "markdown",
   "metadata": {},
   "source": [
    "## 5 Improving Predictive Models"
   ]
  },
  {
   "cell_type": "markdown",
   "metadata": {},
   "source": [
    "### 5.1 Which model of the ones trained above performs better at predicting the target feature? \n",
    "- All models preform almost identical on the test dataset +/- 1%\n",
    "- Summary of the results so far can be seen below (based on predicting good outcome (RiskEstimate=0))\n",
    "- Note these results are for a subset of the original features i.e. In part 1 we dropped many of the low correlation features\n",
    "    - In part 5.3 we will review the impact to the decisions taken in part 1"
   ]
  },
  {
   "cell_type": "code",
   "execution_count": 70,
   "metadata": {},
   "outputs": [
    {
     "data": {
      "text/html": [
       "<div>\n",
       "<style scoped>\n",
       "    .dataframe tbody tr th:only-of-type {\n",
       "        vertical-align: middle;\n",
       "    }\n",
       "\n",
       "    .dataframe tbody tr th {\n",
       "        vertical-align: top;\n",
       "    }\n",
       "\n",
       "    .dataframe thead th {\n",
       "        text-align: right;\n",
       "    }\n",
       "</style>\n",
       "<table border=\"1\" class=\"dataframe\">\n",
       "  <thead>\n",
       "    <tr style=\"text-align: right;\">\n",
       "      <th></th>\n",
       "      <th>Linear_Regression</th>\n",
       "      <th>Logistic_Regression</th>\n",
       "      <th>Random_Forests</th>\n",
       "    </tr>\n",
       "  </thead>\n",
       "  <tbody>\n",
       "    <tr>\n",
       "      <th>accuracy</th>\n",
       "      <td>0.721739</td>\n",
       "      <td>0.708641</td>\n",
       "      <td>0.716919</td>\n",
       "    </tr>\n",
       "    <tr>\n",
       "      <th>precision</th>\n",
       "      <td>0.706316</td>\n",
       "      <td>0.687613</td>\n",
       "      <td>0.700728</td>\n",
       "    </tr>\n",
       "    <tr>\n",
       "      <th>recall</th>\n",
       "      <td>0.674374</td>\n",
       "      <td>0.649218</td>\n",
       "      <td>0.648933</td>\n",
       "    </tr>\n",
       "    <tr>\n",
       "      <th>f1</th>\n",
       "      <td>0.688639</td>\n",
       "      <td>0.666199</td>\n",
       "      <td>0.670355</td>\n",
       "    </tr>\n",
       "  </tbody>\n",
       "</table>\n",
       "</div>"
      ],
      "text/plain": [
       "           Linear_Regression  Logistic_Regression  Random_Forests\n",
       "accuracy            0.721739             0.708641        0.716919\n",
       "precision           0.706316             0.687613        0.700728\n",
       "recall              0.674374             0.649218        0.648933\n",
       "f1                  0.688639             0.666199        0.670355"
      ]
     },
     "execution_count": 70,
     "metadata": {},
     "output_type": "execute_result"
    }
   ],
   "source": [
    "ResultsDF = pd.concat([linRegDF, logRegDF, RandomForestDF], axis=1)\n",
    "ResultsDF"
   ]
  },
  {
   "cell_type": "markdown",
   "metadata": {},
   "source": [
    "### 5.2 Is the model more accurate than a simple model that always predicts the majority class\n",
    "- We will compare our results above to a simple model which predicts for the majority class\n",
    "- First we will get the breakdown of the test dataset and see which is the majority class"
   ]
  },
  {
   "cell_type": "code",
   "execution_count": 71,
   "metadata": {},
   "outputs": [
    {
     "name": "stdout",
     "output_type": "stream",
     "text": [
      "From original dataset: \t\tCount 253\n",
      "Total number never delinquent:\t 116\t45.85%\n",
      "Total number delinquent:\t 137\t54.15%\n"
     ]
    }
   ],
   "source": [
    "good_count = y_test[y_test == 1].count()\n",
    "bad_count = y_test[y_test == 0].count()\n",
    "total = good_count+ bad_count\n",
    "print(f'From original dataset: \\t\\tCount {total}')\n",
    "print(f'Total number never delinquent:\\t {good_count}\\t{round(good_count/len(y_test)*100,2)}%')\n",
    "print(f'Total number delinquent:\\t {bad_count}\\t{round(bad_count/len(y_test)*100,2)}%')"
   ]
  },
  {
   "cell_type": "markdown",
   "metadata": {},
   "source": [
    "- We can see the majority class is 0 or RiskOutcome=Bad \n",
    "- We will now generate scores for predicting the majority class"
   ]
  },
  {
   "cell_type": "code",
   "execution_count": 72,
   "metadata": {},
   "outputs": [
    {
     "name": "stdout",
     "output_type": "stream",
     "text": [
      "Accuracy:  0.541501976284585\n",
      "Confusion matrix: \n",
      " [[137   0]\n",
      " [116   0]]\n",
      "Classification report:\n",
      "                precision    recall  f1-score   support\n",
      "\n",
      "           0       0.54      1.00      0.70       137\n",
      "           1       0.00      0.00      0.00       116\n",
      "\n",
      "    accuracy                           0.54       253\n",
      "   macro avg       0.27      0.50      0.35       253\n",
      "weighted avg       0.29      0.54      0.38       253\n",
      "\n"
     ]
    }
   ],
   "source": [
    "# generate array of 253 zeros (length of test dataset)\n",
    "majority = np.zeros(253)\n",
    "# create dataframe \n",
    "df_majorityClass = pd.DataFrame(majority, columns=['prediction'])\n",
    "# calculate scores of simple predictin vs actual\n",
    "print(\"Accuracy: \", metrics.accuracy_score(y_test, df_majorityClass))\n",
    "print(\"Confusion matrix: \\n\", metrics.confusion_matrix(y_test, df_majorityClass))\n",
    "print(\"Classification report:\\n \", metrics.classification_report(y_test, df_majorityClass))"
   ]
  },
  {
   "cell_type": "markdown",
   "metadata": {},
   "source": [
    "- For predicting good outcome the simple model fails completely as expected\n",
    "- For predicting the bad outcome the simple model fares much better but still worse than all the other models outlined above\n",
    "    - The precision is the same as the accuracy in this case - i.e. how good is it at predicting 0\n",
    "    - The recall is 100% as all of the actual 0 values were predicted 0\n",
    "    - The f1 is between the precision and recall as it is a weighted average of the two"
   ]
  },
  {
   "cell_type": "markdown",
   "metadata": {},
   "source": [
    "### 5.3 Compare Model performance using different feature subsets \n",
    "#### 5.3.1 All features\n",
    "- We will now repeat the tests using all features \n",
    "- First we set up the dataframe using the original features"
   ]
  },
  {
   "cell_type": "code",
   "execution_count": 73,
   "metadata": {},
   "outputs": [
    {
     "name": "stdout",
     "output_type": "stream",
     "text": [
      "number of features incl dummies:  39\n"
     ]
    }
   ],
   "source": [
    "# dataframe with all features = original dataframe\n",
    "df_all = pd.get_dummies(df)\n",
    "# set X,y\n",
    "y = df_all[\"RiskPerformance\"]\n",
    "X = df_all.drop([\"RiskPerformance\"],1)\n",
    "print(\"number of features incl dummies: \", len(X.columns))"
   ]
  },
  {
   "cell_type": "markdown",
   "metadata": {},
   "source": [
    "With the dataframe now setup we will generate new set of results based on all the features\n",
    "- This operation is simplified as we have set up functions in part 2,3,4 to allow cross validated scores to be returned in dataframes "
   ]
  },
  {
   "cell_type": "code",
   "execution_count": 74,
   "metadata": {},
   "outputs": [
    {
     "data": {
      "text/html": [
       "<div>\n",
       "<style scoped>\n",
       "    .dataframe tbody tr th:only-of-type {\n",
       "        vertical-align: middle;\n",
       "    }\n",
       "\n",
       "    .dataframe tbody tr th {\n",
       "        vertical-align: top;\n",
       "    }\n",
       "\n",
       "    .dataframe thead th {\n",
       "        text-align: right;\n",
       "    }\n",
       "</style>\n",
       "<table border=\"1\" class=\"dataframe\">\n",
       "  <thead>\n",
       "    <tr style=\"text-align: right;\">\n",
       "      <th></th>\n",
       "      <th>Linear_Regression</th>\n",
       "      <th>Logistic_Regression</th>\n",
       "      <th>Random_Forests</th>\n",
       "    </tr>\n",
       "  </thead>\n",
       "  <tbody>\n",
       "    <tr>\n",
       "      <th>accuracy</th>\n",
       "      <td>0.729249</td>\n",
       "      <td>0.726485</td>\n",
       "      <td>0.736036</td>\n",
       "    </tr>\n",
       "    <tr>\n",
       "      <th>precision</th>\n",
       "      <td>0.710909</td>\n",
       "      <td>0.700142</td>\n",
       "      <td>0.732577</td>\n",
       "    </tr>\n",
       "    <tr>\n",
       "      <th>recall</th>\n",
       "      <td>0.693118</td>\n",
       "      <td>0.686131</td>\n",
       "      <td>0.654481</td>\n",
       "    </tr>\n",
       "    <tr>\n",
       "      <th>f1</th>\n",
       "      <td>0.700559</td>\n",
       "      <td>0.690193</td>\n",
       "      <td>0.687936</td>\n",
       "    </tr>\n",
       "  </tbody>\n",
       "</table>\n",
       "</div>"
      ],
      "text/plain": [
       "           Linear_Regression  Logistic_Regression  Random_Forests\n",
       "accuracy            0.729249             0.726485        0.736036\n",
       "precision           0.710909             0.700142        0.732577\n",
       "recall              0.693118             0.686131        0.654481\n",
       "f1                  0.700559             0.690193        0.687936"
      ]
     },
     "execution_count": 74,
     "metadata": {},
     "output_type": "execute_result"
    }
   ],
   "source": [
    "# calculate Linear regression, logistic regression, random forest results again using all features\n",
    "linRegDF = cross_val_LinReg_DF(X,y)\n",
    "logRegDF = cross_val_LogReg_DF(X,y)\n",
    "RandomForestDF = cross_val_RandomForest_DF(X,y)\n",
    "# merge all 3 models into dataframe\n",
    "ResultsDF_allFeatures = pd.concat([linRegDF, logRegDF, RandomForestDF], axis=1)\n",
    "ResultsDF_allFeatures"
   ]
  },
  {
   "cell_type": "markdown",
   "metadata": {},
   "source": [
    "#### 5.3.2 High correlation features only\n",
    "- We will now repeat the tests using the high correlation features identified in part (1.2.3)\n",
    "- Again we set up the dataframe but now we use the list of high_correlation_features only"
   ]
  },
  {
   "cell_type": "code",
   "execution_count": 75,
   "metadata": {},
   "outputs": [
    {
     "name": "stdout",
     "output_type": "stream",
     "text": [
      "Number of features:  5\n"
     ]
    }
   ],
   "source": [
    "df_highCorr = pd.get_dummies(df)\n",
    "y = df_highCorr[\"RiskPerformance\"]\n",
    "X = df_highCorr[high_correlation_features]\n",
    "print(\"Number of features: \", len(X.columns))"
   ]
  },
  {
   "cell_type": "code",
   "execution_count": 76,
   "metadata": {},
   "outputs": [
    {
     "data": {
      "text/html": [
       "<div>\n",
       "<style scoped>\n",
       "    .dataframe tbody tr th:only-of-type {\n",
       "        vertical-align: middle;\n",
       "    }\n",
       "\n",
       "    .dataframe tbody tr th {\n",
       "        vertical-align: top;\n",
       "    }\n",
       "\n",
       "    .dataframe thead th {\n",
       "        text-align: right;\n",
       "    }\n",
       "</style>\n",
       "<table border=\"1\" class=\"dataframe\">\n",
       "  <thead>\n",
       "    <tr style=\"text-align: right;\">\n",
       "      <th></th>\n",
       "      <th>Linear_Regression</th>\n",
       "      <th>Logistic_Regression</th>\n",
       "      <th>Random_Forests</th>\n",
       "    </tr>\n",
       "  </thead>\n",
       "  <tbody>\n",
       "    <tr>\n",
       "      <th>accuracy</th>\n",
       "      <td>0.706324</td>\n",
       "      <td>0.713347</td>\n",
       "      <td>0.684832</td>\n",
       "    </tr>\n",
       "    <tr>\n",
       "      <th>precision</th>\n",
       "      <td>0.693866</td>\n",
       "      <td>0.693396</td>\n",
       "      <td>0.653611</td>\n",
       "    </tr>\n",
       "    <tr>\n",
       "      <th>recall</th>\n",
       "      <td>0.646223</td>\n",
       "      <td>0.659744</td>\n",
       "      <td>0.633073</td>\n",
       "    </tr>\n",
       "    <tr>\n",
       "      <th>f1</th>\n",
       "      <td>0.668308</td>\n",
       "      <td>0.673737</td>\n",
       "      <td>0.641088</td>\n",
       "    </tr>\n",
       "  </tbody>\n",
       "</table>\n",
       "</div>"
      ],
      "text/plain": [
       "           Linear_Regression  Logistic_Regression  Random_Forests\n",
       "accuracy            0.706324             0.713347        0.684832\n",
       "precision           0.693866             0.693396        0.653611\n",
       "recall              0.646223             0.659744        0.633073\n",
       "f1                  0.668308             0.673737        0.641088"
      ]
     },
     "execution_count": 76,
     "metadata": {},
     "output_type": "execute_result"
    }
   ],
   "source": [
    "# calculate Linear regression, logistic regression, random forest results again\n",
    "linRegDF = cross_val_LinReg_DF(X,y)\n",
    "logRegDF = cross_val_LogReg_DF(X,y)\n",
    "RandomForestDF = cross_val_RandomForest_DF(X,y)\n",
    "# merge all 3 models into dataframe\n",
    "ResultsDF_HighCorrFeatures = pd.concat([linRegDF, logRegDF, RandomForestDF], axis=1)\n",
    "ResultsDF_HighCorrFeatures"
   ]
  },
  {
   "cell_type": "markdown",
   "metadata": {},
   "source": [
    "### 5.3.3 Comparison of feature set so far"
   ]
  },
  {
   "cell_type": "code",
   "execution_count": 77,
   "metadata": {},
   "outputs": [
    {
     "name": "stdout",
     "output_type": "stream",
     "text": [
      "\n",
      "Scores using all features: 28 features (0 features dropped)\n",
      "===================================================================\n",
      "           Linear_Regression  Logistic_Regression  Random_Forests\n",
      "accuracy            0.729249             0.726485        0.736036\n",
      "precision           0.710909             0.700142        0.732577\n",
      "recall              0.693118             0.686131        0.654481\n",
      "f1                  0.700559             0.690193        0.687936\n",
      "\n",
      "Scores using subset of features: 18 features (10 features dropped - from part 1)\n",
      "===================================================================\n",
      "           Linear_Regression  Logistic_Regression  Random_Forests\n",
      "accuracy            0.721739             0.708641        0.716919\n",
      "precision           0.706316             0.687613        0.700728\n",
      "recall              0.674374             0.649218        0.648933\n",
      "f1                  0.688639             0.666199        0.670355\n",
      "\n",
      "Scores using high Correlation features only: 5 features (23 features dropped)\n",
      "===================================================================\n",
      "           Linear_Regression  Logistic_Regression  Random_Forests\n",
      "accuracy            0.706324             0.713347        0.684832\n",
      "precision           0.693866             0.693396        0.653611\n",
      "recall              0.646223             0.659744        0.633073\n",
      "f1                  0.668308             0.673737        0.641088\n"
     ]
    }
   ],
   "source": [
    "print(\"\\nScores using all features: 28 features (0 features dropped)\")\n",
    "print(\"===================================================================\")\n",
    "print(ResultsDF_allFeatures)\n",
    "print(\"\\nScores using subset of features: 18 features (10 features dropped - from part 1)\")\n",
    "print(\"===================================================================\")\n",
    "print(ResultsDF)\n",
    "print(\"\\nScores using high Correlation features only: 5 features (23 features dropped)\")\n",
    "print(\"===================================================================\")\n",
    "print(ResultsDF_HighCorrFeatures)"
   ]
  },
  {
   "cell_type": "markdown",
   "metadata": {},
   "source": [
    "We can see from the above set of results that there is very little reduction in accuracy as we remove a significant number of low value features. We see that linear and logistic regression models are the most stable as we reduce the number of features. On average we get a 2-4% reduction in scores for an 80% reduction in the number of features. For Random forests there is a more significant reduction in scores but it is still not too bad."
   ]
  },
  {
   "cell_type": "markdown",
   "metadata": {},
   "source": [
    "### 5.4 Further optimisations\n",
    "- There are two possible options for optimizing the linear and logistic regression models\n",
    "    - Deriving new features - All of the derived features proposed in homework 1 performed poorly and so additional features will not be proposed.\n",
    "    - Further reviewing the existing features to find the best combination - This has already been attempted \n",
    "- We will therefore focus in the random forest model to see what optimization is possible. We will look at the following:\n",
    "    1. Find best performing Max_Depth of decision tree while keeping accuracy high - reduce potential for overfitting and speed up model \n",
    "    2. Find lowest number estimators while keeping accuracy high- reduce unnecessary estimators as will slow down the model\n",
    "    3. Find best preforming list of features ranked by feature importance - As we know there are many feature that add little the the model. Removing them will help generalise the model\n",
    "        - Results here can be applied to all models "
   ]
  },
  {
   "cell_type": "markdown",
   "metadata": {},
   "source": [
    "#### 5.4.1 Optimise Max Depth\n",
    "**Note: This calculation may take some time**"
   ]
  },
  {
   "cell_type": "code",
   "execution_count": 78,
   "metadata": {},
   "outputs": [
    {
     "data": {
      "text/html": [
       "<div>\n",
       "<style scoped>\n",
       "    .dataframe tbody tr th:only-of-type {\n",
       "        vertical-align: middle;\n",
       "    }\n",
       "\n",
       "    .dataframe tbody tr th {\n",
       "        vertical-align: top;\n",
       "    }\n",
       "\n",
       "    .dataframe thead th {\n",
       "        text-align: right;\n",
       "    }\n",
       "</style>\n",
       "<table border=\"1\" class=\"dataframe\">\n",
       "  <thead>\n",
       "    <tr style=\"text-align: right;\">\n",
       "      <th></th>\n",
       "      <th>depth=1</th>\n",
       "      <th>depth=2</th>\n",
       "      <th>depth=3</th>\n",
       "      <th>depth=4</th>\n",
       "      <th>depth=5</th>\n",
       "      <th>depth=6</th>\n",
       "      <th>depth=7</th>\n",
       "      <th>depth=8</th>\n",
       "      <th>depth=9</th>\n",
       "      <th>depth=10</th>\n",
       "      <th>no_max_depth</th>\n",
       "    </tr>\n",
       "  </thead>\n",
       "  <tbody>\n",
       "    <tr>\n",
       "      <th>accuracy</th>\n",
       "      <td>0.712171</td>\n",
       "      <td>0.731232</td>\n",
       "      <td>0.732409</td>\n",
       "      <td>0.727675</td>\n",
       "      <td>0.730070</td>\n",
       "      <td>0.733627</td>\n",
       "      <td>0.737185</td>\n",
       "      <td>0.731275</td>\n",
       "      <td>0.728880</td>\n",
       "      <td>0.728880</td>\n",
       "      <td>0.736036</td>\n",
       "    </tr>\n",
       "    <tr>\n",
       "      <th>precision</th>\n",
       "      <td>0.732053</td>\n",
       "      <td>0.731310</td>\n",
       "      <td>0.726792</td>\n",
       "      <td>0.715228</td>\n",
       "      <td>0.716467</td>\n",
       "      <td>0.718967</td>\n",
       "      <td>0.724541</td>\n",
       "      <td>0.718549</td>\n",
       "      <td>0.714260</td>\n",
       "      <td>0.715973</td>\n",
       "      <td>0.732577</td>\n",
       "    </tr>\n",
       "    <tr>\n",
       "      <th>recall</th>\n",
       "      <td>0.570057</td>\n",
       "      <td>0.636131</td>\n",
       "      <td>0.654552</td>\n",
       "      <td>0.657112</td>\n",
       "      <td>0.664936</td>\n",
       "      <td>0.672902</td>\n",
       "      <td>0.675249</td>\n",
       "      <td>0.662304</td>\n",
       "      <td>0.667354</td>\n",
       "      <td>0.662162</td>\n",
       "      <td>0.654481</td>\n",
       "    </tr>\n",
       "    <tr>\n",
       "      <th>f1</th>\n",
       "      <td>0.636917</td>\n",
       "      <td>0.676798</td>\n",
       "      <td>0.685038</td>\n",
       "      <td>0.681448</td>\n",
       "      <td>0.686230</td>\n",
       "      <td>0.691958</td>\n",
       "      <td>0.695587</td>\n",
       "      <td>0.686145</td>\n",
       "      <td>0.686545</td>\n",
       "      <td>0.683855</td>\n",
       "      <td>0.687936</td>\n",
       "    </tr>\n",
       "  </tbody>\n",
       "</table>\n",
       "</div>"
      ],
      "text/plain": [
       "            depth=1   depth=2   depth=3   depth=4   depth=5   depth=6  \\\n",
       "accuracy   0.712171  0.731232  0.732409  0.727675  0.730070  0.733627   \n",
       "precision  0.732053  0.731310  0.726792  0.715228  0.716467  0.718967   \n",
       "recall     0.570057  0.636131  0.654552  0.657112  0.664936  0.672902   \n",
       "f1         0.636917  0.676798  0.685038  0.681448  0.686230  0.691958   \n",
       "\n",
       "            depth=7   depth=8   depth=9  depth=10  no_max_depth  \n",
       "accuracy   0.737185  0.731275  0.728880  0.728880      0.736036  \n",
       "precision  0.724541  0.718549  0.714260  0.715973      0.732577  \n",
       "recall     0.675249  0.662304  0.667354  0.662162      0.654481  \n",
       "f1         0.695587  0.686145  0.686545  0.683855      0.687936  "
      ]
     },
     "execution_count": 78,
     "metadata": {},
     "output_type": "execute_result"
    }
   ],
   "source": [
    "# setup dataframe\n",
    "df_all = pd.get_dummies(df)\n",
    "y = df_all[\"RiskPerformance\"]\n",
    "X = df_all.drop([\"RiskPerformance\"],1)\n",
    "\n",
    "# initialised empty daraframe\n",
    "RandomForest_Depth = pd.DataFrame()\n",
    "\n",
    "# calculate cross val score incrementing max depth by 1 each iteration\n",
    "# append results to dataframe\n",
    "for i in range(1,11):\n",
    "    df1 = cross_val_RandomForest_DF(X,y,i)\n",
    "    df1.rename(columns={'Random_Forests':f'depth={i}'}, inplace=True)\n",
    "    RandomForest_Depth = pd.concat([RandomForest_Depth, df1], axis=1)\n",
    "\n",
    "# same calculation but use no max depth this time\n",
    "no_max_depth = cross_val_RandomForest_DF(X,y)\n",
    "no_max_depth.rename(columns={'Random_Forests':f'no_max_depth'}, inplace=True)\n",
    "RandomForest_Depth = pd.concat([RandomForest_Depth, no_max_depth], axis=1)\n",
    "RandomForest_Depth"
   ]
  },
  {
   "cell_type": "markdown",
   "metadata": {},
   "source": [
    "We can see from above that the sweet spot appears to be with a max depth of 6. This will vary between datasets but it does let us know that there is little to be gained by having max_depth=None. Max_depth=None will significantly increase the model size. "
   ]
  },
  {
   "cell_type": "markdown",
   "metadata": {},
   "source": [
    "#### 5.4.2 Optimise Number of estimators\n",
    "**Note: This calculation may take some time**"
   ]
  },
  {
   "cell_type": "code",
   "execution_count": 79,
   "metadata": {},
   "outputs": [
    {
     "data": {
      "text/html": [
       "<div>\n",
       "<style scoped>\n",
       "    .dataframe tbody tr th:only-of-type {\n",
       "        vertical-align: middle;\n",
       "    }\n",
       "\n",
       "    .dataframe tbody tr th {\n",
       "        vertical-align: top;\n",
       "    }\n",
       "\n",
       "    .dataframe thead th {\n",
       "        text-align: right;\n",
       "    }\n",
       "</style>\n",
       "<table border=\"1\" class=\"dataframe\">\n",
       "  <thead>\n",
       "    <tr style=\"text-align: right;\">\n",
       "      <th></th>\n",
       "      <th>estimators=1</th>\n",
       "      <th>estimators=2</th>\n",
       "      <th>estimators=4</th>\n",
       "      <th>estimators=8</th>\n",
       "      <th>estimators=16</th>\n",
       "      <th>estimators=32</th>\n",
       "      <th>estimators=64</th>\n",
       "      <th>estimators=100</th>\n",
       "      <th>estimators=200</th>\n",
       "    </tr>\n",
       "  </thead>\n",
       "  <tbody>\n",
       "    <tr>\n",
       "      <th>accuracy</th>\n",
       "      <td>0.634958</td>\n",
       "      <td>0.633824</td>\n",
       "      <td>0.668235</td>\n",
       "      <td>0.707493</td>\n",
       "      <td>0.705140</td>\n",
       "      <td>0.726527</td>\n",
       "      <td>0.732451</td>\n",
       "      <td>0.736036</td>\n",
       "      <td>0.739580</td>\n",
       "    </tr>\n",
       "    <tr>\n",
       "      <th>precision</th>\n",
       "      <td>0.596548</td>\n",
       "      <td>0.670008</td>\n",
       "      <td>0.691377</td>\n",
       "      <td>0.720397</td>\n",
       "      <td>0.699010</td>\n",
       "      <td>0.718573</td>\n",
       "      <td>0.720262</td>\n",
       "      <td>0.732577</td>\n",
       "      <td>0.729992</td>\n",
       "    </tr>\n",
       "    <tr>\n",
       "      <th>recall</th>\n",
       "      <td>0.596373</td>\n",
       "      <td>0.364154</td>\n",
       "      <td>0.490754</td>\n",
       "      <td>0.580725</td>\n",
       "      <td>0.607183</td>\n",
       "      <td>0.638762</td>\n",
       "      <td>0.657041</td>\n",
       "      <td>0.654481</td>\n",
       "      <td>0.667496</td>\n",
       "    </tr>\n",
       "    <tr>\n",
       "      <th>f1</th>\n",
       "      <td>0.595040</td>\n",
       "      <td>0.466449</td>\n",
       "      <td>0.567216</td>\n",
       "      <td>0.636889</td>\n",
       "      <td>0.641854</td>\n",
       "      <td>0.672703</td>\n",
       "      <td>0.683984</td>\n",
       "      <td>0.687936</td>\n",
       "      <td>0.694209</td>\n",
       "    </tr>\n",
       "  </tbody>\n",
       "</table>\n",
       "</div>"
      ],
      "text/plain": [
       "           estimators=1  estimators=2  estimators=4  estimators=8  \\\n",
       "accuracy       0.634958      0.633824      0.668235      0.707493   \n",
       "precision      0.596548      0.670008      0.691377      0.720397   \n",
       "recall         0.596373      0.364154      0.490754      0.580725   \n",
       "f1             0.595040      0.466449      0.567216      0.636889   \n",
       "\n",
       "           estimators=16  estimators=32  estimators=64  estimators=100  \\\n",
       "accuracy        0.705140       0.726527       0.732451        0.736036   \n",
       "precision       0.699010       0.718573       0.720262        0.732577   \n",
       "recall          0.607183       0.638762       0.657041        0.654481   \n",
       "f1              0.641854       0.672703       0.683984        0.687936   \n",
       "\n",
       "           estimators=200  \n",
       "accuracy         0.739580  \n",
       "precision        0.729992  \n",
       "recall           0.667496  \n",
       "f1               0.694209  "
      ]
     },
     "execution_count": 79,
     "metadata": {},
     "output_type": "execute_result"
    }
   ],
   "source": [
    "# setup dataframe\n",
    "df_all = pd.get_dummies(df)\n",
    "y = df_all[\"RiskPerformance\"]\n",
    "X = df_all.drop([\"RiskPerformance\"],1)\n",
    "\n",
    "# initialised empty daraframe\n",
    "RandomForest_Estimators = pd.DataFrame()\n",
    "\n",
    "n_estimators = [1, 2, 4, 8, 16, 32, 64, 100, 200]\n",
    "\n",
    "for item in n_estimators:\n",
    "    df1 = cross_val_RandomForest_DF(X,y,estimators=item)\n",
    "    df1.rename(columns={'Random_Forests':f'estimators={item}'}, inplace=True)\n",
    "    RandomForest_Estimators = pd.concat([RandomForest_Estimators, df1], axis=1)\n",
    "\n",
    "RandomForest_Estimators"
   ]
  },
  {
   "cell_type": "markdown",
   "metadata": {},
   "source": [
    "We can see from the above dataframe that accuracy continues to improve with increasing number of estimators. I hoped to see the accuracy level off quickly but it does seem to continue to increase after 100. For the sake of keeping the model size manageable we will keep the number of estimators at the default of 100"
   ]
  },
  {
   "cell_type": "markdown",
   "metadata": {},
   "source": [
    "#### 5.4.3 Optimise Number of features\n",
    "- First calculate feature order of importance using all features"
   ]
  },
  {
   "cell_type": "code",
   "execution_count": 80,
   "metadata": {},
   "outputs": [
    {
     "data": {
      "text/html": [
       "<div>\n",
       "<style scoped>\n",
       "    .dataframe tbody tr th:only-of-type {\n",
       "        vertical-align: middle;\n",
       "    }\n",
       "\n",
       "    .dataframe tbody tr th {\n",
       "        vertical-align: top;\n",
       "    }\n",
       "\n",
       "    .dataframe thead th {\n",
       "        text-align: right;\n",
       "    }\n",
       "</style>\n",
       "<table border=\"1\" class=\"dataframe\">\n",
       "  <thead>\n",
       "    <tr style=\"text-align: right;\">\n",
       "      <th></th>\n",
       "      <th>importance</th>\n",
       "    </tr>\n",
       "    <tr>\n",
       "      <th>feature</th>\n",
       "      <th></th>\n",
       "    </tr>\n",
       "  </thead>\n",
       "  <tbody>\n",
       "    <tr>\n",
       "      <th>ExternalRiskEstimate</th>\n",
       "      <td>0.124572</td>\n",
       "    </tr>\n",
       "    <tr>\n",
       "      <th>NetFractionRevolvingBurden</th>\n",
       "      <td>0.076364</td>\n",
       "    </tr>\n",
       "    <tr>\n",
       "      <th>PercentTradesWBalance</th>\n",
       "      <td>0.066923</td>\n",
       "    </tr>\n",
       "    <tr>\n",
       "      <th>MSinceOldestTradeOpen</th>\n",
       "      <td>0.060685</td>\n",
       "    </tr>\n",
       "    <tr>\n",
       "      <th>AverageMInFile</th>\n",
       "      <td>0.060453</td>\n",
       "    </tr>\n",
       "    <tr>\n",
       "      <th>NetFractionInstallBurden_imputation</th>\n",
       "      <td>0.046655</td>\n",
       "    </tr>\n",
       "    <tr>\n",
       "      <th>PercentInstallTrades</th>\n",
       "      <td>0.045452</td>\n",
       "    </tr>\n",
       "    <tr>\n",
       "      <th>NumSatisfactoryTrades</th>\n",
       "      <td>0.045358</td>\n",
       "    </tr>\n",
       "    <tr>\n",
       "      <th>MSinceMostRecentTradeOpen</th>\n",
       "      <td>0.044126</td>\n",
       "    </tr>\n",
       "    <tr>\n",
       "      <th>MSinceMostRecentDelq</th>\n",
       "      <td>0.041912</td>\n",
       "    </tr>\n",
       "    <tr>\n",
       "      <th>NumTotalTrades</th>\n",
       "      <td>0.037093</td>\n",
       "    </tr>\n",
       "    <tr>\n",
       "      <th>NumRevolvingTradesWBalance</th>\n",
       "      <td>0.036963</td>\n",
       "    </tr>\n",
       "    <tr>\n",
       "      <th>NumTradesWBalance</th>\n",
       "      <td>0.035363</td>\n",
       "    </tr>\n",
       "    <tr>\n",
       "      <th>PercentTradesNeverDelq</th>\n",
       "      <td>0.033421</td>\n",
       "    </tr>\n",
       "    <tr>\n",
       "      <th>PercentSatisfactoryTrades</th>\n",
       "      <td>0.033306</td>\n",
       "    </tr>\n",
       "    <tr>\n",
       "      <th>MSinceMostRecentInqexcl7days</th>\n",
       "      <td>0.029440</td>\n",
       "    </tr>\n",
       "    <tr>\n",
       "      <th>NumBank2NatlTradesWHighUtilization</th>\n",
       "      <td>0.029424</td>\n",
       "    </tr>\n",
       "    <tr>\n",
       "      <th>NumInstallTradesWBalance</th>\n",
       "      <td>0.023159</td>\n",
       "    </tr>\n",
       "    <tr>\n",
       "      <th>NumTradesOpeninLast12M</th>\n",
       "      <td>0.021190</td>\n",
       "    </tr>\n",
       "    <tr>\n",
       "      <th>NumInqLast6Mexcl7days</th>\n",
       "      <td>0.019395</td>\n",
       "    </tr>\n",
       "    <tr>\n",
       "      <th>NumInqLast6M</th>\n",
       "      <td>0.017208</td>\n",
       "    </tr>\n",
       "    <tr>\n",
       "      <th>NumTrades60Ever2DerogPubRec</th>\n",
       "      <td>0.012508</td>\n",
       "    </tr>\n",
       "    <tr>\n",
       "      <th>DelqLast12M_1</th>\n",
       "      <td>0.007346</td>\n",
       "    </tr>\n",
       "    <tr>\n",
       "      <th>NumTrades90Ever2DerogPubRec</th>\n",
       "      <td>0.007157</td>\n",
       "    </tr>\n",
       "    <tr>\n",
       "      <th>MaxDelqEver_7</th>\n",
       "      <td>0.006451</td>\n",
       "    </tr>\n",
       "    <tr>\n",
       "      <th>MaxDelq2PublicRecLast12M_7</th>\n",
       "      <td>0.005991</td>\n",
       "    </tr>\n",
       "    <tr>\n",
       "      <th>DelqEver_1</th>\n",
       "      <td>0.004985</td>\n",
       "    </tr>\n",
       "    <tr>\n",
       "      <th>DelqLast12M_0</th>\n",
       "      <td>0.004833</td>\n",
       "    </tr>\n",
       "    <tr>\n",
       "      <th>MaxDelq2PublicRecLast12M_6</th>\n",
       "      <td>0.004004</td>\n",
       "    </tr>\n",
       "    <tr>\n",
       "      <th>DelqEver_0</th>\n",
       "      <td>0.003466</td>\n",
       "    </tr>\n",
       "    <tr>\n",
       "      <th>MaxDelqEver_2</th>\n",
       "      <td>0.003362</td>\n",
       "    </tr>\n",
       "    <tr>\n",
       "      <th>MaxDelqEver_6</th>\n",
       "      <td>0.003134</td>\n",
       "    </tr>\n",
       "    <tr>\n",
       "      <th>MaxDelqEver_5</th>\n",
       "      <td>0.002959</td>\n",
       "    </tr>\n",
       "    <tr>\n",
       "      <th>MaxDelqEver_4</th>\n",
       "      <td>0.001682</td>\n",
       "    </tr>\n",
       "    <tr>\n",
       "      <th>MaxDelq2PublicRecLast12M_2</th>\n",
       "      <td>0.001481</td>\n",
       "    </tr>\n",
       "    <tr>\n",
       "      <th>MaxDelqEver_3</th>\n",
       "      <td>0.001422</td>\n",
       "    </tr>\n",
       "    <tr>\n",
       "      <th>MaxDelq2PublicRecLast12M_5</th>\n",
       "      <td>0.000390</td>\n",
       "    </tr>\n",
       "    <tr>\n",
       "      <th>MaxDelq2PublicRecLast12M_3</th>\n",
       "      <td>0.000365</td>\n",
       "    </tr>\n",
       "    <tr>\n",
       "      <th>MaxDelq2PublicRecLast12M_4</th>\n",
       "      <td>0.000000</td>\n",
       "    </tr>\n",
       "  </tbody>\n",
       "</table>\n",
       "</div>"
      ],
      "text/plain": [
       "                                     importance\n",
       "feature                                        \n",
       "ExternalRiskEstimate                   0.124572\n",
       "NetFractionRevolvingBurden             0.076364\n",
       "PercentTradesWBalance                  0.066923\n",
       "MSinceOldestTradeOpen                  0.060685\n",
       "AverageMInFile                         0.060453\n",
       "NetFractionInstallBurden_imputation    0.046655\n",
       "PercentInstallTrades                   0.045452\n",
       "NumSatisfactoryTrades                  0.045358\n",
       "MSinceMostRecentTradeOpen              0.044126\n",
       "MSinceMostRecentDelq                   0.041912\n",
       "NumTotalTrades                         0.037093\n",
       "NumRevolvingTradesWBalance             0.036963\n",
       "NumTradesWBalance                      0.035363\n",
       "PercentTradesNeverDelq                 0.033421\n",
       "PercentSatisfactoryTrades              0.033306\n",
       "MSinceMostRecentInqexcl7days           0.029440\n",
       "NumBank2NatlTradesWHighUtilization     0.029424\n",
       "NumInstallTradesWBalance               0.023159\n",
       "NumTradesOpeninLast12M                 0.021190\n",
       "NumInqLast6Mexcl7days                  0.019395\n",
       "NumInqLast6M                           0.017208\n",
       "NumTrades60Ever2DerogPubRec            0.012508\n",
       "DelqLast12M_1                          0.007346\n",
       "NumTrades90Ever2DerogPubRec            0.007157\n",
       "MaxDelqEver_7                          0.006451\n",
       "MaxDelq2PublicRecLast12M_7             0.005991\n",
       "DelqEver_1                             0.004985\n",
       "DelqLast12M_0                          0.004833\n",
       "MaxDelq2PublicRecLast12M_6             0.004004\n",
       "DelqEver_0                             0.003466\n",
       "MaxDelqEver_2                          0.003362\n",
       "MaxDelqEver_6                          0.003134\n",
       "MaxDelqEver_5                          0.002959\n",
       "MaxDelqEver_4                          0.001682\n",
       "MaxDelq2PublicRecLast12M_2             0.001481\n",
       "MaxDelqEver_3                          0.001422\n",
       "MaxDelq2PublicRecLast12M_5             0.000390\n",
       "MaxDelq2PublicRecLast12M_3             0.000365\n",
       "MaxDelq2PublicRecLast12M_4             0.000000"
      ]
     },
     "execution_count": 80,
     "metadata": {},
     "output_type": "execute_result"
    }
   ],
   "source": [
    "# setup dataframe\n",
    "df_all = pd.get_dummies(df)\n",
    "y = df_all[\"RiskPerformance\"]\n",
    "X = df_all.drop([\"RiskPerformance\"],1)\n",
    "X_train, X_test, y_train, y_test = train_test_split(X, y, random_state=1 , test_size=0.3)\n",
    "\n",
    "# Train RF with 100 trees\n",
    "rfc = RandomForestClassifier(n_estimators=100, max_features='auto', oob_score=True, random_state=1)\n",
    "rfc.fit(X_train, y_train)\n",
    "importance = pd.DataFrame({'feature': X_train.columns, 'importance':rfc.feature_importances_})\n",
    "importance.sort_values('importance', ascending=False, inplace=True)\n",
    "importance.set_index('feature',1, inplace=True)\n",
    "importance"
   ]
  },
  {
   "cell_type": "markdown",
   "metadata": {},
   "source": [
    "- Next calculate the optimum number of features\n",
    "- There are 39 features in total (more due to dummy features)\n",
    "- We will only calculate the top 22 features to keep the execution time down\n",
    "- After the top 22 features we can see from the importance list that any additional features add little to no value\n",
    "- We can see worst preforming features are the categorical which was not expected\n",
    "\n",
    "**Note: This calculation may take some time**"
   ]
  },
  {
   "cell_type": "code",
   "execution_count": 81,
   "metadata": {},
   "outputs": [
    {
     "data": {
      "text/html": [
       "<div>\n",
       "<style scoped>\n",
       "    .dataframe tbody tr th:only-of-type {\n",
       "        vertical-align: middle;\n",
       "    }\n",
       "\n",
       "    .dataframe tbody tr th {\n",
       "        vertical-align: top;\n",
       "    }\n",
       "\n",
       "    .dataframe thead th {\n",
       "        text-align: right;\n",
       "    }\n",
       "</style>\n",
       "<table border=\"1\" class=\"dataframe\">\n",
       "  <thead>\n",
       "    <tr style=\"text-align: right;\">\n",
       "      <th></th>\n",
       "      <th>features=1</th>\n",
       "      <th>features=2</th>\n",
       "      <th>features=3</th>\n",
       "      <th>features=4</th>\n",
       "      <th>features=5</th>\n",
       "      <th>features=6</th>\n",
       "      <th>features=7</th>\n",
       "      <th>features=8</th>\n",
       "      <th>features=9</th>\n",
       "      <th>features=10</th>\n",
       "      <th>...</th>\n",
       "      <th>features=13</th>\n",
       "      <th>features=14</th>\n",
       "      <th>features=15</th>\n",
       "      <th>features=16</th>\n",
       "      <th>features=17</th>\n",
       "      <th>features=18</th>\n",
       "      <th>features=19</th>\n",
       "      <th>features=20</th>\n",
       "      <th>features=21</th>\n",
       "      <th>features=22</th>\n",
       "    </tr>\n",
       "  </thead>\n",
       "  <tbody>\n",
       "    <tr>\n",
       "      <th>accuracy</th>\n",
       "      <td>0.702647</td>\n",
       "      <td>0.680028</td>\n",
       "      <td>0.689566</td>\n",
       "      <td>0.699118</td>\n",
       "      <td>0.707479</td>\n",
       "      <td>0.716933</td>\n",
       "      <td>0.719370</td>\n",
       "      <td>0.727675</td>\n",
       "      <td>0.719342</td>\n",
       "      <td>0.733627</td>\n",
       "      <td>...</td>\n",
       "      <td>0.732409</td>\n",
       "      <td>0.734804</td>\n",
       "      <td>0.725280</td>\n",
       "      <td>0.720518</td>\n",
       "      <td>0.733627</td>\n",
       "      <td>0.731232</td>\n",
       "      <td>0.733627</td>\n",
       "      <td>0.731232</td>\n",
       "      <td>0.732451</td>\n",
       "      <td>0.731232</td>\n",
       "    </tr>\n",
       "    <tr>\n",
       "      <th>precision</th>\n",
       "      <td>0.686132</td>\n",
       "      <td>0.652804</td>\n",
       "      <td>0.658638</td>\n",
       "      <td>0.667223</td>\n",
       "      <td>0.681612</td>\n",
       "      <td>0.690465</td>\n",
       "      <td>0.703533</td>\n",
       "      <td>0.707639</td>\n",
       "      <td>0.697274</td>\n",
       "      <td>0.710889</td>\n",
       "      <td>...</td>\n",
       "      <td>0.714907</td>\n",
       "      <td>0.713140</td>\n",
       "      <td>0.706115</td>\n",
       "      <td>0.696651</td>\n",
       "      <td>0.709683</td>\n",
       "      <td>0.710909</td>\n",
       "      <td>0.713978</td>\n",
       "      <td>0.713509</td>\n",
       "      <td>0.713185</td>\n",
       "      <td>0.706323</td>\n",
       "    </tr>\n",
       "    <tr>\n",
       "      <th>recall</th>\n",
       "      <td>0.628023</td>\n",
       "      <td>0.630583</td>\n",
       "      <td>0.643741</td>\n",
       "      <td>0.659602</td>\n",
       "      <td>0.654267</td>\n",
       "      <td>0.672831</td>\n",
       "      <td>0.649075</td>\n",
       "      <td>0.672688</td>\n",
       "      <td>0.662162</td>\n",
       "      <td>0.688620</td>\n",
       "      <td>...</td>\n",
       "      <td>0.675391</td>\n",
       "      <td>0.688762</td>\n",
       "      <td>0.670057</td>\n",
       "      <td>0.672831</td>\n",
       "      <td>0.691323</td>\n",
       "      <td>0.683428</td>\n",
       "      <td>0.683499</td>\n",
       "      <td>0.675533</td>\n",
       "      <td>0.680725</td>\n",
       "      <td>0.688762</td>\n",
       "    </tr>\n",
       "    <tr>\n",
       "      <th>f1</th>\n",
       "      <td>0.655103</td>\n",
       "      <td>0.638284</td>\n",
       "      <td>0.648603</td>\n",
       "      <td>0.661208</td>\n",
       "      <td>0.664859</td>\n",
       "      <td>0.678241</td>\n",
       "      <td>0.671785</td>\n",
       "      <td>0.686835</td>\n",
       "      <td>0.675243</td>\n",
       "      <td>0.696418</td>\n",
       "      <td>...</td>\n",
       "      <td>0.690989</td>\n",
       "      <td>0.697573</td>\n",
       "      <td>0.684255</td>\n",
       "      <td>0.681073</td>\n",
       "      <td>0.698148</td>\n",
       "      <td>0.693161</td>\n",
       "      <td>0.695671</td>\n",
       "      <td>0.690923</td>\n",
       "      <td>0.693157</td>\n",
       "      <td>0.694646</td>\n",
       "    </tr>\n",
       "  </tbody>\n",
       "</table>\n",
       "<p>4 rows × 22 columns</p>\n",
       "</div>"
      ],
      "text/plain": [
       "           features=1  features=2  features=3  features=4  features=5  \\\n",
       "accuracy     0.702647    0.680028    0.689566    0.699118    0.707479   \n",
       "precision    0.686132    0.652804    0.658638    0.667223    0.681612   \n",
       "recall       0.628023    0.630583    0.643741    0.659602    0.654267   \n",
       "f1           0.655103    0.638284    0.648603    0.661208    0.664859   \n",
       "\n",
       "           features=6  features=7  features=8  features=9  features=10  ...  \\\n",
       "accuracy     0.716933    0.719370    0.727675    0.719342     0.733627  ...   \n",
       "precision    0.690465    0.703533    0.707639    0.697274     0.710889  ...   \n",
       "recall       0.672831    0.649075    0.672688    0.662162     0.688620  ...   \n",
       "f1           0.678241    0.671785    0.686835    0.675243     0.696418  ...   \n",
       "\n",
       "           features=13  features=14  features=15  features=16  features=17  \\\n",
       "accuracy      0.732409     0.734804     0.725280     0.720518     0.733627   \n",
       "precision     0.714907     0.713140     0.706115     0.696651     0.709683   \n",
       "recall        0.675391     0.688762     0.670057     0.672831     0.691323   \n",
       "f1            0.690989     0.697573     0.684255     0.681073     0.698148   \n",
       "\n",
       "           features=18  features=19  features=20  features=21  features=22  \n",
       "accuracy      0.731232     0.733627     0.731232     0.732451     0.731232  \n",
       "precision     0.710909     0.713978     0.713509     0.713185     0.706323  \n",
       "recall        0.683428     0.683499     0.675533     0.680725     0.688762  \n",
       "f1            0.693161     0.695671     0.690923     0.693157     0.694646  \n",
       "\n",
       "[4 rows x 22 columns]"
      ]
     },
     "execution_count": 81,
     "metadata": {},
     "output_type": "execute_result"
    }
   ],
   "source": [
    "# set up empty list to store features\n",
    "list_features = []\n",
    "\n",
    "# set up empty dataframe to store results\n",
    "RandomForest_Features = pd.DataFrame()\n",
    "count=0\n",
    "\n",
    "# loop over 'importance' dataframe adding 1 feature per loop (will be the next most important feature)\n",
    "# each loop calculates the score for the current number of features in the list_features\n",
    "# Each loop appends result to RandomForest_Features dataframe\n",
    "for index, row in importance.iterrows():\n",
    "    # only calculate the top 22 features to keep runtime down\n",
    "    if count < 22:\n",
    "        list_features.append(index)\n",
    "        X = df_all[list_features]\n",
    "        df1 = cross_val_RandomForest_DF(X,y, depth=6)\n",
    "        df1.rename(columns={'Random_Forests':f'features={len(list_features)}'}, inplace=True)\n",
    "        RandomForest_Features = pd.concat([RandomForest_Features, df1], axis=1)\n",
    "        count+=1\n",
    "    else:\n",
    "        break\n",
    "\n",
    "# to display all columns    \n",
    "#pd.set_option('display.max_columns', 40)\n",
    "RandomForest_Features  "
   ]
  },
  {
   "cell_type": "markdown",
   "metadata": {},
   "source": [
    "Here we see that after the top 10 features the accuracy of the model stabilises. Therefore was can trim the model to the optimum number of features i.e. 10 \n",
    "- It is interesting to note that we achieve reasonable accuracy using one feature only - External Risk Estimate. This had the highest correlation with the target from part 1 and also the highest importance in the random forest model.\n",
    "- The top three feature from the random forest importance list are also the top 3 correlated features from part 1\n",
    "\n",
    "We can now define our list of optimum features"
   ]
  },
  {
   "cell_type": "code",
   "execution_count": 82,
   "metadata": {},
   "outputs": [],
   "source": [
    "# set list of optimum features\n",
    "optimum_features = list_features[0:10]"
   ]
  },
  {
   "cell_type": "markdown",
   "metadata": {},
   "source": [
    "### 5.5  Finally review performance of all models using what we have learned so far\n",
    "- For all models use optimum_features based on random forests feature importance evaluation\n",
    "- For random forests model use max_depth=6 and keep default number estimators=100"
   ]
  },
  {
   "cell_type": "code",
   "execution_count": 83,
   "metadata": {},
   "outputs": [
    {
     "name": "stdout",
     "output_type": "stream",
     "text": [
      "Number of features:  10\n"
     ]
    },
    {
     "data": {
      "text/html": [
       "<div>\n",
       "<style scoped>\n",
       "    .dataframe tbody tr th:only-of-type {\n",
       "        vertical-align: middle;\n",
       "    }\n",
       "\n",
       "    .dataframe tbody tr th {\n",
       "        vertical-align: top;\n",
       "    }\n",
       "\n",
       "    .dataframe thead th {\n",
       "        text-align: right;\n",
       "    }\n",
       "</style>\n",
       "<table border=\"1\" class=\"dataframe\">\n",
       "  <thead>\n",
       "    <tr style=\"text-align: right;\">\n",
       "      <th></th>\n",
       "      <th>Linear_Regression</th>\n",
       "      <th>Logistic_Regression</th>\n",
       "      <th>Random_Forests</th>\n",
       "    </tr>\n",
       "  </thead>\n",
       "  <tbody>\n",
       "    <tr>\n",
       "      <th>accuracy</th>\n",
       "      <td>0.730435</td>\n",
       "      <td>0.733599</td>\n",
       "      <td>0.733627</td>\n",
       "    </tr>\n",
       "    <tr>\n",
       "      <th>precision</th>\n",
       "      <td>0.715018</td>\n",
       "      <td>0.713214</td>\n",
       "      <td>0.710889</td>\n",
       "    </tr>\n",
       "    <tr>\n",
       "      <th>recall</th>\n",
       "      <td>0.690090</td>\n",
       "      <td>0.689047</td>\n",
       "      <td>0.688620</td>\n",
       "    </tr>\n",
       "    <tr>\n",
       "      <th>f1</th>\n",
       "      <td>0.700773</td>\n",
       "      <td>0.697277</td>\n",
       "      <td>0.696418</td>\n",
       "    </tr>\n",
       "  </tbody>\n",
       "</table>\n",
       "</div>"
      ],
      "text/plain": [
       "           Linear_Regression  Logistic_Regression  Random_Forests\n",
       "accuracy            0.730435             0.733599        0.733627\n",
       "precision           0.715018             0.713214        0.710889\n",
       "recall              0.690090             0.689047        0.688620\n",
       "f1                  0.700773             0.697277        0.696418"
      ]
     },
     "execution_count": 83,
     "metadata": {},
     "output_type": "execute_result"
    }
   ],
   "source": [
    "df_optimum_features = pd.get_dummies(df)\n",
    "y = df_optimum_features[\"RiskPerformance\"]\n",
    "X = df_optimum_features[optimum_features]\n",
    "print(\"Number of features: \", len(X.columns))\n",
    "\n",
    "# calculate Linear regression, logistic regression, random forest results again\n",
    "linRegDF = cross_val_LinReg_DF(X,y)\n",
    "logRegDF = cross_val_LogReg_DF(X,y)\n",
    "RandomForestDF = cross_val_RandomForest_DF(X,y,depth=6,estimators=100)\n",
    "# merge all 3 models into dataframe\n",
    "ResultsDF_optimum_features = pd.concat([linRegDF, logRegDF, RandomForestDF], axis=1)\n",
    "ResultsDF_optimum_features"
   ]
  },
  {
   "cell_type": "markdown",
   "metadata": {},
   "source": [
    "####  Comparison of all"
   ]
  },
  {
   "cell_type": "code",
   "execution_count": 84,
   "metadata": {},
   "outputs": [
    {
     "name": "stdout",
     "output_type": "stream",
     "text": [
      "\n",
      "Scores using all features: 28 features (0 features dropped)\n",
      "===================================================================\n",
      "           Linear_Regression  Logistic_Regression  Random_Forests\n",
      "accuracy            0.729249             0.726485        0.736036\n",
      "precision           0.710909             0.700142        0.732577\n",
      "recall              0.693118             0.686131        0.654481\n",
      "f1                  0.700559             0.690193        0.687936\n",
      "\n",
      "Scores using subset of features: 18 features (10 features dropped - from part 1)\n",
      "===================================================================\n",
      "           Linear_Regression  Logistic_Regression  Random_Forests\n",
      "accuracy            0.721739             0.708641        0.716919\n",
      "precision           0.706316             0.687613        0.700728\n",
      "recall              0.674374             0.649218        0.648933\n",
      "f1                  0.688639             0.666199        0.670355\n",
      "\n",
      "Scores using high Correlation features: 5 features (23 features dropped)\n",
      "===================================================================\n",
      "           Linear_Regression  Logistic_Regression  Random_Forests\n",
      "accuracy            0.706324             0.713347        0.684832\n",
      "precision           0.693866             0.693396        0.653611\n",
      "recall              0.646223             0.659744        0.633073\n",
      "f1                  0.668308             0.673737        0.641088\n",
      "\n",
      "Scores using optimum features: 10 features (18 features dropped)\n",
      "===================================================================\n",
      "           Linear_Regression  Logistic_Regression  Random_Forests\n",
      "accuracy            0.730435             0.733599        0.733627\n",
      "precision           0.715018             0.713214        0.710889\n",
      "recall              0.690090             0.689047        0.688620\n",
      "f1                  0.700773             0.697277        0.696418\n"
     ]
    }
   ],
   "source": [
    "print(\"\\nScores using all features: 28 features (0 features dropped)\")\n",
    "print(\"===================================================================\")\n",
    "print(ResultsDF_allFeatures)\n",
    "print(\"\\nScores using subset of features: 18 features (10 features dropped - from part 1)\")\n",
    "print(\"===================================================================\")\n",
    "print(ResultsDF)\n",
    "print(\"\\nScores using high Correlation features: 5 features (23 features dropped)\")\n",
    "print(\"===================================================================\")\n",
    "print(ResultsDF_HighCorrFeatures)\n",
    "print(\"\\nScores using optimum features: 10 features (18 features dropped)\")\n",
    "print(\"===================================================================\")\n",
    "print(ResultsDF_optimum_features)"
   ]
  },
  {
   "cell_type": "markdown",
   "metadata": {},
   "source": [
    "- We can see from the comparison above that using the optimum features from the random forest evaluation performs best for all models. \n",
    "- This is a good result as we have trimmed the number of features and are achieving better scores all round. \n",
    "- We have also made some efficiency gains for the random forests model \n",
    "    - Finding sweet spot for the max depth (=6), which will in turn limit the chances of overfitting\n",
    "    - Finding the optimum number of estimators (=100) - this happens to be the default\n",
    "- The linear regression marginally preforms best but is not recommended as results could be skewed by valid outliers\n",
    "- The logistic and random forest models preform almost the same +/-1% and both could be used. "
   ]
  },
  {
   "cell_type": "markdown",
   "metadata": {},
   "source": [
    "### 5.6 Further work\n",
    "Additional evaluation measures could be preformed on each model that were outside the scope of this homework\n",
    "- Receiver Operating Characteristics (ROC) \n",
    "    - A Plot used to visualize how well our classifier is doing\n",
    "    - Tells us how good the model is for distinguishing given classes\n",
    "    - Plots False Positive Rate (FPR) against True Positive Rate (TPR)\n",
    "- Area Under ROC Curve (AUC) \n",
    "    - Measures the quality of the ROC curve by calculating the total area under the ROC curve\n",
    "    - The bigger the area covered, the better the model is at distinguishing the given classes"
   ]
  },
  {
   "cell_type": "markdown",
   "metadata": {},
   "source": [
    "### 5.7 Summary\n",
    "- 3 predictive models have been evaluated in this notebook, with all models preform similarly\n",
    "- The majority of the features in the dataset have been found to have little impact on the target\n",
    "- A number of optimisations have been made that have improved all models\n",
    "- The biggest effect is finding the optimised list of features as this can be applied to all models\n",
    "- The linear regression marginally preforms best but is not recommended as results could be skewed by valid outliers\n",
    "- The logistic and random forest models preform almost the same +/-1% and both could be used. \n",
    "- The logistic model is more lightweight and will be faster to retain, however provides marginally lower accuracy.\n",
    "\n",
    "#### Recommendations: \n",
    "1. Re-evaluate each model on the **whole** dataset\n",
    "2. Use the additional evaluation measures outlined in 5.6"
   ]
  }
 ],
 "metadata": {
  "kernelspec": {
   "display_name": "Python 3 (ipykernel)",
   "language": "python",
   "name": "python3"
  },
  "language_info": {
   "codemirror_mode": {
    "name": "ipython",
    "version": 3
   },
   "file_extension": ".py",
   "mimetype": "text/x-python",
   "name": "python",
   "nbconvert_exporter": "python",
   "pygments_lexer": "ipython3",
   "version": "3.9.5"
  }
 },
 "nbformat": 4,
 "nbformat_minor": 2
}
